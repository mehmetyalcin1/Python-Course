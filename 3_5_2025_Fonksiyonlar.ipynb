{
  "cells": [
    {
      "cell_type": "markdown",
      "metadata": {
        "id": "dYUN4-oUIQrV"
      },
      "source": [
        "## Fonksiyonlar"
      ]
    },
    {
      "cell_type": "markdown",
      "metadata": {
        "id": "jnEsaCDFIQrW"
      },
      "source": [
        "* Çok kod yazmak her zaman iyi bir şey demek değil.\n",
        "* Minimal ve okunabilir olması daha önemli.\n",
        "* Gereksiz kod tekrarından kaçınmak gerekir.\n",
        "* Bu konularda gayet yardımcı olabilecek bir yapıyı göreceğiz bugün - fonksiyonlar"
      ]
    },
    {
      "cell_type": "markdown",
      "metadata": {
        "id": "KQ88v4auIQrW"
      },
      "source": [
        "* Belirli Fonksiyonalite katan kod bloklarını belirli bir yapı altında tutup, o işleme ihtiyaç duyduğum zaman tekrar tekrar kullanabilirim. Bu yapı `fonksiyonlar`"
      ]
    },
    {
      "cell_type": "markdown",
      "metadata": {
        "id": "KnHJKHQ1IQrW"
      },
      "source": [
        "* Fonksiyonlar kodumuzda abstraction (soyutlama) ve decomposition (problemi küçük parçalara ayırma) (modülerlik) yapmamızı sağlar."
      ]
    },
    {
      "cell_type": "markdown",
      "metadata": {
        "id": "slahJe99IQrX"
      },
      "source": [
        "* Kodumuzun farklı yerlerinde kullanılabilecek, beraber bir mantık oluşturacak kodlarımı **fonksiyon** tanımlayıp içine yazacağım.\n",
        "\n",
        "* Fonksiyonların adı, parametreleri(0 veya daha fazla), açıklaması(opsiyoneli ama iyi bir pratik), ve kodları bulunur\n",
        "\n",
        "* Sadece adlarını yazınca çağrılmazlar. `()` ile çağırmamız lazım (`function call` veya ` function invocation` olarak geçer)"
      ]
    },
    {
      "cell_type": "markdown",
      "metadata": {
        "id": "LkzXzYfsIQrX"
      },
      "source": [
        "### return"
      ]
    },
    {
      "cell_type": "markdown",
      "metadata": {
        "id": "ULH6GBIDIQrX"
      },
      "source": [
        "* Bir fonksiyonu çalıştırdığımızda onun sonucuyla bir şeyler yapmak isteyebilirim. Sonucu bana versin diye özellikle söylemem lazım, bunu `return` keyword'ü ile sağlayacağız"
      ]
    },
    {
      "cell_type": "markdown",
      "metadata": {
        "id": "da0HULtwIQrX"
      },
      "source": [
        "* yazmasaydık fonksiyon hiç bir şey döndürmezdi"
      ]
    },
    {
      "cell_type": "markdown",
      "metadata": {
        "id": "yhRax051IQrX"
      },
      "source": [
        "* fonksiyon tanımladığımı python'a anlatmak için yapım:\n",
        "\n",
        "\n",
        "`def fonksiyonun_adı(input):`"
      ]
    },
    {
      "cell_type": "markdown",
      "metadata": {
        "id": "_0Ur0e8uIQrX"
      },
      "source": [
        "* öbür yapılarda da olduğu gibi, bir kod bloğunun belirttiğimiz yapıya ait olduğunu anlatmak için boşluk bırakarak içine yazmamız gerekiyor"
      ]
    },
    {
      "cell_type": "markdown",
      "metadata": {
        "id": "6Cp8jvPsIQrX"
      },
      "source": [
        "* Verdiğimiz değerin karesini alan bir fonksiyon yazalım"
      ]
    },
    {
      "cell_type": "code",
      "execution_count": null,
      "metadata": {
        "id": "hbOHuUDWIQrX"
      },
      "outputs": [],
      "source": [
        "def square(x):\n",
        "    x*x"
      ]
    },
    {
      "cell_type": "markdown",
      "metadata": {
        "id": "W77-J10RIQrX"
      },
      "source": [
        "* fonksiyonu tanımladıktan sonra tanımladığımız adla onu çağırabiliriz. yapımız şöyle olacak: `fonksiyonun_adı(inputlar)`, bir fonksiyonu çağırmak için inputlarını `()`'ın içine yazmalıyız. Bazı durumlarda hiç input olmayabilir, bazı durumlarda birden çok olabilir."
      ]
    },
    {
      "cell_type": "code",
      "execution_count": null,
      "metadata": {
        "id": "7XUzRGwnIQrX"
      },
      "outputs": [],
      "source": [
        "square(3)"
      ]
    },
    {
      "cell_type": "code",
      "execution_count": null,
      "metadata": {
        "colab": {
          "base_uri": "https://localhost:8080/"
        },
        "id": "1irfMfdQIQrY",
        "outputId": "d2596694-aaf6-4d8d-d243-af37bf6cef10"
      },
      "outputs": [
        {
          "output_type": "execute_result",
          "data": {
            "text/plain": [
              "NoneType"
            ]
          },
          "metadata": {},
          "execution_count": 4
        }
      ],
      "source": [
        "type(square(3))"
      ]
    },
    {
      "cell_type": "markdown",
      "metadata": {
        "id": "jIxuoTtiIQrY"
      },
      "source": [
        "* bize x*x i değer olarak vermedi. Vermesi için bana o değeri döndür diye özellikle söylemem lazım. Bunu `return` ile sağlıyoruz"
      ]
    },
    {
      "cell_type": "code",
      "execution_count": null,
      "metadata": {
        "id": "84C86FMCIQrY"
      },
      "outputs": [],
      "source": [
        "def square(x):\n",
        "    return x * x"
      ]
    },
    {
      "cell_type": "code",
      "source": [
        "square(5)"
      ],
      "metadata": {
        "colab": {
          "base_uri": "https://localhost:8080/"
        },
        "id": "zYLlMOm4u8-e",
        "outputId": "3813578b-3aa3-4c90-bfd4-800f83e4b730"
      },
      "execution_count": null,
      "outputs": [
        {
          "output_type": "execute_result",
          "data": {
            "text/plain": [
              "25"
            ]
          },
          "metadata": {},
          "execution_count": 12
        }
      ]
    },
    {
      "cell_type": "code",
      "execution_count": null,
      "metadata": {
        "id": "Uvrp_gqlIQrY"
      },
      "outputs": [],
      "source": [
        "def square(x):\n",
        "    karesi=x*x\n",
        "    #print(x)\n",
        "    return karesi"
      ]
    },
    {
      "cell_type": "code",
      "execution_count": null,
      "metadata": {
        "colab": {
          "base_uri": "https://localhost:8080/"
        },
        "id": "TQL0zafdIQrY",
        "outputId": "07f56110-1454-4e8c-ec7c-fd79036153ed"
      },
      "outputs": [
        {
          "output_type": "stream",
          "name": "stdout",
          "text": [
            "5\n"
          ]
        },
        {
          "output_type": "execute_result",
          "data": {
            "text/plain": [
              "25"
            ]
          },
          "metadata": {},
          "execution_count": 18
        }
      ],
      "source": [
        "square(5)"
      ]
    },
    {
      "cell_type": "code",
      "execution_count": null,
      "metadata": {
        "id": "BMvXXnZCIQrZ",
        "outputId": "215409b9-1206-4407-d604-25a9535f0c4a"
      },
      "outputs": [
        {
          "name": "stdout",
          "output_type": "stream",
          "text": [
            "bir sayı yazınız5\n",
            "karesi 25\n"
          ]
        }
      ],
      "source": [
        "#fonksiyonun eski hali bu şekilde idi.\n",
        "sayı=int(input(\"bir sayı yazınız\"))\n",
        "\n",
        "çarpım= sayı*sayı\n",
        "print(\"karesi\", çarpım)"
      ]
    },
    {
      "cell_type": "code",
      "execution_count": null,
      "metadata": {
        "id": "H3ek0nWXIQrZ",
        "outputId": "de88d5e2-40d3-409e-f03c-240edaf7497a",
        "colab": {
          "base_uri": "https://localhost:8080/"
        }
      },
      "outputs": [
        {
          "output_type": "stream",
          "name": "stdout",
          "text": [
            "4\n"
          ]
        },
        {
          "output_type": "execute_result",
          "data": {
            "text/plain": [
              "26"
            ]
          },
          "metadata": {},
          "execution_count": 19
        }
      ],
      "source": [
        "square(4) + 10"
      ]
    },
    {
      "cell_type": "markdown",
      "metadata": {
        "id": "OivU1VeEIQrZ"
      },
      "source": [
        "* Bu döndürülen değerin int 4 ten bir farkı yok, nereden nasıl geldiği önemli değil, a = 4 dediğimdeki 4 ile aynı. Bu değerle istediğimi yapabilirim"
      ]
    },
    {
      "cell_type": "code",
      "execution_count": null,
      "metadata": {
        "id": "RHRzJP_hIQrZ",
        "outputId": "7679028d-6d12-45a0-ca93-8e19328923ea",
        "colab": {
          "base_uri": "https://localhost:8080/"
        }
      },
      "outputs": [
        {
          "output_type": "stream",
          "name": "stdout",
          "text": [
            "2\n"
          ]
        },
        {
          "output_type": "execute_result",
          "data": {
            "text/plain": [
              "5"
            ]
          },
          "metadata": {},
          "execution_count": 20
        }
      ],
      "source": [
        "1 + square(2)"
      ]
    },
    {
      "cell_type": "markdown",
      "metadata": {
        "id": "eWzrMTGIIQrZ"
      },
      "source": [
        "* Bilgisayar için o da sadece bir değerdi. Aşağıdaki örenekte de square(3) bize 9 döndürüyor, bilgisayar için aşağıdaki kod, `square(9)` ile aynı"
      ]
    },
    {
      "cell_type": "code",
      "execution_count": null,
      "metadata": {
        "id": "ajXeGqi0IQrZ",
        "outputId": "b9de0988-fea3-4f2c-bdb0-0f5a738c0ed6",
        "colab": {
          "base_uri": "https://localhost:8080/"
        }
      },
      "outputs": [
        {
          "output_type": "execute_result",
          "data": {
            "text/plain": [
              "81"
            ]
          },
          "metadata": {},
          "execution_count": 23
        }
      ],
      "source": [
        "square(square(3))"
      ]
    },
    {
      "cell_type": "markdown",
      "metadata": {
        "id": "g9nWjmG6IQrZ"
      },
      "source": [
        "* hiç bir inputu olmaya da bilirdi"
      ]
    },
    {
      "cell_type": "code",
      "execution_count": null,
      "metadata": {
        "id": "mlhaqRd3IQra"
      },
      "outputs": [],
      "source": [
        "def weird():\n",
        "    return 5"
      ]
    },
    {
      "cell_type": "code",
      "execution_count": null,
      "metadata": {
        "id": "b4HaKT3FIQrd",
        "outputId": "a1385414-63c7-44f3-cd6a-96f5ca9bf25a",
        "colab": {
          "base_uri": "https://localhost:8080/"
        }
      },
      "outputs": [
        {
          "output_type": "execute_result",
          "data": {
            "text/plain": [
              "5"
            ]
          },
          "metadata": {},
          "execution_count": 27
        }
      ],
      "source": [
        "weird()"
      ]
    },
    {
      "cell_type": "code",
      "execution_count": null,
      "metadata": {
        "id": "Fxw7541DIQre",
        "outputId": "f286f743-fc76-4d50-f3ee-eb603d9a70fd",
        "colab": {
          "base_uri": "https://localhost:8080/",
          "height": 158
        }
      },
      "outputs": [
        {
          "output_type": "error",
          "ename": "TypeError",
          "evalue": "weird() takes 0 positional arguments but 1 was given",
          "traceback": [
            "\u001b[0;31m---------------------------------------------------------------------------\u001b[0m",
            "\u001b[0;31mTypeError\u001b[0m                                 Traceback (most recent call last)",
            "\u001b[0;32m<ipython-input-28-6a57efd02bf9>\u001b[0m in \u001b[0;36m<cell line: 0>\u001b[0;34m()\u001b[0m\n\u001b[1;32m      1\u001b[0m \u001b[0;31m#input verilmediği için fonks içine değer verilemez\u001b[0m\u001b[0;34m\u001b[0m\u001b[0;34m\u001b[0m\u001b[0m\n\u001b[0;32m----> 2\u001b[0;31m \u001b[0mweird\u001b[0m\u001b[0;34m(\u001b[0m\u001b[0;36m5\u001b[0m\u001b[0;34m)\u001b[0m\u001b[0;34m\u001b[0m\u001b[0;34m\u001b[0m\u001b[0m\n\u001b[0m",
            "\u001b[0;31mTypeError\u001b[0m: weird() takes 0 positional arguments but 1 was given"
          ]
        }
      ],
      "source": [
        "#input verilmediği için fonks içine değer verilemez\n",
        "weird(5)"
      ]
    },
    {
      "cell_type": "markdown",
      "metadata": {
        "id": "vLZzoxEMIQre"
      },
      "source": [
        "* Fonksiyonlar return'e geldikten sonrasına bakmıyor, return ün sağına yazılan değeri veriyor ve fonksiyondan çıkıyor\n"
      ]
    },
    {
      "cell_type": "code",
      "execution_count": null,
      "metadata": {
        "id": "LZE9NXSFIQre"
      },
      "outputs": [],
      "source": [
        "def square(x):\n",
        "\n",
        "    res = x * x\n",
        "\n",
        "    print(\"Square of \" + str(x) + \": \" + str(res))\n",
        "    return res\n",
        "\n",
        "\n"
      ]
    },
    {
      "cell_type": "code",
      "execution_count": null,
      "metadata": {
        "id": "l-VcrWIKIQre",
        "outputId": "5e1ae7f2-f699-4637-e123-4efffb79a0f8",
        "colab": {
          "base_uri": "https://localhost:8080/"
        }
      },
      "outputs": [
        {
          "output_type": "stream",
          "name": "stdout",
          "text": [
            "Square of 4: 16\n"
          ]
        },
        {
          "output_type": "execute_result",
          "data": {
            "text/plain": [
              "16"
            ]
          },
          "metadata": {},
          "execution_count": 32
        }
      ],
      "source": [
        "square(4)"
      ]
    },
    {
      "cell_type": "code",
      "execution_count": null,
      "metadata": {
        "id": "m2ZxrvV4IQre",
        "outputId": "cb869e67-c512-416f-cbe7-d9672023a984",
        "colab": {
          "base_uri": "https://localhost:8080/"
        }
      },
      "outputs": [
        {
          "output_type": "stream",
          "name": "stdout",
          "text": [
            "Square of 4: 16\n"
          ]
        },
        {
          "output_type": "execute_result",
          "data": {
            "text/plain": [
              "18"
            ]
          },
          "metadata": {},
          "execution_count": 33
        }
      ],
      "source": [
        "square(4) + 2"
      ]
    },
    {
      "cell_type": "markdown",
      "metadata": {
        "id": "wBqpWZmQIQrf"
      },
      "source": [
        "* Fonksiyona durumsallık da katabiliriz"
      ]
    },
    {
      "cell_type": "code",
      "execution_count": null,
      "metadata": {
        "id": "WOlBbWnnIQrf"
      },
      "outputs": [],
      "source": [
        "#eğer x çift ise karesini al tek ise 20 ile topla\n",
        "def karesi(x):\n",
        "    çarpım=x*x\n",
        "    if x%2==0:\n",
        "        return çarpım\n",
        "    else:\n",
        "        return çarpım+20\n",
        "\n"
      ]
    },
    {
      "cell_type": "code",
      "execution_count": null,
      "metadata": {
        "id": "A9UGOvAIIQrf",
        "outputId": "206223c2-c959-42be-f7b2-b6f6f7ce6b55",
        "colab": {
          "base_uri": "https://localhost:8080/"
        }
      },
      "outputs": [
        {
          "output_type": "execute_result",
          "data": {
            "text/plain": [
              "16"
            ]
          },
          "metadata": {},
          "execution_count": 35
        }
      ],
      "source": [
        "karesi(4)"
      ]
    },
    {
      "cell_type": "code",
      "execution_count": null,
      "metadata": {
        "id": "-G4qhkRKIQrf",
        "outputId": "b98171e0-1307-4339-cada-dab26f12e5c7",
        "colab": {
          "base_uri": "https://localhost:8080/"
        }
      },
      "outputs": [
        {
          "output_type": "execute_result",
          "data": {
            "text/plain": [
              "45"
            ]
          },
          "metadata": {},
          "execution_count": 36
        }
      ],
      "source": [
        "karesi(5)"
      ]
    },
    {
      "cell_type": "code",
      "execution_count": null,
      "metadata": {
        "id": "oFaawfVcIQrf",
        "outputId": "a86112a8-a56a-4bd8-8a1a-c2e66958af75",
        "colab": {
          "base_uri": "https://localhost:8080/",
          "height": 141
        }
      },
      "outputs": [
        {
          "output_type": "error",
          "ename": "TypeError",
          "evalue": "karesi() missing 1 required positional argument: 'x'",
          "traceback": [
            "\u001b[0;31m---------------------------------------------------------------------------\u001b[0m",
            "\u001b[0;31mTypeError\u001b[0m                                 Traceback (most recent call last)",
            "\u001b[0;32m<ipython-input-37-2da9b2efba09>\u001b[0m in \u001b[0;36m<cell line: 0>\u001b[0;34m()\u001b[0m\n\u001b[0;32m----> 1\u001b[0;31m \u001b[0mkaresi\u001b[0m\u001b[0;34m(\u001b[0m\u001b[0;34m)\u001b[0m\u001b[0;34m\u001b[0m\u001b[0;34m\u001b[0m\u001b[0m\n\u001b[0m",
            "\u001b[0;31mTypeError\u001b[0m: karesi() missing 1 required positional argument: 'x'"
          ]
        }
      ],
      "source": [
        "karesi()"
      ]
    },
    {
      "cell_type": "markdown",
      "metadata": {
        "id": "EkCi5hUtIQrf"
      },
      "source": [
        "* Fonksiyonların içinde döngü mantığı da olabilir"
      ]
    },
    {
      "cell_type": "code",
      "execution_count": null,
      "metadata": {
        "id": "yMz7RL66IQrf"
      },
      "outputs": [],
      "source": [
        "# fonksiyon içine yazılan sayıya kadar olan pozitif sayıların toplamlarını bulalım."
      ]
    },
    {
      "cell_type": "code",
      "execution_count": null,
      "metadata": {
        "id": "yt0leIHlIQrf"
      },
      "outputs": [],
      "source": [
        "x=int(input(\"bir sayı giriniz\"))\n",
        "topla=0\n",
        "for i in range(x):\n",
        "    topla=topla+i\n",
        "    #print(topla)\n",
        "print(topla)"
      ]
    },
    {
      "cell_type": "code",
      "execution_count": null,
      "metadata": {
        "id": "4Z86WpbkIQrf"
      },
      "outputs": [],
      "source": [
        "#aradaki print ile her iterasyondaki sonuçları gördük.\n",
        "def toplam(x):\n",
        "    topla=0\n",
        "    for i in range(x):\n",
        "        topla=topla+i\n",
        "        #print(topla)\n",
        "    return topla"
      ]
    },
    {
      "cell_type": "code",
      "execution_count": null,
      "metadata": {
        "id": "cfgGTWRvIQrf",
        "outputId": "7470c4ad-2d87-4c46-c9d2-98d4e00ca920",
        "colab": {
          "base_uri": "https://localhost:8080/"
        }
      },
      "outputs": [
        {
          "output_type": "execute_result",
          "data": {
            "text/plain": [
              "10"
            ]
          },
          "metadata": {},
          "execution_count": 50
        }
      ],
      "source": [
        "toplam(5)"
      ]
    },
    {
      "cell_type": "code",
      "execution_count": null,
      "metadata": {
        "id": "1tRjc54iIQrf",
        "outputId": "a644ce2f-0b01-4f42-c192-fd4476fe900a",
        "colab": {
          "base_uri": "https://localhost:8080/"
        }
      },
      "outputs": [
        {
          "output_type": "execute_result",
          "data": {
            "text/plain": [
              "8"
            ]
          },
          "metadata": {},
          "execution_count": 51
        }
      ],
      "source": [
        "toplam(3) + 5"
      ]
    },
    {
      "cell_type": "code",
      "source": [],
      "metadata": {
        "id": "rph2YtRd0hUC"
      },
      "execution_count": null,
      "outputs": []
    },
    {
      "cell_type": "markdown",
      "metadata": {
        "id": "K36GfKKpIQrg"
      },
      "source": [
        "# birden fazla output veren fonksiyonlar"
      ]
    },
    {
      "cell_type": "code",
      "execution_count": null,
      "metadata": {
        "id": "pjJrRFE9IQrg"
      },
      "outputs": [],
      "source": [
        "#bir fonksiyonun birden fazla outputu olursa, sonuçlar tuple döner"
      ]
    },
    {
      "cell_type": "code",
      "execution_count": null,
      "metadata": {
        "id": "-0seyGy3IQrg"
      },
      "outputs": [],
      "source": [
        "def f(x):\n",
        "    return 2**x, 10**x"
      ]
    },
    {
      "cell_type": "code",
      "execution_count": null,
      "metadata": {
        "id": "MV5QSwa6IQrg",
        "outputId": "d55e533d-424f-4aba-cbec-54e214523e75"
      },
      "outputs": [
        {
          "data": {
            "text/plain": [
              "(4, 100)"
            ]
          },
          "execution_count": 112,
          "metadata": {},
          "output_type": "execute_result"
        }
      ],
      "source": [
        "f(2)"
      ]
    },
    {
      "cell_type": "code",
      "execution_count": null,
      "metadata": {
        "id": "POKrDJhBIQrg",
        "outputId": "97ead51d-28c9-40e4-be22-62d9de5fd3d2"
      },
      "outputs": [
        {
          "data": {
            "text/plain": [
              "tuple"
            ]
          },
          "execution_count": 113,
          "metadata": {},
          "output_type": "execute_result"
        }
      ],
      "source": [
        "type(f(2))"
      ]
    },
    {
      "cell_type": "code",
      "execution_count": null,
      "metadata": {
        "id": "9xUBhirNIQrg",
        "outputId": "3846400f-8029-4c75-c9e3-ed78311d8681"
      },
      "outputs": [
        {
          "ename": "TypeError",
          "evalue": "can only concatenate tuple (not \"int\") to tuple",
          "output_type": "error",
          "traceback": [
            "\u001b[1;31m---------------------------------------------------------------------------\u001b[0m",
            "\u001b[1;31mTypeError\u001b[0m                                 Traceback (most recent call last)",
            "\u001b[1;32m<ipython-input-115-d2833fb2beff>\u001b[0m in \u001b[0;36m<module>\u001b[1;34m\u001b[0m\n\u001b[1;32m----> 1\u001b[1;33m \u001b[0mf\u001b[0m\u001b[1;33m(\u001b[0m\u001b[1;36m2\u001b[0m\u001b[1;33m)\u001b[0m \u001b[1;33m+\u001b[0m \u001b[1;36m2\u001b[0m\u001b[1;33m\u001b[0m\u001b[1;33m\u001b[0m\u001b[0m\n\u001b[0m",
            "\u001b[1;31mTypeError\u001b[0m: can only concatenate tuple (not \"int\") to tuple"
          ]
        }
      ],
      "source": [
        "f(2) + 2"
      ]
    },
    {
      "cell_type": "code",
      "execution_count": null,
      "metadata": {
        "id": "qnlJdnqIIQrg"
      },
      "outputs": [],
      "source": [
        "def g(x):\n",
        "    kuvvet= 2**x\n",
        "    çarpım=10*x\n",
        "    return kuvvet,çarpım"
      ]
    },
    {
      "cell_type": "code",
      "execution_count": null,
      "metadata": {
        "id": "3is4NesFIQrh",
        "outputId": "5b8dbd43-1913-4cab-9ee2-4b373ff4ecb4"
      },
      "outputs": [
        {
          "data": {
            "text/plain": [
              "(8, 30)"
            ]
          },
          "execution_count": 118,
          "metadata": {},
          "output_type": "execute_result"
        }
      ],
      "source": [
        "g(3)"
      ]
    },
    {
      "cell_type": "code",
      "execution_count": null,
      "metadata": {
        "id": "kRVTN_DeIQrh",
        "outputId": "52457511-5d9e-4446-d2a3-ae3122973be6"
      },
      "outputs": [
        {
          "name": "stdout",
          "output_type": "stream",
          "text": [
            "8 30\n"
          ]
        },
        {
          "data": {
            "text/plain": [
              "38"
            ]
          },
          "execution_count": 123,
          "metadata": {},
          "output_type": "execute_result"
        }
      ],
      "source": [
        "#tuple içindeki değerleri kullanmak için a,b ikilisine eşitledik. Böylece tuple içindeki değerleri kullanmış olduk\n",
        "a,b=g(3)   #(a,b)=(8,30) --->>>>> a=8 b=30\n",
        "\n",
        "print(a,b)\n",
        "a+b"
      ]
    },
    {
      "cell_type": "markdown",
      "metadata": {
        "id": "8iaIsMO9IQrh"
      },
      "source": [
        "# birden fazla input verilen fonksiyonlar"
      ]
    },
    {
      "cell_type": "code",
      "execution_count": null,
      "metadata": {
        "id": "3bYZSGWTIQrh"
      },
      "outputs": [],
      "source": [
        "def h(x,y):\n",
        "    kuvvet= x**y\n",
        "    return kuvvet"
      ]
    },
    {
      "cell_type": "code",
      "execution_count": null,
      "metadata": {
        "id": "vBz8U3C6IQrh",
        "outputId": "4900381d-0b71-4332-dff1-14db24e15bb6"
      },
      "outputs": [
        {
          "data": {
            "text/plain": [
              "8"
            ]
          },
          "execution_count": 125,
          "metadata": {},
          "output_type": "execute_result"
        }
      ],
      "source": [
        "h(2,3)"
      ]
    },
    {
      "cell_type": "code",
      "execution_count": null,
      "metadata": {
        "id": "3DTUKdg5IQrh",
        "outputId": "81c43d32-dc49-4e2d-ac92-3cec0c4db2ce"
      },
      "outputs": [
        {
          "ename": "TypeError",
          "evalue": "h() missing 1 required positional argument: 'y'",
          "output_type": "error",
          "traceback": [
            "\u001b[1;31m---------------------------------------------------------------------------\u001b[0m",
            "\u001b[1;31mTypeError\u001b[0m                                 Traceback (most recent call last)",
            "\u001b[1;32m<ipython-input-126-508fe4fdc8ba>\u001b[0m in \u001b[0;36m<module>\u001b[1;34m\u001b[0m\n\u001b[1;32m----> 1\u001b[1;33m \u001b[0mh\u001b[0m\u001b[1;33m(\u001b[0m\u001b[1;36m2\u001b[0m\u001b[1;33m)\u001b[0m\u001b[1;33m\u001b[0m\u001b[1;33m\u001b[0m\u001b[0m\n\u001b[0m",
            "\u001b[1;31mTypeError\u001b[0m: h() missing 1 required positional argument: 'y'"
          ]
        }
      ],
      "source": [
        "h(2)"
      ]
    },
    {
      "cell_type": "code",
      "execution_count": null,
      "metadata": {
        "id": "LN8q5WFPIQrh"
      },
      "outputs": [],
      "source": [
        "#eğer kullanıcı sadece x girerse default olarak y=1 alınır.\n",
        "#eğer kullanıcı hem x hem de y girerse y değeri güncellenir.\n",
        "def h(x,y=1):\n",
        "    kuvvet= x**y\n",
        "    return kuvvet"
      ]
    },
    {
      "cell_type": "code",
      "execution_count": null,
      "metadata": {
        "id": "U47ssAVMIQrh",
        "outputId": "a02660fe-116c-4d19-82dd-8031cb1508cc"
      },
      "outputs": [
        {
          "data": {
            "text/plain": [
              "3"
            ]
          },
          "execution_count": 131,
          "metadata": {},
          "output_type": "execute_result"
        }
      ],
      "source": [
        "h(3)"
      ]
    },
    {
      "cell_type": "code",
      "execution_count": null,
      "metadata": {
        "id": "vLqeKb9CIQrh",
        "outputId": "815c84db-a9a0-4bdf-be05-5b9989beb536"
      },
      "outputs": [
        {
          "data": {
            "text/plain": [
              "9"
            ]
          },
          "execution_count": 132,
          "metadata": {},
          "output_type": "execute_result"
        }
      ],
      "source": [
        "h(3,2)"
      ]
    },
    {
      "cell_type": "code",
      "execution_count": null,
      "metadata": {
        "id": "s1fGnaqJIQri"
      },
      "outputs": [],
      "source": [
        "#eğer kullanıcı 3. parametreyi girmezse 3.14 alır. Ancak parametre girilirse güncel değeri alır.\n",
        "\n",
        "def f(x,y,pi=3.14):\n",
        "    çarpım= x*y*pi\n",
        "    return çarpım"
      ]
    },
    {
      "cell_type": "code",
      "execution_count": null,
      "metadata": {
        "id": "2vI8XESuIQri",
        "outputId": "0c86c1c0-9f76-41f1-b4ff-90784f9e1d7b"
      },
      "outputs": [
        {
          "data": {
            "text/plain": [
              "18.84"
            ]
          },
          "execution_count": 135,
          "metadata": {},
          "output_type": "execute_result"
        }
      ],
      "source": [
        "pi=3,14\n",
        "f(2,3)"
      ]
    },
    {
      "cell_type": "code",
      "execution_count": null,
      "metadata": {
        "id": "Ud_Yed0XIQri",
        "outputId": "a0fc9a07-4647-431d-c6be-3970637c7f7e"
      },
      "outputs": [
        {
          "data": {
            "text/plain": [
              "18"
            ]
          },
          "execution_count": 136,
          "metadata": {},
          "output_type": "execute_result"
        }
      ],
      "source": [
        "#pi=3\n",
        "f(2,3,3)"
      ]
    },
    {
      "cell_type": "code",
      "execution_count": null,
      "metadata": {
        "id": "cgFW0TLKIQri"
      },
      "outputs": [],
      "source": [
        "#kullanıcıdan 2 sayı alınacak ve birinin diğerine bölümünden kalanını yazacak.fonksiyon ile"
      ]
    },
    {
      "cell_type": "code",
      "execution_count": null,
      "metadata": {
        "id": "A35WtIt_IQri"
      },
      "outputs": [],
      "source": [
        "f(x,y)"
      ]
    },
    {
      "cell_type": "code",
      "execution_count": null,
      "metadata": {
        "id": "p9T1PdNcIQri"
      },
      "outputs": [],
      "source": []
    }
  ],
  "metadata": {
    "kernelspec": {
      "display_name": "Python 3",
      "language": "python",
      "name": "python3"
    },
    "language_info": {
      "codemirror_mode": {
        "name": "ipython",
        "version": 3
      },
      "file_extension": ".py",
      "mimetype": "text/x-python",
      "name": "python",
      "nbconvert_exporter": "python",
      "pygments_lexer": "ipython3",
      "version": "3.7.6"
    },
    "colab": {
      "provenance": []
    }
  },
  "nbformat": 4,
  "nbformat_minor": 0
}