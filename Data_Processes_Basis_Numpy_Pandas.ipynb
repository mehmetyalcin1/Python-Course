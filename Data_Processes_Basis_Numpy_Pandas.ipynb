{
  "cells": [
    {
      "cell_type": "markdown",
      "metadata": {
        "id": "8nld6UBlHpmQ",
        "tags": []
      },
      "source": [
        "## PYTHON'DA VERİ BİLİMİ TEMELLERİ\n",
        "<img src=\"https://github.com/nevcihan/COE_Python/blob/main/pict1.png?raw=1\" width=\"400\"/>"
      ]
    },
    {
      "cell_type": "markdown",
      "metadata": {
        "id": "JGn6f2g3HpmS",
        "tags": []
      },
      "source": [
        "### Python Giriş\n",
        "\n",
        "Nesne Yönelimli Programlama, gerçek dünyadaki nesneleri ve bunların etkileşimlerini modellemek için kullanılan bir programlama yaklaşımıdır.  \n",
        "Object (Nesne), bu yapının temel birimidir ve bir sınıfın (class) örneği olarak oluşturulur."
      ]
    },
    {
      "cell_type": "code",
      "execution_count": null,
      "metadata": {
        "id": "yi3DkQuwHpmT",
        "tags": []
      },
      "outputs": [],
      "source": [
        "print(\"Merhaba Veri Bilimi!\")"
      ]
    },
    {
      "cell_type": "code",
      "execution_count": null,
      "metadata": {
        "id": "CMwGkwahHpmV",
        "tags": []
      },
      "outputs": [],
      "source": [
        "#bu bana özel bir kod notudur"
      ]
    },
    {
      "cell_type": "markdown",
      "metadata": {
        "id": "GX2p5W7UHpmW",
        "tags": []
      },
      "source": [
        "### Veri Tipleri\n",
        "\n",
        "Pythonda temel veri tipleri:\n",
        "\n",
        "• int: Tam sayılar  \n",
        "• float: Ondalıklı sayılar  \n",
        "• str: Metin  \n",
        "• list: Liste  \n",
        "• tuple: Demet  \n",
        "• dict: Sözlük  \n",
        "• set: Küme  \n",
        "\n",
        "Python, veri işleme ve analizinde yaygın olarak kullanılan bir programlama dilidir. Python’da temel veri tipleri arasında tam sayılar (int), ondalıklı sayılar (float), metinler (str), listeler (list), demetler (tuple), sözlükler (dict) ve kümeler (set) bulunur. Bu veri tipleri, farklı veri türlerini saklamak ve işlemek için özelleştirilmiştir. Ayrıca, Python’un geniş kütüphane desteği (örneğin, NumPy, Pandas) sayesinde büyük veri kümeleri üzerinde etkili analizler yapılabilir."
      ]
    },
    {
      "cell_type": "markdown",
      "metadata": {
        "id": "rMNbVFoAHpmX",
        "tags": []
      },
      "source": [
        "#### 1-integers and floats\n",
        "\n",
        "-integer: tamsayı  \n",
        "-float: ondalıklı sayı"
      ]
    },
    {
      "cell_type": "code",
      "execution_count": null,
      "metadata": {
        "id": "ZRiP8ifvHpmX",
        "tags": []
      },
      "outputs": [],
      "source": [
        "2"
      ]
    },
    {
      "cell_type": "code",
      "execution_count": null,
      "metadata": {
        "id": "2sUb1yb0HpmY",
        "tags": []
      },
      "outputs": [],
      "source": [
        "2.3"
      ]
    },
    {
      "cell_type": "code",
      "execution_count": null,
      "metadata": {
        "id": "mxZ6gMV0HpmY",
        "tags": []
      },
      "outputs": [],
      "source": [
        "2 + 2"
      ]
    },
    {
      "cell_type": "code",
      "execution_count": null,
      "metadata": {
        "id": "r0G6POOKHpmY",
        "tags": []
      },
      "outputs": [],
      "source": [
        "2.3 + 2"
      ]
    },
    {
      "cell_type": "code",
      "execution_count": null,
      "metadata": {
        "id": "cNxytdyWHpmZ",
        "tags": []
      },
      "outputs": [],
      "source": [
        "2.0"
      ]
    },
    {
      "cell_type": "code",
      "execution_count": null,
      "metadata": {
        "id": "nirgCZr-HpmZ"
      },
      "outputs": [],
      "source": [
        "#çarpma işlemi\n",
        "4 * 10"
      ]
    },
    {
      "cell_type": "code",
      "execution_count": null,
      "metadata": {
        "id": "Vf3r2LOKHpmZ"
      },
      "outputs": [],
      "source": [
        "#bölme\n",
        "4 / 2"
      ]
    },
    {
      "cell_type": "code",
      "execution_count": null,
      "metadata": {
        "id": "gOAx6hWMHpma"
      },
      "outputs": [],
      "source": [
        "# kuvvet alma\n",
        "2 **3"
      ]
    },
    {
      "cell_type": "code",
      "execution_count": null,
      "metadata": {
        "id": "2HncGVjfHpma"
      },
      "outputs": [],
      "source": [
        "#bölümünden kalan  %\n",
        "7 % 2"
      ]
    },
    {
      "cell_type": "code",
      "execution_count": null,
      "metadata": {
        "id": "HR167mkaHpma"
      },
      "outputs": [],
      "source": [
        "#işlem önceliği\n",
        "(4+10) * 3"
      ]
    },
    {
      "cell_type": "markdown",
      "metadata": {
        "id": "wk0PkY_WHpma",
        "tags": []
      },
      "source": [
        "#### 2-strings\n",
        "\n",
        "karakterler \" \" içine alınır."
      ]
    },
    {
      "cell_type": "code",
      "execution_count": null,
      "metadata": {
        "id": "-xLNoJCqHpmb",
        "tags": []
      },
      "outputs": [],
      "source": [
        "\"veri bilimi\""
      ]
    },
    {
      "cell_type": "code",
      "execution_count": null,
      "metadata": {
        "id": "rDm_rqTaHpmb",
        "tags": []
      },
      "outputs": [],
      "source": [
        "\"hello world\""
      ]
    },
    {
      "cell_type": "code",
      "execution_count": null,
      "metadata": {
        "id": "CWnD6K_lHpmb",
        "tags": []
      },
      "outputs": [],
      "source": [
        "\"veri bilimi\"    \"python\""
      ]
    },
    {
      "cell_type": "code",
      "execution_count": null,
      "metadata": {
        "id": "eu-Okp7HHpmb",
        "tags": []
      },
      "outputs": [],
      "source": [
        "#birleştirme\n",
        "\"veri \" + \"işleme\"+ \"*\"+ \"aracı mıdır?\""
      ]
    },
    {
      "cell_type": "code",
      "execution_count": null,
      "metadata": {
        "id": "PwbO-5cFHpmb"
      },
      "outputs": [],
      "source": [
        "\"veri\",\"ve\", \"python\""
      ]
    },
    {
      "cell_type": "code",
      "execution_count": null,
      "metadata": {
        "id": "0GETdHeZHpmc"
      },
      "outputs": [],
      "source": [
        "# toplama birleştirir\n",
        "\"veri \" + \"*\" * 3"
      ]
    },
    {
      "cell_type": "code",
      "execution_count": null,
      "metadata": {
        "id": "KjV9v_OdHpmc"
      },
      "outputs": [],
      "source": [
        "#virgül yanyana yazar.\n",
        "print(\"veri \" , \"*\" * 3)"
      ]
    },
    {
      "cell_type": "code",
      "execution_count": null,
      "metadata": {
        "id": "Pd1cDRVQHpmc"
      },
      "outputs": [],
      "source": [
        "\" veri \" \"bilimi\" * 2"
      ]
    },
    {
      "cell_type": "code",
      "execution_count": null,
      "metadata": {
        "id": "tcVM6Pz0Hpmc"
      },
      "outputs": [],
      "source": [
        "'veri'"
      ]
    },
    {
      "cell_type": "code",
      "execution_count": null,
      "metadata": {
        "id": "tL5ETouaHpmc"
      },
      "outputs": [],
      "source": [
        "\"2\" * 3"
      ]
    },
    {
      "cell_type": "code",
      "execution_count": null,
      "metadata": {
        "id": "puDl_mP4Hpmc"
      },
      "outputs": [],
      "source": [
        "type(\"2\")"
      ]
    },
    {
      "cell_type": "markdown",
      "metadata": {
        "id": "oX26L6psHpmc"
      },
      "source": [
        "type() fonksiyonu ile değişkenlerin tipine ulaşılır."
      ]
    },
    {
      "cell_type": "code",
      "execution_count": null,
      "metadata": {
        "id": "zi-qvunDHpmc"
      },
      "outputs": [],
      "source": [
        "type(3)"
      ]
    },
    {
      "cell_type": "code",
      "execution_count": null,
      "metadata": {
        "id": "rMg_y4SzHpmd"
      },
      "outputs": [],
      "source": [
        "type(2.3)"
      ]
    },
    {
      "cell_type": "code",
      "execution_count": null,
      "metadata": {
        "id": "bSj7AEaKHpmd"
      },
      "outputs": [],
      "source": [
        "# integerı stringe dönüştürmek için str() fonksiyonu kullanılır.\n",
        "str(2)"
      ]
    },
    {
      "cell_type": "code",
      "execution_count": null,
      "metadata": {
        "id": "Avo9ZNueHpmd"
      },
      "outputs": [],
      "source": [
        "str(2) * 3"
      ]
    },
    {
      "cell_type": "code",
      "execution_count": null,
      "metadata": {
        "id": "jt_W-gKMHpmd"
      },
      "outputs": [],
      "source": [
        "# floatı integera çevirmeye yarar.\n",
        "int(2.8)"
      ]
    },
    {
      "cell_type": "code",
      "execution_count": null,
      "metadata": {
        "id": "Mc0ztZclHpmd",
        "tags": []
      },
      "outputs": [],
      "source": [
        "# karakteri integera çevirmeye yarar.\n",
        "int(\"2\")"
      ]
    },
    {
      "cell_type": "code",
      "execution_count": null,
      "metadata": {
        "id": "e1STYN-AHpme",
        "tags": []
      },
      "outputs": [],
      "source": [
        "#neden hata aldı?\n",
        "int(\"mehmet\")"
      ]
    },
    {
      "cell_type": "code",
      "execution_count": null,
      "metadata": {
        "id": "aF63axNhHpme",
        "tags": []
      },
      "outputs": [],
      "source": [
        "type('mehmet')"
      ]
    },
    {
      "cell_type": "markdown",
      "metadata": {
        "id": "nYvuRjbzHpme",
        "tags": []
      },
      "source": [
        "#### Değişken Oluşturma"
      ]
    },
    {
      "cell_type": "markdown",
      "metadata": {
        "id": "eoMmL_PJHpmf",
        "jp-MarkdownHeadingCollapsed": true,
        "tags": []
      },
      "source": [
        "##### 1-Sayısal Değişkenlerle İşlemler"
      ]
    },
    {
      "cell_type": "code",
      "execution_count": null,
      "metadata": {
        "id": "MxT4i5jFHpmg"
      },
      "outputs": [],
      "source": [
        "#değişkenin sondaki değerini hatırlar.\n",
        "kısakenar= kk = 3\n",
        "uzunkenar= 4"
      ]
    },
    {
      "cell_type": "code",
      "execution_count": null,
      "metadata": {
        "id": "FKN1uEUjR4wf"
      },
      "outputs": [],
      "source": [
        "kk"
      ]
    },
    {
      "cell_type": "code",
      "execution_count": null,
      "metadata": {
        "id": "EZE0sH3MHpmg"
      },
      "outputs": [],
      "source": [
        "kısakenar"
      ]
    },
    {
      "cell_type": "code",
      "execution_count": null,
      "metadata": {
        "id": "RPT-jOqlHpmg"
      },
      "outputs": [],
      "source": [
        "kısa_kenar= 5\n",
        "uzun_kenar= 4"
      ]
    },
    {
      "cell_type": "code",
      "execution_count": null,
      "metadata": {
        "id": "YTN8HIMtHpmh"
      },
      "outputs": [],
      "source": [
        "kısa_kenar"
      ]
    },
    {
      "cell_type": "code",
      "execution_count": null,
      "metadata": {
        "id": "KPY3DDsdSU8E"
      },
      "outputs": [],
      "source": [
        "type(kısa_kenar)"
      ]
    },
    {
      "cell_type": "code",
      "execution_count": null,
      "metadata": {
        "id": "Bhl9f5XgHpmh"
      },
      "outputs": [],
      "source": [
        "kısa_kenar * uzun_kenar #kısa kenar=5 uzun kenar=4"
      ]
    },
    {
      "cell_type": "code",
      "execution_count": null,
      "metadata": {
        "id": "EoZboTBDHpmh"
      },
      "outputs": [],
      "source": [
        "Alan= kısa_kenar * uzun_kenar"
      ]
    },
    {
      "cell_type": "code",
      "execution_count": null,
      "metadata": {
        "id": "A3WWI0pzHpmh"
      },
      "outputs": [],
      "source": [
        "Alan"
      ]
    },
    {
      "cell_type": "code",
      "execution_count": null,
      "metadata": {
        "id": "DIsnP97LSg6d"
      },
      "outputs": [],
      "source": [
        "print(Alan)"
      ]
    },
    {
      "cell_type": "code",
      "execution_count": null,
      "metadata": {
        "id": "N30m9bI4Hpmh"
      },
      "outputs": [],
      "source": [
        "yarıçapı= 2\n",
        "pi= 3.14"
      ]
    },
    {
      "cell_type": "code",
      "execution_count": null,
      "metadata": {
        "id": "fNev2tgVHpmh"
      },
      "outputs": [],
      "source": [
        "Alan = pi * (yarıçapı **2)\n",
        "Alan"
      ]
    },
    {
      "cell_type": "code",
      "execution_count": null,
      "metadata": {
        "id": "LyE3qiVTHpmh"
      },
      "outputs": [],
      "source": [
        "# float tipini integera dönüştürdük\n",
        "b = int(Alan)\n",
        "b"
      ]
    },
    {
      "cell_type": "code",
      "execution_count": null,
      "metadata": {
        "id": "BAYtxKPTHpmh"
      },
      "outputs": [],
      "source": [
        "int(Alan) * 2"
      ]
    },
    {
      "cell_type": "code",
      "execution_count": null,
      "metadata": {
        "id": "fj688hhJHpmi"
      },
      "outputs": [],
      "source": [
        "str(Alan) * 2"
      ]
    },
    {
      "cell_type": "code",
      "execution_count": null,
      "metadata": {
        "id": "jBkwT0JNHpmi"
      },
      "outputs": [],
      "source": [
        "Alan"
      ]
    },
    {
      "cell_type": "markdown",
      "metadata": {
        "id": "XtkWzp8oHpmi"
      },
      "source": [
        "##### 2-Karakter Değişkenlerle Yapılan İşlemler"
      ]
    },
    {
      "cell_type": "code",
      "execution_count": null,
      "metadata": {
        "id": "6tocSal7Hpmi"
      },
      "outputs": [],
      "source": [
        "metin= \"Merhaba, Python!\""
      ]
    },
    {
      "cell_type": "code",
      "execution_count": null,
      "metadata": {
        "id": "tcsMRU9RTOGI"
      },
      "outputs": [],
      "source": [
        "metin"
      ]
    },
    {
      "cell_type": "code",
      "execution_count": null,
      "metadata": {
        "id": "CF8-sqWzHpmi"
      },
      "outputs": [],
      "source": [
        "#karakter uzunluğu - sayısı (çok kullanılan bir fonksiyon)\n",
        "len(metin)"
      ]
    },
    {
      "cell_type": "code",
      "execution_count": null,
      "metadata": {
        "id": "2tLVI3axHpmi"
      },
      "outputs": [],
      "source": [
        "#büyük harf\n",
        "metin.upper()"
      ]
    },
    {
      "cell_type": "code",
      "execution_count": null,
      "metadata": {
        "id": "v1eGBcx7Hpmi"
      },
      "outputs": [],
      "source": [
        "print(\"Metnin uzunluğu:\", le(metinn))"
      ]
    },
    {
      "cell_type": "code",
      "execution_count": null,
      "metadata": {
        "id": "2SKDHx3EHpmi"
      },
      "outputs": [],
      "source": [
        "buyuk = metin.upper()\n",
        "buyuk"
      ]
    },
    {
      "cell_type": "code",
      "execution_count": null,
      "metadata": {
        "id": "GIKnHmHTTq3R"
      },
      "outputs": [],
      "source": [
        "buyuk"
      ]
    },
    {
      "cell_type": "code",
      "execution_count": null,
      "metadata": {
        "id": "oKolW5a1Hpmj"
      },
      "outputs": [],
      "source": [
        "print(\"Büyük Harf:\", metin.upper())"
      ]
    },
    {
      "cell_type": "code",
      "execution_count": null,
      "metadata": {
        "id": "NiPOF6tkHpmj"
      },
      "outputs": [],
      "source": [
        "# küçük harf haline getirir.\n",
        "buyuk.lower()"
      ]
    },
    {
      "cell_type": "code",
      "execution_count": null,
      "metadata": {
        "id": "OoOpTZ9XT2oX"
      },
      "outputs": [],
      "source": [
        "a=\"Merhaba, Python sınıfı 304!\""
      ]
    },
    {
      "cell_type": "code",
      "execution_count": null,
      "metadata": {
        "id": "-m7zuVCWHpmj"
      },
      "outputs": [],
      "source": [
        "# karakteri değiştirme v yerine l yazacak.\n",
        "a.replace(\"e\",\"a\")"
      ]
    },
    {
      "cell_type": "code",
      "execution_count": null,
      "metadata": {
        "id": "OY-cMNExU2-l"
      },
      "outputs": [],
      "source": [
        "a.replace(\"a\",\"e\")"
      ]
    },
    {
      "cell_type": "code",
      "execution_count": null,
      "metadata": {
        "id": "PSMe6nqGHpmj"
      },
      "outputs": [],
      "source": [
        "a"
      ]
    },
    {
      "cell_type": "code",
      "execution_count": null,
      "metadata": {
        "id": "cZw8RhURHpmj"
      },
      "outputs": [],
      "source": [
        "a.replace(\"yth\",\"i\")"
      ]
    },
    {
      "cell_type": "code",
      "execution_count": null,
      "metadata": {
        "id": "dbSV0uOTHpmj"
      },
      "outputs": [],
      "source": [
        "b= \"hello world\""
      ]
    },
    {
      "cell_type": "code",
      "execution_count": null,
      "metadata": {
        "id": "A-YtFXSkHpmj"
      },
      "outputs": [],
      "source": [
        "#baş harfi büyük\n",
        "b.capitalize()"
      ]
    },
    {
      "cell_type": "code",
      "execution_count": null,
      "metadata": {
        "id": "u8E6bJ2aHpmk"
      },
      "outputs": [],
      "source": [
        "# Başlık haline getirdi\n",
        "b.title()"
      ]
    },
    {
      "cell_type": "code",
      "execution_count": null,
      "metadata": {
        "id": "bydH8GWpHpmk"
      },
      "outputs": [],
      "source": [
        "kabinraporu_m1=\"Uçağımızda yerde ve kalkış sonrası tuvalet lavabolarından ve boilerlardan su gelmemiştir.Yolcularımıza çay kahve ikram edilememiştir.Saygılarımla arz ederim.\""
      ]
    },
    {
      "cell_type": "code",
      "execution_count": null,
      "metadata": {
        "id": "KNQywSSDV-_W"
      },
      "outputs": [],
      "source": [
        "kabinraporu_m1"
      ]
    },
    {
      "cell_type": "code",
      "execution_count": null,
      "metadata": {
        "id": "AY9AvWMJHpmk"
      },
      "outputs": [],
      "source": [
        "kabinraporu_new=kabinraporu_m1.strip('.')"
      ]
    },
    {
      "cell_type": "code",
      "execution_count": null,
      "metadata": {
        "id": "E5rr3FDlWHiS"
      },
      "outputs": [],
      "source": [
        "print(kabinraporu_new)"
      ]
    },
    {
      "cell_type": "code",
      "execution_count": null,
      "metadata": {
        "id": "x1Lzc_CPHpmk"
      },
      "outputs": [],
      "source": [
        "kabinraporu_m1.find(\"su\")"
      ]
    },
    {
      "cell_type": "code",
      "execution_count": null,
      "metadata": {
        "id": "FcoLTyFkHpmk"
      },
      "outputs": [],
      "source": [
        "#str.startswith(prefix): Metnin belirtilen bir karakterle başlayıp başlamadığını kontrol eder.\n",
        "print(\"hello\".startswith(\"he\"))"
      ]
    },
    {
      "cell_type": "code",
      "execution_count": null,
      "metadata": {
        "id": "Yp79o97pHpmk"
      },
      "outputs": [],
      "source": [
        "#str.count(sub): Belirtilen alt string’in kaç kez geçtiğini sayar.\n",
        "print(kabinraporu_m1.count(\"çay\"))"
      ]
    },
    {
      "cell_type": "code",
      "execution_count": null,
      "metadata": {
        "id": "Mxu4j1kKHpml"
      },
      "outputs": [],
      "source": [
        "a=2\n",
        "\n",
        "a= a + 3\n",
        "a"
      ]
    },
    {
      "cell_type": "code",
      "execution_count": null,
      "metadata": {
        "id": "kNmZZpGjHpml"
      },
      "outputs": [],
      "source": [
        "a=a+1\n",
        "a"
      ]
    },
    {
      "cell_type": "code",
      "execution_count": null,
      "metadata": {
        "id": "4JwfuUNBHpml"
      },
      "outputs": [],
      "source": [
        "a+=1"
      ]
    },
    {
      "cell_type": "code",
      "execution_count": null,
      "metadata": {
        "id": "onH8mo_THpml"
      },
      "outputs": [],
      "source": [
        "a"
      ]
    },
    {
      "cell_type": "markdown",
      "metadata": {
        "id": "Pj0V3nd9Hpml"
      },
      "source": [
        "#### Karakterler Değişkenlerde İndeksleme Kullanımı\n",
        "\n",
        "Python’da indeksler, bir veri yapısındaki elemanlara erişmek için kullanılan konum numaralarıdır. İndeksler, sıralı veri yapılarında (örneğin, string, liste, tuple) elemanlara hızlıca erişim sağlar. Python’da indeksleme 0’dan başlar, yani ilk elemanın indeksi 0dır.\n",
        "\n",
        "1. Pozitif İndeksleme: Elemanlara soldan sağa erişmek için kullanılır.  \n",
        "2. Negatif İndeksleme: Elemanlara sağdan sola erişmek için kullanılır. En son elemanın indeksi -1dir.  "
      ]
    },
    {
      "cell_type": "code",
      "execution_count": null,
      "metadata": {
        "id": "Oxa1REqkHpmm"
      },
      "outputs": [],
      "source": [
        "c= \"TK105\""
      ]
    },
    {
      "cell_type": "code",
      "execution_count": null,
      "metadata": {
        "id": "bQ4IIei4Hpmm"
      },
      "outputs": [],
      "source": [
        "#baştan giderken ilk harf 0 diye tanımlanmıştır. (ilk karakter)\n",
        "c[0]"
      ]
    },
    {
      "cell_type": "code",
      "execution_count": null,
      "metadata": {
        "id": "2iciWrzHHpmm"
      },
      "outputs": [],
      "source": [
        "c[2]"
      ]
    },
    {
      "cell_type": "code",
      "execution_count": null,
      "metadata": {
        "id": "c68wKnE8Hpmm"
      },
      "outputs": [],
      "source": [
        "#sondan gelince ilk karakter -1 olarak tanımlanmıştır.\n",
        "c[-1]"
      ]
    },
    {
      "cell_type": "code",
      "execution_count": null,
      "metadata": {
        "id": "DWTHaaRBHpmm"
      },
      "outputs": [],
      "source": [
        "c[-2]"
      ]
    },
    {
      "cell_type": "code",
      "execution_count": null,
      "metadata": {
        "id": "CPvW-gVXHpmn"
      },
      "outputs": [],
      "source": [
        "# 1 . karakterden 5. karaktere kadar (1. dahil ama 5. dahil değil)\n",
        "c[1:5]"
      ]
    },
    {
      "cell_type": "code",
      "execution_count": null,
      "metadata": {
        "id": "u_l9MA-GHpmn"
      },
      "outputs": [],
      "source": [
        "#sayı verilmezse otomatik olarak baş veya sonu alır. (0dan başlar)\n",
        "c[:2]"
      ]
    },
    {
      "cell_type": "code",
      "execution_count": null,
      "metadata": {
        "id": "Yqt-2RnQHpmn"
      },
      "outputs": [],
      "source": [
        "c[2:]"
      ]
    },
    {
      "cell_type": "code",
      "execution_count": null,
      "metadata": {
        "id": "fbbYc4DbHpmn"
      },
      "outputs": [],
      "source": [
        "c[:]"
      ]
    },
    {
      "cell_type": "code",
      "execution_count": null,
      "metadata": {
        "id": "eomzcuv5Hpmn"
      },
      "outputs": [],
      "source": [
        "Dil Dilimi (Slicing) ile İndeksleme\n",
        "Bir veri yapısının belirli bir bölümünü almak için dilimleme (slicing) kullanılabilir. Slicing, başlangıç:bitiş formatında yazılır ve bitiş indeksi dahil edilmez."
      ]
    },
    {
      "cell_type": "code",
      "execution_count": null,
      "metadata": {
        "id": "ItaIDksHHpmn"
      },
      "outputs": [],
      "source": [
        "# String dilimleme\n",
        "text = \"Python Programlama\"\n",
        "print(text[0:6])  # 'Python' (0. indeksten 6. indekse kadar)\n",
        "print(text[:6])   # 'Python' (baştan 6. indekse kadar)\n",
        "print(text[7:])   # 'Programlama' (7. indeksten sona kadar)"
      ]
    },
    {
      "cell_type": "code",
      "execution_count": null,
      "metadata": {
        "id": "7ZX12MoWX3Ol"
      },
      "outputs": [],
      "source": [
        "x=text[7:]"
      ]
    },
    {
      "cell_type": "code",
      "execution_count": null,
      "metadata": {
        "id": "FYpz029tX55J"
      },
      "outputs": [],
      "source": [
        "x"
      ]
    },
    {
      "cell_type": "markdown",
      "metadata": {
        "id": "xzCFkgnwHpmo"
      },
      "source": [
        "#### Print Fonksiyonunun Kullanım Şekilleri"
      ]
    },
    {
      "cell_type": "code",
      "execution_count": null,
      "metadata": {
        "id": "y0YunQiWHpmo"
      },
      "outputs": [],
      "source": [
        "a = \"mehmet\"\n",
        "print(a)"
      ]
    },
    {
      "cell_type": "code",
      "execution_count": null,
      "metadata": {
        "id": "DHMxzWJlHpmo"
      },
      "outputs": [],
      "source": [
        "a=2\n",
        "print(\"1 sorgu\", a)\n",
        "\n",
        "b=3\n",
        "print(\"2 sorgu\", b)"
      ]
    },
    {
      "cell_type": "code",
      "execution_count": null,
      "metadata": {
        "id": "y4M9NSecHpmo"
      },
      "outputs": [],
      "source": [
        "a=2\n",
        "print(3 + a)"
      ]
    },
    {
      "cell_type": "code",
      "execution_count": null,
      "metadata": {
        "id": "ygod6kaPHpmo"
      },
      "outputs": [],
      "source": [
        "a"
      ]
    },
    {
      "cell_type": "code",
      "execution_count": null,
      "metadata": {
        "id": "S5JAaZqBHpmo"
      },
      "outputs": [],
      "source": [
        "a=2\n",
        "print(\"yazdığın sayı: \" + str(a))"
      ]
    },
    {
      "cell_type": "code",
      "execution_count": null,
      "metadata": {
        "id": "IEsEEOgXHpmo"
      },
      "outputs": [],
      "source": [
        "a = \"yalçın\"\n",
        "print(\"hoşgeldin \" + \"sayın \" + a)"
      ]
    },
    {
      "cell_type": "code",
      "execution_count": null,
      "metadata": {
        "id": "h8Vyd45HHpmo"
      },
      "outputs": [],
      "source": [
        "# sep fonksiyonu ile kelimelerin arasına istenilen ifade eklenebilir.(sep fonksiyonu virgül ile kullanılır.)\n",
        "a = \"mehmet\"\n",
        "print(\"hoşgeldin\",\"sayın\",a , sep=\"_\" )"
      ]
    },
    {
      "cell_type": "code",
      "execution_count": null,
      "metadata": {
        "id": "zJ47LXupHpmo"
      },
      "outputs": [],
      "source": [
        "a = \"yalçın\"\n",
        "print(\"hoşgeldin_\" + \"sayın_\" + a)"
      ]
    },
    {
      "cell_type": "code",
      "execution_count": null,
      "metadata": {
        "id": "Ma1TDUtEHpmo"
      },
      "outputs": [],
      "source": [
        "# boşluk bırakmak için sep=\" \"\n",
        "a = \"mehmet\"\n",
        "print(\"hoşgeldin\",\"sayın \",a , sep=\"  *  \" )"
      ]
    },
    {
      "cell_type": "code",
      "execution_count": null,
      "metadata": {
        "id": "ngCvuQUBHpmp"
      },
      "outputs": [],
      "source": [
        "print(\"bana hoşgeldin ve 'iyi günler' dedi\")"
      ]
    },
    {
      "cell_type": "code",
      "execution_count": null,
      "metadata": {
        "id": "2wttWJFbHpmp"
      },
      "outputs": [],
      "source": [
        "#kaçış dizileri \\\n",
        "print(\"bana hoşgeldin ve \\\"iyi günler\\\" dedi\")"
      ]
    },
    {
      "cell_type": "code",
      "execution_count": null,
      "metadata": {
        "id": "dg5o6dNAHpmp"
      },
      "outputs": [],
      "source": [
        "#paragraf yapan kaçış dizisi \\n\n",
        "\n",
        "print(\"bana hoşgeldin ve iyi \\ngünler \\ndedi\")"
      ]
    },
    {
      "cell_type": "code",
      "execution_count": null,
      "metadata": {
        "id": "D8PV2l0XHpmp"
      },
      "outputs": [],
      "source": [
        "#tab yapan (boşluk bırakan) kaçış dizisi \\t\n",
        "\n",
        "print(\"bana hoşgeldin ve iyi \\tgünler \\tdedi\")"
      ]
    },
    {
      "cell_type": "code",
      "execution_count": null,
      "metadata": {
        "id": "UZlpUeVSHpmp"
      },
      "outputs": [],
      "source": [
        "print(\"mehmet\" + \"2\")"
      ]
    },
    {
      "cell_type": "markdown",
      "metadata": {
        "id": "xmLK5EISHpmp"
      },
      "source": [
        "#### Değişkenlerden Kelime Bulutları"
      ]
    },
    {
      "cell_type": "code",
      "execution_count": null,
      "metadata": {
        "id": "IoZtbdWwHpmq",
        "jupyter": {
          "outputs_hidden": true
        },
        "tags": []
      },
      "outputs": [],
      "source": [
        "!pip install wordcloud"
      ]
    },
    {
      "cell_type": "code",
      "execution_count": null,
      "metadata": {
        "id": "6jri86Z2Hpmq",
        "tags": []
      },
      "outputs": [],
      "source": [
        "from wordcloud import WordCloud, STOPWORDS, ImageColorGenerator\n",
        "import matplotlib.pyplot as plt"
      ]
    },
    {
      "cell_type": "code",
      "execution_count": null,
      "metadata": {
        "id": "ggiG8Vt_Hpmq",
        "tags": []
      },
      "outputs": [],
      "source": [
        "wordcloud = WordCloud(max_font_size=50, max_words=100, background_color=\"white\").generate(kabinraporu_m1)\n",
        "plt.figure()\n",
        "plt.imshow(wordcloud, interpolation=\"bilinear\")\n",
        "plt.axis(\"off\")\n",
        "plt.show()"
      ]
    },
    {
      "cell_type": "markdown",
      "metadata": {
        "id": "t8FJaZFEHpmq"
      },
      "source": [
        "#### 3-Listeler (Lists) ve Demet (Tuple)\n",
        "\n",
        "Python’da Liste (List) ve Tuple, veri koleksiyonlarını saklamak için kullanılan iki temel veri türüdür. İkisi de birden fazla veriyi sıralı bir şekilde tutabilir, ancak bazı önemli farkları vardır."
      ]
    },
    {
      "cell_type": "markdown",
      "metadata": {
        "id": "ZeNajIdcHpmq"
      },
      "source": [
        "##### Liste (List):\n",
        "Liste, değiştirilebilir (mutable) ve sıralı bir veri yapısıdır. Yani, listeye eleman ekleyebilir, çıkarabilir ve mevcut elemanları değiştirebilirsiniz.\n",
        "Özellikleri:\n",
        "1. Sıralıdır: Elemanların sırası önemlidir.\n",
        "2. Değiştirilebilir: Elemanları ekleyebilir, çıkarabilir veya güncelleyebilirsiniz.\n",
        "3. Farklı veri tiplerini saklayabilir: Bir liste, aynı anda sayıları, metinleri ve diğer veri tiplerini içerebilir."
      ]
    },
    {
      "cell_type": "code",
      "execution_count": null,
      "metadata": {
        "id": "aiCzvpSkHpmq"
      },
      "outputs": [],
      "source": [
        "# Bir liste tanımlıyoruz\n",
        "numbers = [10, 20, 30, 40, 50]"
      ]
    },
    {
      "cell_type": "code",
      "execution_count": null,
      "metadata": {
        "id": "gIJVv5ewHpmq"
      },
      "outputs": [],
      "source": [
        "type(numbers)"
      ]
    },
    {
      "cell_type": "code",
      "execution_count": null,
      "metadata": {
        "id": "ZWR1GJeaHpmq"
      },
      "outputs": [],
      "source": [
        "print(\"Liste:\", numbers)"
      ]
    },
    {
      "cell_type": "code",
      "execution_count": null,
      "metadata": {
        "id": "t_UgtO6rHpmr"
      },
      "outputs": [],
      "source": [
        "# Pozitif indeksleme\n",
        "print(numbers[0])  # 10 (ilk eleman)\n",
        "print(numbers[2])  # 30 (3. eleman)"
      ]
    },
    {
      "cell_type": "code",
      "execution_count": null,
      "metadata": {
        "id": "imvU6XlPHpmr"
      },
      "outputs": [],
      "source": [
        "# Negatif indeksleme\n",
        "print(numbers[-1])  # 50 (son eleman)\n",
        "print(numbers[-2])  # 40 (sondan ikinci eleman)"
      ]
    },
    {
      "cell_type": "code",
      "execution_count": null,
      "metadata": {
        "id": "Gjnp9_mMHpmr"
      },
      "outputs": [],
      "source": [
        "print(\"Listenin İlk Elemanı:\", numbers[0])"
      ]
    },
    {
      "cell_type": "code",
      "execution_count": null,
      "metadata": {
        "id": "knvlee70Hpmr"
      },
      "outputs": [],
      "source": [
        "# Liste dilimleme\n",
        "numbers = [10, 20, 30, 40, 50]\n",
        "print(numbers[1:4])  # [20, 30, 40] (2., 3., ve 4. elemanlar)\n",
        "print(numbers[:3])   # [10, 20, 30] (baştan 3. eleman)\n",
        "print(numbers[-3:])  # [30, 40, 50] (son 3 eleman)"
      ]
    },
    {
      "cell_type": "code",
      "execution_count": null,
      "metadata": {
        "id": "FzPRk-HMHpmr"
      },
      "outputs": [],
      "source": [
        "#listelerin içindeki değerler değiştirilebilir"
      ]
    },
    {
      "cell_type": "code",
      "execution_count": null,
      "metadata": {
        "id": "-kA9TJR3Hpmr"
      },
      "outputs": [],
      "source": [
        "numbers[1:3]"
      ]
    },
    {
      "cell_type": "code",
      "execution_count": null,
      "metadata": {
        "id": "ZzXfdRjXHpmr"
      },
      "outputs": [],
      "source": [
        "list=[\"a\",2,\"b\",3]"
      ]
    },
    {
      "cell_type": "code",
      "execution_count": null,
      "metadata": {
        "id": "qjjB2iO0Hpmr"
      },
      "outputs": [],
      "source": [
        "list"
      ]
    },
    {
      "cell_type": "code",
      "execution_count": null,
      "metadata": {
        "id": "K2fbaR5eHpmr"
      },
      "outputs": [],
      "source": [
        "#listenin uzunluğu\n",
        "\n",
        "len(numbers)"
      ]
    },
    {
      "cell_type": "code",
      "execution_count": null,
      "metadata": {
        "id": "31xJyZtGHpms"
      },
      "outputs": [],
      "source": [
        "notlar= [10,12,14,16]\n",
        "notlar[3]"
      ]
    },
    {
      "cell_type": "code",
      "execution_count": null,
      "metadata": {
        "id": "HV0SJH84Hpms"
      },
      "outputs": [],
      "source": [
        "notlar[-1]"
      ]
    },
    {
      "cell_type": "code",
      "execution_count": null,
      "metadata": {
        "id": "ru7fCNAXHpms"
      },
      "outputs": [],
      "source": [
        "#tüm listesi getirecek\n",
        "notlar, notlar[:]"
      ]
    },
    {
      "cell_type": "code",
      "execution_count": null,
      "metadata": {
        "id": "I8tcm3EjHpms"
      },
      "outputs": [],
      "source": [
        "#listenin içindeki değeri değiştirme\n",
        "\n",
        "notlar[0]= 100\n",
        "print(notlar)"
      ]
    },
    {
      "cell_type": "code",
      "execution_count": null,
      "metadata": {
        "id": "FPnOVoy4Hpms"
      },
      "outputs": [],
      "source": [
        "notlar[0:3]"
      ]
    },
    {
      "cell_type": "code",
      "execution_count": null,
      "metadata": {
        "id": "7QH90jvWHpms"
      },
      "outputs": [],
      "source": [
        "# 0. 1. ve 2. değerler değişti\n",
        "notlar[0:3]= [30,40,50]\n",
        "notlar"
      ]
    },
    {
      "cell_type": "code",
      "execution_count": null,
      "metadata": {
        "id": "sh5dwEkyHpmt"
      },
      "outputs": [],
      "source": [
        "#listeye liste ekleme\n",
        "\n",
        "list2= notlar + [8,9]\n",
        "list2"
      ]
    },
    {
      "cell_type": "code",
      "execution_count": null,
      "metadata": {
        "id": "0ra1A35bHpmt"
      },
      "outputs": [],
      "source": [
        "#append fonksiyonu ile değer eklenir\n",
        "\n",
        "list2.append(200)\n",
        "list2"
      ]
    },
    {
      "cell_type": "code",
      "execution_count": null,
      "metadata": {
        "id": "JFyHuuITHpmt"
      },
      "outputs": [],
      "source": [
        "#extend fonksiyonu ile değerler eklenir\n",
        "\n",
        "list2.extend([1,2,3])"
      ]
    },
    {
      "cell_type": "code",
      "execution_count": null,
      "metadata": {
        "id": "MFxOKxAEHpmt"
      },
      "outputs": [],
      "source": [
        "list2"
      ]
    },
    {
      "cell_type": "code",
      "execution_count": null,
      "metadata": {
        "id": "08cO4uPPHpmt"
      },
      "outputs": [],
      "source": [
        "#listeyi kopyalama copy fonksiyonu ile yapılır\n",
        "\n",
        "list3= list2.copy()\n",
        "\n",
        "list3"
      ]
    },
    {
      "cell_type": "code",
      "execution_count": null,
      "metadata": {
        "id": "NnIPKVjVgu6f"
      },
      "outputs": [],
      "source": [
        "list2"
      ]
    },
    {
      "cell_type": "code",
      "execution_count": null,
      "metadata": {
        "id": "qVgTYcRwHpmt"
      },
      "outputs": [],
      "source": [
        "#remove fonksiyoun ile silme (ilk gördüğü istenen değeri siler)\n",
        "list3.remove(30)"
      ]
    },
    {
      "cell_type": "code",
      "execution_count": null,
      "metadata": {
        "id": "ozAx8RZMgyvH"
      },
      "outputs": [],
      "source": [
        "list3"
      ]
    },
    {
      "cell_type": "code",
      "execution_count": null,
      "metadata": {
        "id": "Qjb5fDuAHpmu"
      },
      "outputs": [],
      "source": [
        "list3"
      ]
    },
    {
      "cell_type": "code",
      "execution_count": null,
      "metadata": {
        "id": "aT-zZESuHpmu"
      },
      "outputs": [],
      "source": [
        "list3.remove(200)\n",
        "list3"
      ]
    },
    {
      "cell_type": "code",
      "execution_count": null,
      "metadata": {
        "id": "zg4ZaGn_Hpmu"
      },
      "outputs": [],
      "source": [
        "#sayma (30'dan kaç tane var)\n",
        "\n",
        "list3.count(200)"
      ]
    },
    {
      "cell_type": "code",
      "execution_count": null,
      "metadata": {
        "id": "CXqoylHLHpmu"
      },
      "outputs": [],
      "source": [
        "#listeyi ters düz etme reverse()\n",
        "list3.reverse()\n",
        "list3"
      ]
    },
    {
      "cell_type": "code",
      "execution_count": null,
      "metadata": {
        "id": "Kjdh2lOhHpmu"
      },
      "outputs": [],
      "source": [
        "#listeyi küçükten büyüğe sıralama\n",
        "list3.sort()\n",
        "list3"
      ]
    },
    {
      "cell_type": "markdown",
      "metadata": {
        "id": "J_RDDP34Hpmv"
      },
      "source": [
        "##### Demet (Tuple):\n",
        "Tuple, değiştirilemez (immutable) ve sıralı bir veri yapısıdır. Bir kez oluşturulduktan sonra, tuple’ın elemanları değiştirilemez.\n",
        "Özellikleri:\n",
        "1. Sıralıdır: Elemanların sırası önemlidir.\n",
        "2. Değiştirilemez: Elemanları ekleyemez, çıkaramaz veya değiştiremezsiniz.\n",
        "3. Farklı veri tiplerini saklayabilir: Aynı listelerde olduğu gibi, farklı veri tiplerini içerebilir."
      ]
    },
    {
      "cell_type": "code",
      "execution_count": null,
      "metadata": {
        "id": "C8kP0NjYHpmv"
      },
      "outputs": [],
      "source": [
        "tuple1= (1,2,3)\n",
        "tuple1"
      ]
    },
    {
      "cell_type": "code",
      "execution_count": null,
      "metadata": {
        "id": "ONGlziYqHpmv"
      },
      "outputs": [],
      "source": [
        "tuple2= (1,2,3,\"a\")\n",
        "tuple2"
      ]
    },
    {
      "cell_type": "code",
      "execution_count": null,
      "metadata": {
        "id": "Tt0_qbATHpmv"
      },
      "outputs": [],
      "source": [
        "tuple2[0]"
      ]
    },
    {
      "cell_type": "markdown",
      "metadata": {
        "id": "IU-WeSA9Hpmv"
      },
      "source": [
        "#### 4-Sözlük (Dictionary)\n",
        "\n",
        "Python’da dictionary (sözlük), anahtar-değer (key-value) çiftlerini saklayan bir veri yapısıdır. Dictionary, veri koleksiyonlarını hızlı bir şekilde düzenlemek ve üzerinde işlem yapmak için idealdir.\n",
        "Sözlüklerin Temel Özellikleri\n",
        "1. Anahtar-değer çiftlerinden oluşur:  \n",
        "• Anahtar (Key): Benzersiz olmak zorundadır. Aynı anahtar birden fazla kez kullanılamaz.  \n",
        "• Değer (Value): Herhangi bir veri tipi olabilir ve tekrarlanabilir.  \n",
        "2. Değiştirilebilir (Mutable):  \n",
        "• Eleman ekleyebilir, değiştirebilir veya silebilirsiniz.  \n",
        "3. Sırasız (Unordered):  \n",
        "• Python 3.6 ve sonrasında dictionary’ler sıralı gibi davranır (eklenme sırasını korur), ancak bu tamamen garanti edilmez.  \n",
        "4. Hızlı erişim sağlar:  \n",
        "• Anahtarlar aracılığıyla verilere hızlıca erişebilirsiniz.  "
      ]
    },
    {
      "cell_type": "code",
      "execution_count": null,
      "metadata": {
        "id": "S-8zkg6NHpmw"
      },
      "outputs": [],
      "source": [
        "#dataframe işlemlerinde map fonksiyonuyla sıkça kullanılmaktadır."
      ]
    },
    {
      "cell_type": "code",
      "execution_count": null,
      "metadata": {
        "id": "Sr9C0igdHpmw"
      },
      "outputs": [],
      "source": [
        "d= { \"student_1\": 90, \"student_2\": 75, \"student_3\":60 }"
      ]
    },
    {
      "cell_type": "code",
      "execution_count": null,
      "metadata": {
        "id": "MywepvueHpmw"
      },
      "outputs": [],
      "source": [
        "d"
      ]
    },
    {
      "cell_type": "code",
      "execution_count": null,
      "metadata": {
        "id": "iAno9USCHpmw"
      },
      "outputs": [],
      "source": [
        "#student 2'nin değerine ulaşma\n",
        "d[\"student_2\"]"
      ]
    },
    {
      "cell_type": "code",
      "execution_count": null,
      "metadata": {
        "id": "w6EznRE3Hpmw"
      },
      "outputs": [],
      "source": [
        "#student 3'un değerine ulaşma\n",
        "d[\"student_3\"]"
      ]
    },
    {
      "cell_type": "code",
      "execution_count": null,
      "metadata": {
        "id": "n2pPsV7aHpmw"
      },
      "outputs": [],
      "source": [
        "type(d)"
      ]
    },
    {
      "cell_type": "code",
      "execution_count": null,
      "metadata": {
        "id": "nFRBZkbdHpmw"
      },
      "outputs": [],
      "source": [
        "#öğrencilerin 1. ve 2. notları eklenmiştir.\n",
        "notlar= {\"student_1\": [90,62], \"student_2\": [85,75], \"student_3\":[60,58]}"
      ]
    },
    {
      "cell_type": "code",
      "execution_count": null,
      "metadata": {
        "id": "_1tDz2goHpmw"
      },
      "outputs": [],
      "source": [
        "notlar"
      ]
    },
    {
      "cell_type": "code",
      "execution_count": null,
      "metadata": {
        "id": "VrlS_ImOHpmw"
      },
      "outputs": [],
      "source": [
        "notlar[\"student_1\"]"
      ]
    },
    {
      "cell_type": "code",
      "execution_count": null,
      "metadata": {
        "id": "V-r1oWl5Hpmx"
      },
      "outputs": [],
      "source": [
        "#student_1 nin 2.notu\n",
        "\n",
        "notlar[\"student_1\"][1]"
      ]
    },
    {
      "cell_type": "code",
      "execution_count": null,
      "metadata": {
        "id": "xRy3a7u2Hpmx"
      },
      "outputs": [],
      "source": [
        "#student_1 nin 1.notu\n",
        "\n",
        "notlar[\"student_1\"][0]"
      ]
    },
    {
      "cell_type": "code",
      "execution_count": null,
      "metadata": {
        "id": "1ihfrSX1Hpmx"
      },
      "outputs": [],
      "source": [
        "#student_2 in ilk notuna erişelim"
      ]
    },
    {
      "cell_type": "code",
      "execution_count": null,
      "metadata": {
        "id": "z3AeiyilHpmx"
      },
      "outputs": [],
      "source": [
        "notlar[\"student_2\"][0]"
      ]
    },
    {
      "cell_type": "markdown",
      "metadata": {
        "id": "5xyMkkfqHpmx"
      },
      "source": [
        "#### 5-Küme (Set)\n",
        "\n",
        "Python’da set (küme), eşsiz (unique) elemanlardan oluşan, sırasız ve değiştirilebilir bir veri yapısıdır. Matematikteki kümeler gibi çalışır ve tekrarlayan değerleri otomatik olarak kaldırır. Bu özellik, veri kümeleriyle çalışırken oldukça kullanışlıdır.\n",
        "Set’in Temel Özellikleri\n",
        "1. Eşsiz Elemanlar: Set içinde aynı elemandan birden fazla bulunamaz.\n",
        "• Örneğin, {1, 2, 2, 3} bir set olarak {1, 2, 3} haline gelir.\n",
        "2. Sırasızdır: Elemanların sırası önemli değildir, bu nedenle indeksleme veya dilimleme yapılamaz.\n",
        "3. Değiştirilebilir (Mutable): Set’e yeni elemanlar ekleyebilir veya çıkarabilirsiniz.\n",
        "4. Karmaşık Veri Türlerini Saklayamaz: Set elemanları yalnızca değiştirilemez (immutable) veri tiplerinden oluşabilir. Örneğin, bir list set içinde bulunamaz, ancak bir tuple bulunabilir.\n",
        "Set Oluşturma\n",
        "Set, süslü parantez {} veya set() fonksiyonu ile oluşturulur."
      ]
    },
    {
      "cell_type": "code",
      "execution_count": null,
      "metadata": {
        "id": "NH28mMqeHpmx"
      },
      "outputs": [],
      "source": [
        "my_set={1, 2, 3, 4}"
      ]
    },
    {
      "cell_type": "code",
      "execution_count": null,
      "metadata": {
        "id": "1h4wgU41iqTG"
      },
      "outputs": [],
      "source": [
        "my_set"
      ]
    },
    {
      "cell_type": "code",
      "execution_count": null,
      "metadata": {
        "id": "0hJQ8LzQHpmx"
      },
      "outputs": [],
      "source": [
        "list1= [1,1,1,2,3,4]"
      ]
    },
    {
      "cell_type": "code",
      "execution_count": null,
      "metadata": {
        "id": "SCQyo1amHpmx"
      },
      "outputs": [],
      "source": [
        "ss= set(list1)"
      ]
    },
    {
      "cell_type": "code",
      "execution_count": null,
      "metadata": {
        "id": "2BehL4l_Hpmx"
      },
      "outputs": [],
      "source": [
        "ss"
      ]
    },
    {
      "cell_type": "code",
      "execution_count": null,
      "metadata": {
        "id": "zeWr06r3Hpmy"
      },
      "outputs": [],
      "source": [
        "type(ss)"
      ]
    },
    {
      "cell_type": "code",
      "execution_count": null,
      "metadata": {
        "id": "aAsomYw6Hpmy"
      },
      "outputs": [],
      "source": [
        "#set'e ekleme yapmak için add fonks. kullanılır.\n",
        "ss.add(5)\n",
        "ss"
      ]
    },
    {
      "cell_type": "code",
      "execution_count": null,
      "metadata": {
        "id": "KV_zRUAsHpmy"
      },
      "outputs": [],
      "source": [
        "#eleman çıkarmak için remove fonks kullanılır.\n",
        "\n",
        "ss.remove(5)\n",
        "ss"
      ]
    },
    {
      "cell_type": "code",
      "execution_count": null,
      "metadata": {
        "id": "GScN0PsTHpmy"
      },
      "outputs": [],
      "source": [
        "#set oluşturma\n",
        "s1= set([10,20,30,30])\n",
        "s1"
      ]
    },
    {
      "cell_type": "code",
      "execution_count": null,
      "metadata": {
        "id": "46Fcx-fYHpmy"
      },
      "outputs": [],
      "source": [
        "s2= set([20,30,30,40])\n",
        "s2"
      ]
    },
    {
      "cell_type": "code",
      "execution_count": null,
      "metadata": {
        "id": "-3-FLakVHpmy"
      },
      "outputs": [],
      "source": [
        "#s1 de olup s2 de olmayan\n",
        "s1 - s2"
      ]
    },
    {
      "cell_type": "code",
      "execution_count": null,
      "metadata": {
        "id": "svmigH5GHpmy"
      },
      "outputs": [],
      "source": [
        "#s2 de olup s1 de olmayan\n",
        "s2 - s1"
      ]
    },
    {
      "cell_type": "code",
      "execution_count": null,
      "metadata": {
        "id": "dfk5dB4KHpmy"
      },
      "outputs": [],
      "source": [
        "#kesişimleri\n",
        "\n",
        "s1.intersection(s2)"
      ]
    },
    {
      "cell_type": "markdown",
      "metadata": {
        "id": "TmWI3ZV4Hpmz"
      },
      "source": [
        "### Boolean Operatörler"
      ]
    },
    {
      "cell_type": "markdown",
      "metadata": {
        "id": "xX5puR-lHpmz",
        "tags": []
      },
      "source": [
        "* Boolean bir karşılaştırmanın true veya false olduğunu kontrol eder.\n",
        "\n",
        "- Karşılaştırma operatörleri :\n",
        "\n",
        "      x == y               # x eşittir y\n",
        "      x != y               # x eşit değildir y\n",
        "      x > y                # x büyüktür y\n",
        "      x < y                # x küçüktür y\n",
        "      x >= y               # x büyük veya eşittir y\n",
        "      x <= y               # x küçük veya eşittir y\n",
        "      x is y               # x aynıdır y\n",
        "      x is not y           # x aynı değildir y"
      ]
    },
    {
      "cell_type": "code",
      "execution_count": null,
      "metadata": {
        "id": "uDRhddRmHpmz"
      },
      "outputs": [],
      "source": [
        "3 ==4"
      ]
    },
    {
      "cell_type": "code",
      "execution_count": null,
      "metadata": {
        "id": "ahMLfNElHpmz"
      },
      "outputs": [],
      "source": [
        "3!=4"
      ]
    },
    {
      "cell_type": "code",
      "execution_count": null,
      "metadata": {
        "id": "PDI5USmmHpmz"
      },
      "outputs": [],
      "source": [
        "4>=4"
      ]
    },
    {
      "cell_type": "code",
      "execution_count": null,
      "metadata": {
        "id": "2vURlyZTHpmz"
      },
      "outputs": [],
      "source": [
        "3 is 4"
      ]
    },
    {
      "cell_type": "code",
      "execution_count": null,
      "metadata": {
        "id": "RllkdskrHpm0"
      },
      "outputs": [],
      "source": [
        "# tersini yapar not fonks.\n",
        "not(3<4)"
      ]
    },
    {
      "cell_type": "code",
      "execution_count": null,
      "metadata": {
        "id": "j_JoanMMHpm0"
      },
      "outputs": [],
      "source": [
        "\"Ayşe\" is \"ayşe\""
      ]
    },
    {
      "cell_type": "code",
      "execution_count": null,
      "metadata": {
        "id": "jeT7NcusHpm0"
      },
      "outputs": [],
      "source": [
        "\"Ayşe\" is \"Ayşe\""
      ]
    },
    {
      "cell_type": "markdown",
      "metadata": {
        "id": "ma7vnR_BHpm0"
      },
      "source": [
        "### Mantıksal Operatörler"
      ]
    },
    {
      "cell_type": "markdown",
      "metadata": {
        "id": "WSc7B3eyHpm0"
      },
      "source": [
        "3 çeşit mantıksal operatör vardır: and, or, ve not."
      ]
    },
    {
      "cell_type": "markdown",
      "metadata": {
        "id": "_BTiznUsHpm0"
      },
      "source": [
        " x < 0 and x > 10\n",
        "\n",
        "x 0'dan küçükse ve 10'dan büyükse true döner\n",
        "\n",
        "\n",
        "n%2 == 0 or n%3 == 0 koşullarından biri doğru ise true döner.\n",
        "\n",
        "not (x > y) true döner, eğer x > y false ise. veya tam tersi durum söz konusudur."
      ]
    },
    {
      "cell_type": "code",
      "execution_count": null,
      "metadata": {
        "id": "9lvHgSFtHpm0"
      },
      "outputs": [],
      "source": [
        "3<4 and 4<5"
      ]
    },
    {
      "cell_type": "code",
      "execution_count": null,
      "metadata": {
        "id": "mngaBpJeHpm0"
      },
      "outputs": [],
      "source": [
        "3<4 and 4>5"
      ]
    },
    {
      "cell_type": "code",
      "execution_count": null,
      "metadata": {
        "id": "W4lvZ-zSHpm0"
      },
      "outputs": [],
      "source": [
        "3<4 or 4>5"
      ]
    },
    {
      "cell_type": "code",
      "execution_count": null,
      "metadata": {
        "id": "pNUhecHoHpm1"
      },
      "outputs": [],
      "source": [
        "n= 8\n",
        "n%2 == 0 or n%3 == 0"
      ]
    },
    {
      "cell_type": "code",
      "execution_count": null,
      "metadata": {
        "id": "Ko7QdwfbHpm1"
      },
      "outputs": [],
      "source": [
        "n= 8\n",
        "n%2 == 0 and n%3 == 0"
      ]
    },
    {
      "cell_type": "code",
      "execution_count": null,
      "metadata": {
        "id": "W-tzI168Hpm1"
      },
      "outputs": [],
      "source": [
        "x=5\n",
        "y=8\n",
        "\n",
        "x<y"
      ]
    },
    {
      "cell_type": "code",
      "execution_count": null,
      "metadata": {
        "id": "RUlbR6VCHpm1"
      },
      "outputs": [],
      "source": [
        "not(x<y)"
      ]
    },
    {
      "cell_type": "markdown",
      "metadata": {
        "id": "iSfP6fPLHpm1"
      },
      "source": [
        "### IF - ELSE yapıları"
      ]
    },
    {
      "cell_type": "markdown",
      "metadata": {
        "id": "XlJ42Z4NHpm1"
      },
      "source": [
        "Koşullu ifadeler için if- else kullanılır."
      ]
    },
    {
      "cell_type": "code",
      "execution_count": null,
      "metadata": {
        "id": "UZjmM9XvHpm1"
      },
      "outputs": [],
      "source": [
        "gelir=10\n",
        "gider=20"
      ]
    },
    {
      "cell_type": "code",
      "execution_count": null,
      "metadata": {
        "id": "nUs22FjYHpm1"
      },
      "outputs": [],
      "source": [
        "if gelir>gider:\n",
        "    print(\"kar\")\n",
        "else:\n",
        "    print(\"zarar\")\n"
      ]
    },
    {
      "cell_type": "code",
      "execution_count": null,
      "metadata": {
        "id": "6cn-jzM6Hpm1"
      },
      "outputs": [],
      "source": [
        "if gelir>gider:\n",
        "    print(\"kar\")\n",
        "\n",
        "elif gelir==gider:\n",
        "    print(\"ne kar ne zarar\")\n",
        "\n",
        "else:\n",
        "    print(\"zarar\")"
      ]
    },
    {
      "cell_type": "code",
      "execution_count": null,
      "metadata": {
        "id": "hysTaX6LHpm2"
      },
      "outputs": [],
      "source": [
        "gelir= int(input(\"lütfen gelirinizi giriniz: \"))\n",
        "gider= int(input(\"lütfen giderinizi giriniz: \"))\n",
        "\n",
        "if gelir>gider:\n",
        "    print(\"kar\")\n",
        "\n",
        "elif gelir==gider:\n",
        "    print(\"ne kar ne zarar\")\n",
        "\n",
        "else:\n",
        "    print(\"zarar\")"
      ]
    },
    {
      "cell_type": "code",
      "execution_count": null,
      "metadata": {
        "id": "0EE9_1GaHpm2"
      },
      "outputs": [],
      "source": [
        "#yaş 18den küçük \"mekana giremezsin, go home\" eğer 18den büyük ve eşitse \"buyrunuz\"\n",
        "\n",
        "yas= int(input(\"lütfen yaşınızı giriniz: \"))\n",
        "if yas>=18:\n",
        "    print(\"buyrunuz\")\n",
        "else:\n",
        "    print(\"mekana giremezsin, go home\")"
      ]
    },
    {
      "cell_type": "code",
      "execution_count": null,
      "metadata": {
        "id": "tjVMFYknHpm2"
      },
      "outputs": [],
      "source": [
        "#negatif değer için tekrar yaş isteyerek if kurduk.\n",
        "yas= int(input(\"lütfen yaşınızı giriniz: \"))\n",
        "\n",
        "if yas<0:\n",
        "    yas= int(input(\"lütfen yaşınızı giriniz: \"))\n",
        "if yas>=18:\n",
        "    print(\"buyrunuz\")\n",
        "else:\n",
        "    print(\"mekana giremezsin, go home\")"
      ]
    },
    {
      "cell_type": "code",
      "execution_count": null,
      "metadata": {
        "id": "D1xbm1j0Hpm3"
      },
      "outputs": [],
      "source": [
        "# girilen şifrenin mehmet olması durumunda bravo yazsın, değilse tekrar denesin\n",
        "\n",
        "password= str(input(\"şifreyi giriniz: \"))\n",
        "\n",
        "if password== \"mehmet\":\n",
        "    print(\"bravo\")\n",
        "else:\n",
        "    print(\"lütfen tekrar deneyiniz\")"
      ]
    },
    {
      "cell_type": "code",
      "execution_count": null,
      "metadata": {
        "id": "4GaIiXEyHpm3"
      },
      "outputs": [],
      "source": [
        "isim= str(input(\"şifreyi giriniz: \"))"
      ]
    },
    {
      "cell_type": "markdown",
      "metadata": {
        "id": "tp_hQcfUHpm3"
      },
      "source": [
        "## NUMPY\n",
        "\n",
        "#NumPy, Python programlama dili için büyük, çok boyutlu dizileri ve matrisleri destekleyen, bu diziler üzerinde çalışacak üst düzey matematiksel işlevler ekleyen bir kitaplıktır. (wikipedia)\n",
        "\n",
        "#https://numpy.org/\n",
        "\n",
        "Ek Kaynaklar:\n",
        "\n",
        "https://cs231n.github.io/python-numpy-tutorial/\n",
        "\n",
        "https://www.kaggle.com/getting-started/115421"
      ]
    },
    {
      "cell_type": "markdown",
      "metadata": {
        "id": "kUSHfZcfHpm5"
      },
      "source": [
        "### Kütüphane Çağırma:"
      ]
    },
    {
      "cell_type": "raw",
      "metadata": {
        "id": "MWwNwZZxHpm5"
      },
      "source": [
        "##### Not: Kütüphane yüklü değilse !pip install numpy komutu ile bilgisayara indirilmelidir."
      ]
    },
    {
      "cell_type": "code",
      "execution_count": null,
      "metadata": {
        "id": "XD1YR9iKHpm5"
      },
      "outputs": [],
      "source": [
        "!pip install numpy"
      ]
    },
    {
      "cell_type": "code",
      "execution_count": null,
      "metadata": {
        "id": "nENJ_vGSHpm5",
        "tags": []
      },
      "outputs": [],
      "source": [
        "import numpy as np"
      ]
    },
    {
      "cell_type": "markdown",
      "metadata": {
        "id": "fWt1lttcHpm6"
      },
      "source": [
        "Numpy ile array yaratmak:\n",
        "#np.array(), np.zeros(), np.ones(), np.empty(), np.arange(), np.linspace()"
      ]
    },
    {
      "cell_type": "code",
      "execution_count": null,
      "metadata": {
        "id": "uXnP6Ec9Hpm6",
        "tags": []
      },
      "outputs": [],
      "source": [
        "# One dimensional NumPy array\n",
        "a=np.array([1, 2, 3, 4])\n",
        "print(a)"
      ]
    },
    {
      "cell_type": "code",
      "execution_count": null,
      "metadata": {
        "id": "nbTrxb5qHpm6",
        "tags": []
      },
      "outputs": [],
      "source": [
        "# Array of zeros\n",
        "a_zeros=np.zeros(3)\n",
        "print(a_zeros)"
      ]
    },
    {
      "cell_type": "code",
      "execution_count": null,
      "metadata": {
        "id": "0Ksu_MguHpm6",
        "tags": []
      },
      "outputs": [],
      "source": [
        "# Array of 1s\n",
        "a_ones=np.ones(3)\n",
        "print(a_ones)"
      ]
    },
    {
      "cell_type": "code",
      "execution_count": null,
      "metadata": {
        "id": "OlU7NerFHpm6",
        "tags": []
      },
      "outputs": [],
      "source": [
        "aa = np.ones(2, dtype=np.int64)\n",
        "print(aa)"
      ]
    },
    {
      "cell_type": "code",
      "execution_count": null,
      "metadata": {
        "id": "Yu0quRR1Hpm6",
        "tags": []
      },
      "outputs": [],
      "source": [
        "#And even an array that contains a range of evenly spaced intervals.\n",
        "#To do this, you will specify the first number, last number, and the step size.\n",
        "np.arange(4)"
      ]
    },
    {
      "cell_type": "code",
      "execution_count": null,
      "metadata": {
        "id": "5gsJKdVUHpm7",
        "tags": []
      },
      "outputs": [],
      "source": [
        "np.arange(2, 9, 2)"
      ]
    },
    {
      "cell_type": "code",
      "execution_count": null,
      "metadata": {
        "id": "rriN7NUJHpm7",
        "tags": []
      },
      "outputs": [],
      "source": [
        "# Create linearly spaced array\n",
        "np.linspace(0, 10, 5 )"
      ]
    },
    {
      "cell_type": "code",
      "execution_count": null,
      "metadata": {
        "id": "XjKbMlwBHpm7",
        "tags": []
      },
      "outputs": [],
      "source": [
        "# Create 2-dimensional array\n",
        "np.array([[1,2,3],\n",
        "          [4,5,6],\n",
        "          [7,8,9]])"
      ]
    },
    {
      "cell_type": "code",
      "execution_count": null,
      "metadata": {
        "id": "cfCa5lj1Hpm7",
        "tags": []
      },
      "outputs": [],
      "source": [
        "print(a[1])"
      ]
    },
    {
      "cell_type": "code",
      "execution_count": null,
      "metadata": {
        "id": "9cgc55vcHpm7",
        "tags": []
      },
      "outputs": [],
      "source": [
        "# # Sort in ascending order\n",
        "sorted_array =np.sort(a)\n",
        "sorted_array"
      ]
    },
    {
      "cell_type": "code",
      "execution_count": null,
      "metadata": {
        "id": "QZ8kbVcxHpm8",
        "tags": []
      },
      "outputs": [],
      "source": [
        "# Reverse the sorted array\n",
        "reverse_array = sorted_array [::-1]\n",
        "reverse_array"
      ]
    },
    {
      "cell_type": "code",
      "execution_count": null,
      "metadata": {
        "id": "Z9V0rc0IHpm8",
        "tags": []
      },
      "outputs": [],
      "source": [
        "x= np.array([1, 2, 3, 4])\n",
        "y= np.array([5, 6, 7, 8])"
      ]
    },
    {
      "cell_type": "code",
      "execution_count": null,
      "metadata": {
        "id": "isxA6g08Hpm8",
        "tags": []
      },
      "outputs": [],
      "source": [
        "#Array combination\n",
        "np.concatenate((x, y))"
      ]
    },
    {
      "cell_type": "code",
      "execution_count": null,
      "metadata": {
        "id": "xH87YaCSHpm8"
      },
      "outputs": [],
      "source": [
        "# 5. NumPy ile İstatistiksel İşlemler\n",
        "ortalama = x.mean()\n",
        "toplam = x.sum()"
      ]
    },
    {
      "cell_type": "code",
      "execution_count": null,
      "metadata": {
        "id": "YP4SwxzyHpm8"
      },
      "outputs": [],
      "source": [
        "print(\"Ortalama:\", ortalama)"
      ]
    },
    {
      "cell_type": "code",
      "execution_count": null,
      "metadata": {
        "id": "syvea5U8Hpm8"
      },
      "outputs": [],
      "source": [
        "print(\"Toplam:\", toplam)"
      ]
    },
    {
      "cell_type": "markdown",
      "metadata": {
        "id": "8LzBFZFsHpm8"
      },
      "source": [
        "<img src=\"https://github.com/nevcihan/COE_Python/blob/main/Session2_Python_Main/pict2.png?raw=1\" width=\"500\"/>"
      ]
    },
    {
      "cell_type": "markdown",
      "metadata": {
        "id": "hn3zPTFxHpm-"
      },
      "source": [
        "## PANDAS\n",
        "\n",
        "It’s simple to use Pandas in order to export your array as well.\n",
        "If you are new to NumPy, you may want to create a Pandas dataframe from the values in your array and\n",
        "then write the data frame to a CSV file with Pandas.\n",
        "\n",
        "#https://pandas.pydata.org/docs/user_guide/index.html\n",
        "#https://pandas.pydata.org/docs/user_guide/cookbook.html#cookbook"
      ]
    },
    {
      "cell_type": "raw",
      "metadata": {
        "id": "KZysj0snHpm-"
      },
      "source": [
        "#### Kütüphane Çağırma:\n",
        "##### Not: Kütüphane yüklü değilse !pip install pandas komutu ile bilgisayara indirilmelidir."
      ]
    },
    {
      "cell_type": "code",
      "execution_count": null,
      "metadata": {
        "id": "OkpaTz7cHpm-",
        "tags": []
      },
      "outputs": [],
      "source": [
        "#!pip install pandas"
      ]
    },
    {
      "cell_type": "code",
      "execution_count": null,
      "metadata": {
        "id": "cRj-YkJ1Hpm-",
        "tags": []
      },
      "outputs": [],
      "source": [
        "import pandas as pd"
      ]
    },
    {
      "cell_type": "code",
      "execution_count": null,
      "metadata": {
        "id": "NsL6HQFFHpm_",
        "tags": []
      },
      "outputs": [],
      "source": [
        "#SERIES"
      ]
    },
    {
      "cell_type": "code",
      "execution_count": null,
      "metadata": {
        "id": "8Z7xcwRHAxu-"
      },
      "outputs": [],
      "source": [
        "series_sample=pd.Series([4, 5, -16, 3])\n",
        "series_sample"
      ]
    },
    {
      "cell_type": "code",
      "execution_count": null,
      "metadata": {
        "id": "NI1ZFpXkHpm_",
        "tags": []
      },
      "outputs": [],
      "source": [
        "series_sample=pd.Series([4, 5, -16, 3], index=['x', 'y', 'z', 'w'])"
      ]
    },
    {
      "cell_type": "code",
      "execution_count": null,
      "metadata": {
        "id": "BnOP3knzHpnA",
        "tags": []
      },
      "outputs": [],
      "source": [
        "series_sample"
      ]
    },
    {
      "cell_type": "code",
      "execution_count": null,
      "metadata": {
        "id": "ecoK4y_eHpnA",
        "tags": []
      },
      "outputs": [],
      "source": [
        "series_sample['z']"
      ]
    },
    {
      "cell_type": "markdown",
      "metadata": {
        "id": "iNNio8DYHpnB",
        "tags": []
      },
      "source": [
        "## DATAFRAME"
      ]
    },
    {
      "cell_type": "markdown",
      "metadata": {
        "id": "H2fY_b6SHpnB"
      },
      "source": [
        "NOT:\n",
        "\n",
        "df[x] — index a column using variable x. Returns pd.Series\n",
        "\n",
        "df[[x]] — index/slice a single-column DataFrame using variable x. Returns pd.DataFrame\n",
        "\n",
        "df['x'] — index a column named 'x'. Returns pd.Series\n",
        "\n",
        "df[['x']] — index/slice a single-column DataFrame having only one column named 'x'. Returns pd.DataFrame\n",
        "\n",
        "df.x — dot accessor notation, equivalent to df['x'] (there are, however, limitations on what x can be named if dot notation is to be successfully used). Returns pd.Series\n",
        "\n",
        "With single brackets [...] you may only index a single column out as a Series. With double brackets, [[...]], you may select as many columns as you need, and these columns are returned as part of a new DataFrame.\n",
        "\n",
        "Kaynak: https://stackoverflow.com/questions/50302180/difference-between-dfx-dfx-dfx-dfx-and-df-x"
      ]
    },
    {
      "cell_type": "code",
      "execution_count": null,
      "metadata": {
        "id": "FPqyCx-UAxvA"
      },
      "outputs": [],
      "source": [
        "import numpy as np"
      ]
    },
    {
      "cell_type": "code",
      "execution_count": null,
      "metadata": {
        "id": "cZ7hNNfrAxvA",
        "outputId": "efb6290c-4dbd-484b-fbdc-3dca9394cafd"
      },
      "outputs": [
        {
          "data": {
            "text/plain": [
              "array([[ 1,  2,  3,  4],\n",
              "       [ 5,  6,  7,  8],\n",
              "       [ 9, 10, 11, 12]])"
            ]
          },
          "execution_count": 119,
          "metadata": {},
          "output_type": "execute_result"
        }
      ],
      "source": [
        "# 1'den 13'e kadar olan sayılar ile 3x4 lük bir array oluşturma\n",
        "m=np.arange(1,13).reshape(3,4)\n",
        "m"
      ]
    },
    {
      "cell_type": "code",
      "execution_count": null,
      "metadata": {
        "id": "OSXW11MjAxvB",
        "outputId": "b5f7c5c5-1edf-4ee2-c3b8-5389e70692f4"
      },
      "outputs": [
        {
          "data": {
            "text/html": [
              "<div>\n",
              "<style scoped>\n",
              "    .dataframe tbody tr th:only-of-type {\n",
              "        vertical-align: middle;\n",
              "    }\n",
              "\n",
              "    .dataframe tbody tr th {\n",
              "        vertical-align: top;\n",
              "    }\n",
              "\n",
              "    .dataframe thead th {\n",
              "        text-align: right;\n",
              "    }\n",
              "</style>\n",
              "<table border=\"1\" class=\"dataframe\">\n",
              "  <thead>\n",
              "    <tr style=\"text-align: right;\">\n",
              "      <th></th>\n",
              "      <th>a</th>\n",
              "      <th>b</th>\n",
              "      <th>c</th>\n",
              "      <th>d</th>\n",
              "    </tr>\n",
              "  </thead>\n",
              "  <tbody>\n",
              "    <tr>\n",
              "      <th>0</th>\n",
              "      <td>1</td>\n",
              "      <td>2</td>\n",
              "      <td>3</td>\n",
              "      <td>4</td>\n",
              "    </tr>\n",
              "    <tr>\n",
              "      <th>1</th>\n",
              "      <td>5</td>\n",
              "      <td>6</td>\n",
              "      <td>7</td>\n",
              "      <td>8</td>\n",
              "    </tr>\n",
              "    <tr>\n",
              "      <th>2</th>\n",
              "      <td>9</td>\n",
              "      <td>10</td>\n",
              "      <td>11</td>\n",
              "      <td>12</td>\n",
              "    </tr>\n",
              "  </tbody>\n",
              "</table>\n",
              "</div>"
            ],
            "text/plain": [
              "   a   b   c   d\n",
              "0  1   2   3   4\n",
              "1  5   6   7   8\n",
              "2  9  10  11  12"
            ]
          },
          "execution_count": 120,
          "metadata": {},
          "output_type": "execute_result"
        }
      ],
      "source": [
        "pd.DataFrame(m,columns=[\"a\",\"b\",\"c\",\"d\"])"
      ]
    },
    {
      "cell_type": "code",
      "execution_count": null,
      "metadata": {
        "id": "_daX0OvdHpnB",
        "tags": []
      },
      "outputs": [],
      "source": [
        "dataset_manuel = {'Country': ['Belgium',  'India',  'Brazil'],\n",
        "\n",
        "'Capital': ['Brussels',  'New Delhi',  'Brasilia'],\n",
        "\n",
        "'Population': [11190846, 1303171035, 207847528]}"
      ]
    },
    {
      "cell_type": "code",
      "execution_count": null,
      "metadata": {
        "id": "SbtJkGgLHpnB",
        "outputId": "c23700fb-4686-4729-819b-7d0d2373617f",
        "tags": []
      },
      "outputs": [
        {
          "data": {
            "text/plain": [
              "{'Country': ['Belgium', 'India', 'Brazil'],\n",
              " 'Capital': ['Brussels', 'New Delhi', 'Brasilia'],\n",
              " 'Population': [11190846, 1303171035, 207847528]}"
            ]
          },
          "execution_count": 122,
          "metadata": {},
          "output_type": "execute_result"
        }
      ],
      "source": [
        "dataset_manuel"
      ]
    },
    {
      "cell_type": "code",
      "execution_count": null,
      "metadata": {
        "id": "OQygw9YWHpnB",
        "tags": []
      },
      "outputs": [],
      "source": [
        "df_manuel = pd.DataFrame(dataset_manuel,columns=['Country',  'Capital',  'Population'])"
      ]
    },
    {
      "cell_type": "code",
      "execution_count": null,
      "metadata": {
        "id": "9Cj1RUM_HpnB",
        "outputId": "acbf3823-15aa-4fbd-db32-63a2b7c041e1",
        "tags": []
      },
      "outputs": [
        {
          "data": {
            "text/html": [
              "<div>\n",
              "<style scoped>\n",
              "    .dataframe tbody tr th:only-of-type {\n",
              "        vertical-align: middle;\n",
              "    }\n",
              "\n",
              "    .dataframe tbody tr th {\n",
              "        vertical-align: top;\n",
              "    }\n",
              "\n",
              "    .dataframe thead th {\n",
              "        text-align: right;\n",
              "    }\n",
              "</style>\n",
              "<table border=\"1\" class=\"dataframe\">\n",
              "  <thead>\n",
              "    <tr style=\"text-align: right;\">\n",
              "      <th></th>\n",
              "      <th>Country</th>\n",
              "      <th>Capital</th>\n",
              "      <th>Population</th>\n",
              "    </tr>\n",
              "  </thead>\n",
              "  <tbody>\n",
              "    <tr>\n",
              "      <th>0</th>\n",
              "      <td>Belgium</td>\n",
              "      <td>Brussels</td>\n",
              "      <td>11190846</td>\n",
              "    </tr>\n",
              "    <tr>\n",
              "      <th>1</th>\n",
              "      <td>India</td>\n",
              "      <td>New Delhi</td>\n",
              "      <td>1303171035</td>\n",
              "    </tr>\n",
              "    <tr>\n",
              "      <th>2</th>\n",
              "      <td>Brazil</td>\n",
              "      <td>Brasilia</td>\n",
              "      <td>207847528</td>\n",
              "    </tr>\n",
              "  </tbody>\n",
              "</table>\n",
              "</div>"
            ],
            "text/plain": [
              "   Country    Capital  Population\n",
              "0  Belgium   Brussels    11190846\n",
              "1    India  New Delhi  1303171035\n",
              "2   Brazil   Brasilia   207847528"
            ]
          },
          "execution_count": 124,
          "metadata": {},
          "output_type": "execute_result"
        }
      ],
      "source": [
        "df_manuel"
      ]
    },
    {
      "cell_type": "code",
      "execution_count": null,
      "metadata": {
        "id": "x6Xwp1WsHpnD"
      },
      "outputs": [],
      "source": [
        "# Bazı Hızlı Pandas Fonksiyonları:"
      ]
    },
    {
      "cell_type": "code",
      "execution_count": null,
      "metadata": {
        "id": "HU-HFpN_HpnE",
        "scrolled": true,
        "tags": []
      },
      "outputs": [],
      "source": [
        "df_manuel['Population'].median()"
      ]
    },
    {
      "cell_type": "code",
      "execution_count": null,
      "metadata": {
        "id": "NVqWp6rcHpnE",
        "tags": []
      },
      "outputs": [],
      "source": [
        "df_manuel['Population'].sum()"
      ]
    },
    {
      "cell_type": "code",
      "execution_count": null,
      "metadata": {
        "id": "C0IDcu88HpnE",
        "tags": []
      },
      "outputs": [],
      "source": [
        "df_manuel['Population'].mean()"
      ]
    },
    {
      "cell_type": "code",
      "execution_count": null,
      "metadata": {
        "id": "gQMZxiq1HpnE",
        "tags": []
      },
      "outputs": [],
      "source": [
        "df_manuel['Population'].min()"
      ]
    },
    {
      "cell_type": "raw",
      "metadata": {
        "id": "4Da2nisLHpnE"
      },
      "source": [
        "### pandas ile birçok veri kaynağıdan farklı metotlarla veri almak münkündür:\n",
        "    - pd.read_excel\n",
        "    - pd.read_csv\n",
        "    - pd.read_sql"
      ]
    },
    {
      "cell_type": "markdown",
      "metadata": {
        "id": "p-_iBWmwHpnF"
      },
      "source": [
        "## Veri seti ile çalışma\n",
        "\n",
        "@allison_horst https://github.com/allisonhorst/penguins\n",
        "\n",
        "<td><img src=\"https://github.com/nevcihan/COE_Python/blob/main/pict5.png?raw=1\" width=\"250\"/><td>\n",
        "\n",
        "<table><tr>\n",
        "    \n",
        "<td><img src=\"https://github.com/nevcihan/COE_Python/blob/main/pict4.png?raw=1\" width=\"250\"/><td>\n",
        "    \n",
        "<td><img src=\"https://github.com/nevcihan/COE_Python/blob/main/pict3.png?raw=1\" width=\"250\"/><td>\n",
        "    \n",
        "</tr></table>"
      ]
    },
    {
      "cell_type": "code",
      "execution_count": null,
      "metadata": {
        "id": "W3ATyr-iHpnF",
        "tags": [],
        "outputId": "9113bffe-8f17-4124-cc76-01d913a0aa66"
      },
      "outputs": [
        {
          "data": {
            "text/html": [
              "<div>\n",
              "<style scoped>\n",
              "    .dataframe tbody tr th:only-of-type {\n",
              "        vertical-align: middle;\n",
              "    }\n",
              "\n",
              "    .dataframe tbody tr th {\n",
              "        vertical-align: top;\n",
              "    }\n",
              "\n",
              "    .dataframe thead th {\n",
              "        text-align: right;\n",
              "    }\n",
              "</style>\n",
              "<table border=\"1\" class=\"dataframe\">\n",
              "  <thead>\n",
              "    <tr style=\"text-align: right;\">\n",
              "      <th></th>\n",
              "      <th>Species</th>\n",
              "      <th>Stage</th>\n",
              "      <th>Clutch Completion</th>\n",
              "      <th>Culmen Length (mm)</th>\n",
              "      <th>Culmen Depth (mm)</th>\n",
              "      <th>Flipper Length (mm)</th>\n",
              "      <th>Body Mass (g)</th>\n",
              "      <th>Sex</th>\n",
              "      <th>sample_id</th>\n",
              "    </tr>\n",
              "  </thead>\n",
              "  <tbody>\n",
              "    <tr>\n",
              "      <th>0</th>\n",
              "      <td>Adelie Penguin (Pygoscelis adeliae)</td>\n",
              "      <td>Adult, 1 Egg Stage</td>\n",
              "      <td>Yes</td>\n",
              "      <td>39.1</td>\n",
              "      <td>18.7</td>\n",
              "      <td>181.0</td>\n",
              "      <td>3750.0</td>\n",
              "      <td>MALE</td>\n",
              "      <td>1</td>\n",
              "    </tr>\n",
              "    <tr>\n",
              "      <th>1</th>\n",
              "      <td>Adelie Penguin (Pygoscelis adeliae)</td>\n",
              "      <td>Adult, 1 Egg Stage</td>\n",
              "      <td>Yes</td>\n",
              "      <td>39.5</td>\n",
              "      <td>17.4</td>\n",
              "      <td>186.0</td>\n",
              "      <td>3800.0</td>\n",
              "      <td>FEMALE</td>\n",
              "      <td>2</td>\n",
              "    </tr>\n",
              "    <tr>\n",
              "      <th>2</th>\n",
              "      <td>Adelie Penguin (Pygoscelis adeliae)</td>\n",
              "      <td>Adult, 1 Egg Stage</td>\n",
              "      <td>Yes</td>\n",
              "      <td>40.3</td>\n",
              "      <td>18.0</td>\n",
              "      <td>195.0</td>\n",
              "      <td>3250.0</td>\n",
              "      <td>FEMALE</td>\n",
              "      <td>3</td>\n",
              "    </tr>\n",
              "    <tr>\n",
              "      <th>3</th>\n",
              "      <td>Adelie Penguin (Pygoscelis adeliae)</td>\n",
              "      <td>Adult, 1 Egg Stage</td>\n",
              "      <td>Yes</td>\n",
              "      <td>NaN</td>\n",
              "      <td>NaN</td>\n",
              "      <td>NaN</td>\n",
              "      <td>NaN</td>\n",
              "      <td>NaN</td>\n",
              "      <td>4</td>\n",
              "    </tr>\n",
              "    <tr>\n",
              "      <th>4</th>\n",
              "      <td>Adelie Penguin (Pygoscelis adeliae)</td>\n",
              "      <td>Adult, 1 Egg Stage</td>\n",
              "      <td>Yes</td>\n",
              "      <td>36.7</td>\n",
              "      <td>19.3</td>\n",
              "      <td>193.0</td>\n",
              "      <td>3450.0</td>\n",
              "      <td>FEMALE</td>\n",
              "      <td>5</td>\n",
              "    </tr>\n",
              "  </tbody>\n",
              "</table>\n",
              "</div>"
            ],
            "text/plain": [
              "                               Species               Stage Clutch Completion  \\\n",
              "0  Adelie Penguin (Pygoscelis adeliae)  Adult, 1 Egg Stage               Yes   \n",
              "1  Adelie Penguin (Pygoscelis adeliae)  Adult, 1 Egg Stage               Yes   \n",
              "2  Adelie Penguin (Pygoscelis adeliae)  Adult, 1 Egg Stage               Yes   \n",
              "3  Adelie Penguin (Pygoscelis adeliae)  Adult, 1 Egg Stage               Yes   \n",
              "4  Adelie Penguin (Pygoscelis adeliae)  Adult, 1 Egg Stage               Yes   \n",
              "\n",
              "   Culmen Length (mm)  Culmen Depth (mm)  Flipper Length (mm)  Body Mass (g)  \\\n",
              "0                39.1               18.7                181.0         3750.0   \n",
              "1                39.5               17.4                186.0         3800.0   \n",
              "2                40.3               18.0                195.0         3250.0   \n",
              "3                 NaN                NaN                  NaN            NaN   \n",
              "4                36.7               19.3                193.0         3450.0   \n",
              "\n",
              "      Sex  sample_id  \n",
              "0    MALE          1  \n",
              "1  FEMALE          2  \n",
              "2  FEMALE          3  \n",
              "3     NaN          4  \n",
              "4  FEMALE          5  "
            ]
          },
          "execution_count": 93,
          "metadata": {},
          "output_type": "execute_result"
        }
      ],
      "source": [
        "# csv uzantılı verisetini pandas ile okuma:\n",
        "penguins_features = pd.read_csv(\"penguins_features.csv\")\n",
        "penguins_features.head()"
      ]
    },
    {
      "cell_type": "code",
      "execution_count": null,
      "metadata": {
        "id": "lJEGSFcXHpnF",
        "tags": []
      },
      "outputs": [],
      "source": [
        "#dataset.drop('Index', inplace=True, axis=1)"
      ]
    },
    {
      "cell_type": "code",
      "execution_count": null,
      "metadata": {
        "id": "OKWIzUMAHpnF",
        "tags": []
      },
      "outputs": [],
      "source": [
        "# Verisetinin Boyutu:\n",
        "#Yöntem-1:"
      ]
    },
    {
      "cell_type": "code",
      "execution_count": null,
      "metadata": {
        "id": "Ma5AtpcgAxvH",
        "outputId": "96845803-7e64-4797-fbe8-c2cd7df1af59"
      },
      "outputs": [
        {
          "data": {
            "text/plain": [
              "(344, 9)"
            ]
          },
          "execution_count": 96,
          "metadata": {},
          "output_type": "execute_result"
        }
      ],
      "source": [
        "penguins_features.shape"
      ]
    },
    {
      "cell_type": "code",
      "execution_count": null,
      "metadata": {
        "id": "TCHGOzNkHpnF",
        "outputId": "2b5df0a8-e99d-4764-a957-bab5df8b04f7",
        "tags": []
      },
      "outputs": [
        {
          "data": {
            "text/plain": [
              "344"
            ]
          },
          "execution_count": 97,
          "metadata": {},
          "output_type": "execute_result"
        }
      ],
      "source": [
        "num_rows = penguins_features.shape[0]\n",
        "num_rows"
      ]
    },
    {
      "cell_type": "code",
      "execution_count": null,
      "metadata": {
        "id": "ozQWqi8cHpnG",
        "outputId": "c7e74ee4-cf4b-46f4-e06b-1bb2b814e355",
        "tags": []
      },
      "outputs": [
        {
          "data": {
            "text/plain": [
              "9"
            ]
          },
          "execution_count": 98,
          "metadata": {},
          "output_type": "execute_result"
        }
      ],
      "source": [
        "num_columns = penguins_features.shape[1]\n",
        "num_columns"
      ]
    },
    {
      "cell_type": "code",
      "execution_count": null,
      "metadata": {
        "id": "cywp_IROHpnG",
        "tags": []
      },
      "outputs": [],
      "source": [
        "#Yöntem-2:"
      ]
    },
    {
      "cell_type": "code",
      "execution_count": null,
      "metadata": {
        "id": "a4xA4ixuHpnG",
        "outputId": "76cee781-883a-4357-945b-94103554b711",
        "tags": []
      },
      "outputs": [
        {
          "data": {
            "text/plain": [
              "(344, 9)"
            ]
          },
          "execution_count": 100,
          "metadata": {},
          "output_type": "execute_result"
        }
      ],
      "source": [
        "penguins_features.shape"
      ]
    },
    {
      "cell_type": "code",
      "execution_count": null,
      "metadata": {
        "id": "nNy7RJ_KHpnG",
        "tags": []
      },
      "outputs": [],
      "source": [
        "# Verisetindeki Değişken Türleri:"
      ]
    },
    {
      "cell_type": "code",
      "execution_count": null,
      "metadata": {
        "id": "mmzywBBTHpnH",
        "tags": []
      },
      "outputs": [],
      "source": [
        "#Yöntem-1:"
      ]
    },
    {
      "cell_type": "code",
      "execution_count": null,
      "metadata": {
        "id": "fhHJhfgsHpnH",
        "outputId": "cad1e19f-26ce-4101-ed09-6190045cb825",
        "tags": []
      },
      "outputs": [
        {
          "data": {
            "text/plain": [
              "Species                 object\n",
              "Stage                   object\n",
              "Clutch Completion       object\n",
              "Culmen Length (mm)     float64\n",
              "Culmen Depth (mm)      float64\n",
              "Flipper Length (mm)    float64\n",
              "Body Mass (g)          float64\n",
              "Sex                     object\n",
              "sample_id                int64\n",
              "dtype: object"
            ]
          },
          "execution_count": 103,
          "metadata": {},
          "output_type": "execute_result"
        }
      ],
      "source": [
        "penguins_features.dtypes"
      ]
    },
    {
      "cell_type": "code",
      "execution_count": null,
      "metadata": {
        "id": "eW4cibrTHpnH",
        "tags": []
      },
      "outputs": [],
      "source": [
        "#Yöntem-2:"
      ]
    },
    {
      "cell_type": "code",
      "execution_count": null,
      "metadata": {
        "id": "SK_VuW_XHpnI",
        "outputId": "f5062ecf-8936-4677-d736-e96a8f6d2121",
        "tags": []
      },
      "outputs": [
        {
          "name": "stdout",
          "output_type": "stream",
          "text": [
            "<class 'pandas.core.frame.DataFrame'>\n",
            "RangeIndex: 344 entries, 0 to 343\n",
            "Data columns (total 9 columns):\n",
            " #   Column               Non-Null Count  Dtype  \n",
            "---  ------               --------------  -----  \n",
            " 0   Species              344 non-null    object \n",
            " 1   Stage                344 non-null    object \n",
            " 2   Clutch Completion    344 non-null    object \n",
            " 3   Culmen Length (mm)   342 non-null    float64\n",
            " 4   Culmen Depth (mm)    342 non-null    float64\n",
            " 5   Flipper Length (mm)  342 non-null    float64\n",
            " 6   Body Mass (g)        342 non-null    float64\n",
            " 7   Sex                  334 non-null    object \n",
            " 8   sample_id            344 non-null    int64  \n",
            "dtypes: float64(4), int64(1), object(4)\n",
            "memory usage: 24.3+ KB\n"
          ]
        }
      ],
      "source": [
        "penguins_features.info()"
      ]
    },
    {
      "cell_type": "code",
      "execution_count": null,
      "metadata": {
        "id": "IlT_thbpHpnI",
        "tags": []
      },
      "outputs": [],
      "source": [
        "# Temel Veriseti Gösterimleri:"
      ]
    },
    {
      "cell_type": "code",
      "execution_count": null,
      "metadata": {
        "id": "N80Fvq3GHpnI",
        "outputId": "496fecf7-e645-487f-f18e-6176acd73fb6",
        "tags": []
      },
      "outputs": [
        {
          "data": {
            "text/html": [
              "<div>\n",
              "<style scoped>\n",
              "    .dataframe tbody tr th:only-of-type {\n",
              "        vertical-align: middle;\n",
              "    }\n",
              "\n",
              "    .dataframe tbody tr th {\n",
              "        vertical-align: top;\n",
              "    }\n",
              "\n",
              "    .dataframe thead th {\n",
              "        text-align: right;\n",
              "    }\n",
              "</style>\n",
              "<table border=\"1\" class=\"dataframe\">\n",
              "  <thead>\n",
              "    <tr style=\"text-align: right;\">\n",
              "      <th></th>\n",
              "      <th>Species</th>\n",
              "      <th>Stage</th>\n",
              "      <th>Clutch Completion</th>\n",
              "      <th>Culmen Length (mm)</th>\n",
              "      <th>Culmen Depth (mm)</th>\n",
              "      <th>Flipper Length (mm)</th>\n",
              "      <th>Body Mass (g)</th>\n",
              "      <th>Sex</th>\n",
              "      <th>sample_id</th>\n",
              "    </tr>\n",
              "  </thead>\n",
              "  <tbody>\n",
              "    <tr>\n",
              "      <th>0</th>\n",
              "      <td>Adelie Penguin (Pygoscelis adeliae)</td>\n",
              "      <td>Adult, 1 Egg Stage</td>\n",
              "      <td>Yes</td>\n",
              "      <td>39.1</td>\n",
              "      <td>18.7</td>\n",
              "      <td>181.0</td>\n",
              "      <td>3750.0</td>\n",
              "      <td>MALE</td>\n",
              "      <td>1</td>\n",
              "    </tr>\n",
              "    <tr>\n",
              "      <th>1</th>\n",
              "      <td>Adelie Penguin (Pygoscelis adeliae)</td>\n",
              "      <td>Adult, 1 Egg Stage</td>\n",
              "      <td>Yes</td>\n",
              "      <td>39.5</td>\n",
              "      <td>17.4</td>\n",
              "      <td>186.0</td>\n",
              "      <td>3800.0</td>\n",
              "      <td>FEMALE</td>\n",
              "      <td>2</td>\n",
              "    </tr>\n",
              "    <tr>\n",
              "      <th>2</th>\n",
              "      <td>Adelie Penguin (Pygoscelis adeliae)</td>\n",
              "      <td>Adult, 1 Egg Stage</td>\n",
              "      <td>Yes</td>\n",
              "      <td>40.3</td>\n",
              "      <td>18.0</td>\n",
              "      <td>195.0</td>\n",
              "      <td>3250.0</td>\n",
              "      <td>FEMALE</td>\n",
              "      <td>3</td>\n",
              "    </tr>\n",
              "    <tr>\n",
              "      <th>3</th>\n",
              "      <td>Adelie Penguin (Pygoscelis adeliae)</td>\n",
              "      <td>Adult, 1 Egg Stage</td>\n",
              "      <td>Yes</td>\n",
              "      <td>NaN</td>\n",
              "      <td>NaN</td>\n",
              "      <td>NaN</td>\n",
              "      <td>NaN</td>\n",
              "      <td>NaN</td>\n",
              "      <td>4</td>\n",
              "    </tr>\n",
              "    <tr>\n",
              "      <th>4</th>\n",
              "      <td>Adelie Penguin (Pygoscelis adeliae)</td>\n",
              "      <td>Adult, 1 Egg Stage</td>\n",
              "      <td>Yes</td>\n",
              "      <td>36.7</td>\n",
              "      <td>19.3</td>\n",
              "      <td>193.0</td>\n",
              "      <td>3450.0</td>\n",
              "      <td>FEMALE</td>\n",
              "      <td>5</td>\n",
              "    </tr>\n",
              "  </tbody>\n",
              "</table>\n",
              "</div>"
            ],
            "text/plain": [
              "                               Species               Stage Clutch Completion  \\\n",
              "0  Adelie Penguin (Pygoscelis adeliae)  Adult, 1 Egg Stage               Yes   \n",
              "1  Adelie Penguin (Pygoscelis adeliae)  Adult, 1 Egg Stage               Yes   \n",
              "2  Adelie Penguin (Pygoscelis adeliae)  Adult, 1 Egg Stage               Yes   \n",
              "3  Adelie Penguin (Pygoscelis adeliae)  Adult, 1 Egg Stage               Yes   \n",
              "4  Adelie Penguin (Pygoscelis adeliae)  Adult, 1 Egg Stage               Yes   \n",
              "\n",
              "   Culmen Length (mm)  Culmen Depth (mm)  Flipper Length (mm)  Body Mass (g)  \\\n",
              "0                39.1               18.7                181.0         3750.0   \n",
              "1                39.5               17.4                186.0         3800.0   \n",
              "2                40.3               18.0                195.0         3250.0   \n",
              "3                 NaN                NaN                  NaN            NaN   \n",
              "4                36.7               19.3                193.0         3450.0   \n",
              "\n",
              "      Sex  sample_id  \n",
              "0    MALE          1  \n",
              "1  FEMALE          2  \n",
              "2  FEMALE          3  \n",
              "3     NaN          4  \n",
              "4  FEMALE          5  "
            ]
          },
          "execution_count": 107,
          "metadata": {},
          "output_type": "execute_result"
        }
      ],
      "source": [
        "penguins_features.head()"
      ]
    },
    {
      "cell_type": "code",
      "execution_count": null,
      "metadata": {
        "id": "4tj6M75tHpnI",
        "outputId": "e208c421-b523-4c98-9fa9-bbd4bea3f062",
        "tags": []
      },
      "outputs": [
        {
          "data": {
            "text/html": [
              "<div>\n",
              "<style scoped>\n",
              "    .dataframe tbody tr th:only-of-type {\n",
              "        vertical-align: middle;\n",
              "    }\n",
              "\n",
              "    .dataframe tbody tr th {\n",
              "        vertical-align: top;\n",
              "    }\n",
              "\n",
              "    .dataframe thead th {\n",
              "        text-align: right;\n",
              "    }\n",
              "</style>\n",
              "<table border=\"1\" class=\"dataframe\">\n",
              "  <thead>\n",
              "    <tr style=\"text-align: right;\">\n",
              "      <th></th>\n",
              "      <th>Species</th>\n",
              "      <th>Stage</th>\n",
              "      <th>Clutch Completion</th>\n",
              "      <th>Culmen Length (mm)</th>\n",
              "      <th>Culmen Depth (mm)</th>\n",
              "      <th>Flipper Length (mm)</th>\n",
              "      <th>Body Mass (g)</th>\n",
              "      <th>Sex</th>\n",
              "      <th>sample_id</th>\n",
              "    </tr>\n",
              "  </thead>\n",
              "  <tbody>\n",
              "    <tr>\n",
              "      <th>0</th>\n",
              "      <td>Adelie Penguin (Pygoscelis adeliae)</td>\n",
              "      <td>Adult, 1 Egg Stage</td>\n",
              "      <td>Yes</td>\n",
              "      <td>39.1</td>\n",
              "      <td>18.7</td>\n",
              "      <td>181.0</td>\n",
              "      <td>3750.0</td>\n",
              "      <td>MALE</td>\n",
              "      <td>1</td>\n",
              "    </tr>\n",
              "    <tr>\n",
              "      <th>1</th>\n",
              "      <td>Adelie Penguin (Pygoscelis adeliae)</td>\n",
              "      <td>Adult, 1 Egg Stage</td>\n",
              "      <td>Yes</td>\n",
              "      <td>39.5</td>\n",
              "      <td>17.4</td>\n",
              "      <td>186.0</td>\n",
              "      <td>3800.0</td>\n",
              "      <td>FEMALE</td>\n",
              "      <td>2</td>\n",
              "    </tr>\n",
              "    <tr>\n",
              "      <th>2</th>\n",
              "      <td>Adelie Penguin (Pygoscelis adeliae)</td>\n",
              "      <td>Adult, 1 Egg Stage</td>\n",
              "      <td>Yes</td>\n",
              "      <td>40.3</td>\n",
              "      <td>18.0</td>\n",
              "      <td>195.0</td>\n",
              "      <td>3250.0</td>\n",
              "      <td>FEMALE</td>\n",
              "      <td>3</td>\n",
              "    </tr>\n",
              "  </tbody>\n",
              "</table>\n",
              "</div>"
            ],
            "text/plain": [
              "                               Species               Stage Clutch Completion  \\\n",
              "0  Adelie Penguin (Pygoscelis adeliae)  Adult, 1 Egg Stage               Yes   \n",
              "1  Adelie Penguin (Pygoscelis adeliae)  Adult, 1 Egg Stage               Yes   \n",
              "2  Adelie Penguin (Pygoscelis adeliae)  Adult, 1 Egg Stage               Yes   \n",
              "\n",
              "   Culmen Length (mm)  Culmen Depth (mm)  Flipper Length (mm)  Body Mass (g)  \\\n",
              "0                39.1               18.7                181.0         3750.0   \n",
              "1                39.5               17.4                186.0         3800.0   \n",
              "2                40.3               18.0                195.0         3250.0   \n",
              "\n",
              "      Sex  sample_id  \n",
              "0    MALE          1  \n",
              "1  FEMALE          2  \n",
              "2  FEMALE          3  "
            ]
          },
          "execution_count": 108,
          "metadata": {},
          "output_type": "execute_result"
        }
      ],
      "source": [
        "penguins_features.head(3)"
      ]
    },
    {
      "cell_type": "code",
      "execution_count": null,
      "metadata": {
        "id": "46ecQFJCHpnJ",
        "outputId": "1ae2a332-1f26-4bff-8a4c-0636fbe6e72e",
        "tags": []
      },
      "outputs": [
        {
          "data": {
            "text/html": [
              "<div>\n",
              "<style scoped>\n",
              "    .dataframe tbody tr th:only-of-type {\n",
              "        vertical-align: middle;\n",
              "    }\n",
              "\n",
              "    .dataframe tbody tr th {\n",
              "        vertical-align: top;\n",
              "    }\n",
              "\n",
              "    .dataframe thead th {\n",
              "        text-align: right;\n",
              "    }\n",
              "</style>\n",
              "<table border=\"1\" class=\"dataframe\">\n",
              "  <thead>\n",
              "    <tr style=\"text-align: right;\">\n",
              "      <th></th>\n",
              "      <th>Species</th>\n",
              "      <th>Stage</th>\n",
              "      <th>Clutch Completion</th>\n",
              "      <th>Culmen Length (mm)</th>\n",
              "      <th>Culmen Depth (mm)</th>\n",
              "      <th>Flipper Length (mm)</th>\n",
              "      <th>Body Mass (g)</th>\n",
              "      <th>Sex</th>\n",
              "      <th>sample_id</th>\n",
              "    </tr>\n",
              "  </thead>\n",
              "  <tbody>\n",
              "    <tr>\n",
              "      <th>341</th>\n",
              "      <td>Gentoo penguin (Pygoscelis papua)</td>\n",
              "      <td>Adult, 1 Egg Stage</td>\n",
              "      <td>Yes</td>\n",
              "      <td>50.4</td>\n",
              "      <td>15.7</td>\n",
              "      <td>222.0</td>\n",
              "      <td>5750.0</td>\n",
              "      <td>MALE</td>\n",
              "      <td>342</td>\n",
              "    </tr>\n",
              "    <tr>\n",
              "      <th>342</th>\n",
              "      <td>Gentoo penguin (Pygoscelis papua)</td>\n",
              "      <td>Adult, 1 Egg Stage</td>\n",
              "      <td>Yes</td>\n",
              "      <td>45.2</td>\n",
              "      <td>14.8</td>\n",
              "      <td>212.0</td>\n",
              "      <td>5200.0</td>\n",
              "      <td>FEMALE</td>\n",
              "      <td>343</td>\n",
              "    </tr>\n",
              "    <tr>\n",
              "      <th>343</th>\n",
              "      <td>Gentoo penguin (Pygoscelis papua)</td>\n",
              "      <td>Adult, 1 Egg Stage</td>\n",
              "      <td>Yes</td>\n",
              "      <td>49.9</td>\n",
              "      <td>16.1</td>\n",
              "      <td>213.0</td>\n",
              "      <td>5400.0</td>\n",
              "      <td>MALE</td>\n",
              "      <td>344</td>\n",
              "    </tr>\n",
              "  </tbody>\n",
              "</table>\n",
              "</div>"
            ],
            "text/plain": [
              "                               Species               Stage Clutch Completion  \\\n",
              "341  Gentoo penguin (Pygoscelis papua)  Adult, 1 Egg Stage               Yes   \n",
              "342  Gentoo penguin (Pygoscelis papua)  Adult, 1 Egg Stage               Yes   \n",
              "343  Gentoo penguin (Pygoscelis papua)  Adult, 1 Egg Stage               Yes   \n",
              "\n",
              "     Culmen Length (mm)  Culmen Depth (mm)  Flipper Length (mm)  \\\n",
              "341                50.4               15.7                222.0   \n",
              "342                45.2               14.8                212.0   \n",
              "343                49.9               16.1                213.0   \n",
              "\n",
              "     Body Mass (g)     Sex  sample_id  \n",
              "341         5750.0    MALE        342  \n",
              "342         5200.0  FEMALE        343  \n",
              "343         5400.0    MALE        344  "
            ]
          },
          "execution_count": 109,
          "metadata": {},
          "output_type": "execute_result"
        }
      ],
      "source": [
        "penguins_features.tail(3)"
      ]
    },
    {
      "cell_type": "code",
      "execution_count": null,
      "metadata": {
        "id": "x9kTLtdeHpnK",
        "tags": []
      },
      "outputs": [],
      "source": [
        "penguins_location = pd.read_csv(\"penguins_location.csv\")"
      ]
    },
    {
      "cell_type": "code",
      "execution_count": null,
      "metadata": {
        "id": "b8GOKOd-HpnK",
        "outputId": "b755e8a5-4b5d-402e-a513-e76df84951d5",
        "tags": []
      },
      "outputs": [
        {
          "data": {
            "text/plain": [
              "(344, 3)"
            ]
          },
          "execution_count": 111,
          "metadata": {},
          "output_type": "execute_result"
        }
      ],
      "source": [
        "penguins_location.shape"
      ]
    },
    {
      "cell_type": "code",
      "execution_count": null,
      "metadata": {
        "id": "m8zU1T8hHpnL",
        "outputId": "ce9e86b2-3c38-40b8-aaf9-708581422dfe",
        "tags": []
      },
      "outputs": [
        {
          "data": {
            "text/plain": [
              "Region       object\n",
              "Island       object\n",
              "sample_id     int64\n",
              "dtype: object"
            ]
          },
          "execution_count": 112,
          "metadata": {},
          "output_type": "execute_result"
        }
      ],
      "source": [
        "penguins_location.dtypes"
      ]
    },
    {
      "cell_type": "code",
      "execution_count": null,
      "metadata": {
        "id": "pp59fky_HpnL",
        "outputId": "b5658130-840e-4407-9308-e09aedf5c904",
        "tags": []
      },
      "outputs": [
        {
          "name": "stdout",
          "output_type": "stream",
          "text": [
            "<class 'pandas.core.frame.DataFrame'>\n",
            "RangeIndex: 344 entries, 0 to 343\n",
            "Data columns (total 3 columns):\n",
            " #   Column     Non-Null Count  Dtype \n",
            "---  ------     --------------  ----- \n",
            " 0   Region     344 non-null    object\n",
            " 1   Island     344 non-null    object\n",
            " 2   sample_id  344 non-null    int64 \n",
            "dtypes: int64(1), object(2)\n",
            "memory usage: 8.2+ KB\n"
          ]
        }
      ],
      "source": [
        "penguins_location.info()"
      ]
    },
    {
      "cell_type": "code",
      "execution_count": null,
      "metadata": {
        "id": "kAY1hs3kHpnL",
        "outputId": "c4868961-5f9d-4cd8-8278-1c027994165a",
        "tags": []
      },
      "outputs": [
        {
          "data": {
            "text/html": [
              "<div>\n",
              "<style scoped>\n",
              "    .dataframe tbody tr th:only-of-type {\n",
              "        vertical-align: middle;\n",
              "    }\n",
              "\n",
              "    .dataframe tbody tr th {\n",
              "        vertical-align: top;\n",
              "    }\n",
              "\n",
              "    .dataframe thead th {\n",
              "        text-align: right;\n",
              "    }\n",
              "</style>\n",
              "<table border=\"1\" class=\"dataframe\">\n",
              "  <thead>\n",
              "    <tr style=\"text-align: right;\">\n",
              "      <th></th>\n",
              "      <th>Region</th>\n",
              "      <th>Island</th>\n",
              "      <th>sample_id</th>\n",
              "    </tr>\n",
              "  </thead>\n",
              "  <tbody>\n",
              "    <tr>\n",
              "      <th>0</th>\n",
              "      <td>Anvers</td>\n",
              "      <td>Torgersen</td>\n",
              "      <td>1</td>\n",
              "    </tr>\n",
              "    <tr>\n",
              "      <th>1</th>\n",
              "      <td>Anvers</td>\n",
              "      <td>Torgersen</td>\n",
              "      <td>2</td>\n",
              "    </tr>\n",
              "    <tr>\n",
              "      <th>2</th>\n",
              "      <td>Anvers</td>\n",
              "      <td>Torgersen</td>\n",
              "      <td>3</td>\n",
              "    </tr>\n",
              "    <tr>\n",
              "      <th>3</th>\n",
              "      <td>Anvers</td>\n",
              "      <td>Torgersen</td>\n",
              "      <td>4</td>\n",
              "    </tr>\n",
              "    <tr>\n",
              "      <th>4</th>\n",
              "      <td>Anvers</td>\n",
              "      <td>Torgersen</td>\n",
              "      <td>5</td>\n",
              "    </tr>\n",
              "  </tbody>\n",
              "</table>\n",
              "</div>"
            ],
            "text/plain": [
              "   Region     Island  sample_id\n",
              "0  Anvers  Torgersen          1\n",
              "1  Anvers  Torgersen          2\n",
              "2  Anvers  Torgersen          3\n",
              "3  Anvers  Torgersen          4\n",
              "4  Anvers  Torgersen          5"
            ]
          },
          "execution_count": 114,
          "metadata": {},
          "output_type": "execute_result"
        }
      ],
      "source": [
        "penguins_location.head()"
      ]
    },
    {
      "cell_type": "code",
      "execution_count": null,
      "metadata": {
        "id": "r1Jo92JOHpnL",
        "outputId": "d08c0601-758a-47f2-8032-bbe78570bef7",
        "tags": []
      },
      "outputs": [
        {
          "data": {
            "text/html": [
              "<div>\n",
              "<style scoped>\n",
              "    .dataframe tbody tr th:only-of-type {\n",
              "        vertical-align: middle;\n",
              "    }\n",
              "\n",
              "    .dataframe tbody tr th {\n",
              "        vertical-align: top;\n",
              "    }\n",
              "\n",
              "    .dataframe thead th {\n",
              "        text-align: right;\n",
              "    }\n",
              "</style>\n",
              "<table border=\"1\" class=\"dataframe\">\n",
              "  <thead>\n",
              "    <tr style=\"text-align: right;\">\n",
              "      <th></th>\n",
              "      <th>Region</th>\n",
              "      <th>Island</th>\n",
              "      <th>sample_id</th>\n",
              "    </tr>\n",
              "  </thead>\n",
              "  <tbody>\n",
              "    <tr>\n",
              "      <th>339</th>\n",
              "      <td>Anvers</td>\n",
              "      <td>Biscoe</td>\n",
              "      <td>340</td>\n",
              "    </tr>\n",
              "    <tr>\n",
              "      <th>340</th>\n",
              "      <td>Anvers</td>\n",
              "      <td>Biscoe</td>\n",
              "      <td>341</td>\n",
              "    </tr>\n",
              "    <tr>\n",
              "      <th>341</th>\n",
              "      <td>Anvers</td>\n",
              "      <td>Biscoe</td>\n",
              "      <td>342</td>\n",
              "    </tr>\n",
              "    <tr>\n",
              "      <th>342</th>\n",
              "      <td>Anvers</td>\n",
              "      <td>Biscoe</td>\n",
              "      <td>343</td>\n",
              "    </tr>\n",
              "    <tr>\n",
              "      <th>343</th>\n",
              "      <td>Anvers</td>\n",
              "      <td>Biscoe</td>\n",
              "      <td>344</td>\n",
              "    </tr>\n",
              "  </tbody>\n",
              "</table>\n",
              "</div>"
            ],
            "text/plain": [
              "     Region  Island  sample_id\n",
              "339  Anvers  Biscoe        340\n",
              "340  Anvers  Biscoe        341\n",
              "341  Anvers  Biscoe        342\n",
              "342  Anvers  Biscoe        343\n",
              "343  Anvers  Biscoe        344"
            ]
          },
          "execution_count": 115,
          "metadata": {},
          "output_type": "execute_result"
        }
      ],
      "source": [
        "penguins_location.tail()"
      ]
    },
    {
      "cell_type": "markdown",
      "metadata": {
        "id": "X-NypE2MHpnM",
        "tags": []
      },
      "source": [
        "### Verisetlerini Birleştirme"
      ]
    },
    {
      "cell_type": "code",
      "execution_count": null,
      "metadata": {
        "id": "DCMvC43QHpnC",
        "tags": [],
        "outputId": "613fe070-f31d-4f5e-e693-46ca98f0e3e6"
      },
      "outputs": [
        {
          "data": {
            "text/html": [
              "<div>\n",
              "<style scoped>\n",
              "    .dataframe tbody tr th:only-of-type {\n",
              "        vertical-align: middle;\n",
              "    }\n",
              "\n",
              "    .dataframe tbody tr th {\n",
              "        vertical-align: top;\n",
              "    }\n",
              "\n",
              "    .dataframe thead th {\n",
              "        text-align: right;\n",
              "    }\n",
              "</style>\n",
              "<table border=\"1\" class=\"dataframe\">\n",
              "  <thead>\n",
              "    <tr style=\"text-align: right;\">\n",
              "      <th></th>\n",
              "      <th>Country</th>\n",
              "      <th>Capital</th>\n",
              "      <th>Population</th>\n",
              "    </tr>\n",
              "  </thead>\n",
              "  <tbody>\n",
              "    <tr>\n",
              "      <th>0</th>\n",
              "      <td>Spain</td>\n",
              "      <td>Madrid</td>\n",
              "      <td>46800000</td>\n",
              "    </tr>\n",
              "  </tbody>\n",
              "</table>\n",
              "</div>"
            ],
            "text/plain": [
              "  Country Capital  Population\n",
              "0   Spain  Madrid    46800000"
            ]
          },
          "execution_count": 117,
          "metadata": {},
          "output_type": "execute_result"
        }
      ],
      "source": [
        "#adding index to the manuel inserted row\n",
        "new_row2 = pd.Series(data={'Country':'Spain', 'Capital':'Madrid', 'Population':46800000}) #, name='x'\n",
        "new_row2 = pd.DataFrame([new_row2])\n",
        "new_row2"
      ]
    },
    {
      "cell_type": "code",
      "execution_count": null,
      "metadata": {
        "id": "QSLrF7IAAxvQ",
        "outputId": "a5600490-937f-49b9-d11e-6542b4d04875"
      },
      "outputs": [
        {
          "data": {
            "text/html": [
              "<div>\n",
              "<style scoped>\n",
              "    .dataframe tbody tr th:only-of-type {\n",
              "        vertical-align: middle;\n",
              "    }\n",
              "\n",
              "    .dataframe tbody tr th {\n",
              "        vertical-align: top;\n",
              "    }\n",
              "\n",
              "    .dataframe thead th {\n",
              "        text-align: right;\n",
              "    }\n",
              "</style>\n",
              "<table border=\"1\" class=\"dataframe\">\n",
              "  <thead>\n",
              "    <tr style=\"text-align: right;\">\n",
              "      <th></th>\n",
              "      <th>Country</th>\n",
              "      <th>Capital</th>\n",
              "      <th>Population</th>\n",
              "    </tr>\n",
              "  </thead>\n",
              "  <tbody>\n",
              "    <tr>\n",
              "      <th>0</th>\n",
              "      <td>Belgium</td>\n",
              "      <td>Brussels</td>\n",
              "      <td>11190846</td>\n",
              "    </tr>\n",
              "    <tr>\n",
              "      <th>1</th>\n",
              "      <td>India</td>\n",
              "      <td>New Delhi</td>\n",
              "      <td>1303171035</td>\n",
              "    </tr>\n",
              "    <tr>\n",
              "      <th>2</th>\n",
              "      <td>Brazil</td>\n",
              "      <td>Brasilia</td>\n",
              "      <td>207847528</td>\n",
              "    </tr>\n",
              "    <tr>\n",
              "      <th>3</th>\n",
              "      <td>Spain</td>\n",
              "      <td>Madrid</td>\n",
              "      <td>46800000</td>\n",
              "    </tr>\n",
              "  </tbody>\n",
              "</table>\n",
              "</div>"
            ],
            "text/plain": [
              "   Country    Capital  Population\n",
              "0  Belgium   Brussels    11190846\n",
              "1    India  New Delhi  1303171035\n",
              "2   Brazil   Brasilia   207847528\n",
              "3    Spain     Madrid    46800000"
            ]
          },
          "execution_count": 130,
          "metadata": {},
          "output_type": "execute_result"
        }
      ],
      "source": [
        "pd.concat([df_manuel, new_row2],axis=0,ignore_index=True)"
      ]
    },
    {
      "cell_type": "code",
      "execution_count": null,
      "metadata": {
        "id": "XlbdbtcWHpnD",
        "tags": []
      },
      "outputs": [],
      "source": [
        "#adding manuel new row to dataframe\n",
        "df_manuel = pd.concat([df_manuel, new_row2], axis=0, ignore_index=True)"
      ]
    },
    {
      "cell_type": "code",
      "execution_count": null,
      "metadata": {
        "id": "VDfXvA9_HpnD",
        "outputId": "e4b2d5eb-b477-4c16-8159-f2ad8084be91",
        "tags": []
      },
      "outputs": [
        {
          "data": {
            "text/html": [
              "<div>\n",
              "<style scoped>\n",
              "    .dataframe tbody tr th:only-of-type {\n",
              "        vertical-align: middle;\n",
              "    }\n",
              "\n",
              "    .dataframe tbody tr th {\n",
              "        vertical-align: top;\n",
              "    }\n",
              "\n",
              "    .dataframe thead th {\n",
              "        text-align: right;\n",
              "    }\n",
              "</style>\n",
              "<table border=\"1\" class=\"dataframe\">\n",
              "  <thead>\n",
              "    <tr style=\"text-align: right;\">\n",
              "      <th></th>\n",
              "      <th>Country</th>\n",
              "      <th>Capital</th>\n",
              "      <th>Population</th>\n",
              "    </tr>\n",
              "  </thead>\n",
              "  <tbody>\n",
              "    <tr>\n",
              "      <th>0</th>\n",
              "      <td>Belgium</td>\n",
              "      <td>Brussels</td>\n",
              "      <td>11190846</td>\n",
              "    </tr>\n",
              "    <tr>\n",
              "      <th>1</th>\n",
              "      <td>India</td>\n",
              "      <td>New Delhi</td>\n",
              "      <td>1303171035</td>\n",
              "    </tr>\n",
              "    <tr>\n",
              "      <th>2</th>\n",
              "      <td>Brazil</td>\n",
              "      <td>Brasilia</td>\n",
              "      <td>207847528</td>\n",
              "    </tr>\n",
              "    <tr>\n",
              "      <th>3</th>\n",
              "      <td>Spain</td>\n",
              "      <td>Madrid</td>\n",
              "      <td>46800000</td>\n",
              "    </tr>\n",
              "  </tbody>\n",
              "</table>\n",
              "</div>"
            ],
            "text/plain": [
              "   Country    Capital  Population\n",
              "0  Belgium   Brussels    11190846\n",
              "1    India  New Delhi  1303171035\n",
              "2   Brazil   Brasilia   207847528\n",
              "3    Spain     Madrid    46800000"
            ]
          },
          "execution_count": 132,
          "metadata": {},
          "output_type": "execute_result"
        }
      ],
      "source": [
        "df_manuel"
      ]
    },
    {
      "cell_type": "code",
      "execution_count": null,
      "metadata": {
        "id": "sI5TIHUYAxvR",
        "outputId": "e25b74ee-f32e-44d4-93a5-e735e6e97c89"
      },
      "outputs": [
        {
          "data": {
            "text/html": [
              "<div>\n",
              "<style scoped>\n",
              "    .dataframe tbody tr th:only-of-type {\n",
              "        vertical-align: middle;\n",
              "    }\n",
              "\n",
              "    .dataframe tbody tr th {\n",
              "        vertical-align: top;\n",
              "    }\n",
              "\n",
              "    .dataframe thead th {\n",
              "        text-align: right;\n",
              "    }\n",
              "</style>\n",
              "<table border=\"1\" class=\"dataframe\">\n",
              "  <thead>\n",
              "    <tr style=\"text-align: right;\">\n",
              "      <th></th>\n",
              "      <th>Species</th>\n",
              "      <th>Stage</th>\n",
              "      <th>Clutch Completion</th>\n",
              "      <th>Culmen Length (mm)</th>\n",
              "      <th>Culmen Depth (mm)</th>\n",
              "      <th>Flipper Length (mm)</th>\n",
              "      <th>Body Mass (g)</th>\n",
              "      <th>Sex</th>\n",
              "      <th>sample_id</th>\n",
              "    </tr>\n",
              "  </thead>\n",
              "  <tbody>\n",
              "    <tr>\n",
              "      <th>0</th>\n",
              "      <td>Adelie Penguin (Pygoscelis adeliae)</td>\n",
              "      <td>Adult, 1 Egg Stage</td>\n",
              "      <td>Yes</td>\n",
              "      <td>39.1</td>\n",
              "      <td>18.7</td>\n",
              "      <td>181.0</td>\n",
              "      <td>3750.0</td>\n",
              "      <td>MALE</td>\n",
              "      <td>1</td>\n",
              "    </tr>\n",
              "  </tbody>\n",
              "</table>\n",
              "</div>"
            ],
            "text/plain": [
              "                               Species               Stage Clutch Completion  \\\n",
              "0  Adelie Penguin (Pygoscelis adeliae)  Adult, 1 Egg Stage               Yes   \n",
              "\n",
              "   Culmen Length (mm)  Culmen Depth (mm)  Flipper Length (mm)  Body Mass (g)  \\\n",
              "0                39.1               18.7                181.0         3750.0   \n",
              "\n",
              "    Sex  sample_id  \n",
              "0  MALE          1  "
            ]
          },
          "execution_count": 133,
          "metadata": {},
          "output_type": "execute_result"
        }
      ],
      "source": [
        "penguins_features.head(1)"
      ]
    },
    {
      "cell_type": "code",
      "execution_count": null,
      "metadata": {
        "id": "T51u1j9HAxvR",
        "outputId": "652c9242-37a7-41ea-a4e7-8988affc1edd"
      },
      "outputs": [
        {
          "data": {
            "text/html": [
              "<div>\n",
              "<style scoped>\n",
              "    .dataframe tbody tr th:only-of-type {\n",
              "        vertical-align: middle;\n",
              "    }\n",
              "\n",
              "    .dataframe tbody tr th {\n",
              "        vertical-align: top;\n",
              "    }\n",
              "\n",
              "    .dataframe thead th {\n",
              "        text-align: right;\n",
              "    }\n",
              "</style>\n",
              "<table border=\"1\" class=\"dataframe\">\n",
              "  <thead>\n",
              "    <tr style=\"text-align: right;\">\n",
              "      <th></th>\n",
              "      <th>Region</th>\n",
              "      <th>Island</th>\n",
              "      <th>sample_id</th>\n",
              "    </tr>\n",
              "  </thead>\n",
              "  <tbody>\n",
              "    <tr>\n",
              "      <th>0</th>\n",
              "      <td>Anvers</td>\n",
              "      <td>Torgersen</td>\n",
              "      <td>1</td>\n",
              "    </tr>\n",
              "  </tbody>\n",
              "</table>\n",
              "</div>"
            ],
            "text/plain": [
              "   Region     Island  sample_id\n",
              "0  Anvers  Torgersen          1"
            ]
          },
          "execution_count": 134,
          "metadata": {},
          "output_type": "execute_result"
        }
      ],
      "source": [
        "penguins_location.head(1)"
      ]
    },
    {
      "cell_type": "code",
      "execution_count": null,
      "metadata": {
        "id": "Os9GnDaBHpnM",
        "outputId": "40a3671d-eb9a-46eb-e69a-5076a5bccafd",
        "tags": []
      },
      "outputs": [
        {
          "data": {
            "text/html": [
              "<div>\n",
              "<style scoped>\n",
              "    .dataframe tbody tr th:only-of-type {\n",
              "        vertical-align: middle;\n",
              "    }\n",
              "\n",
              "    .dataframe tbody tr th {\n",
              "        vertical-align: top;\n",
              "    }\n",
              "\n",
              "    .dataframe thead th {\n",
              "        text-align: right;\n",
              "    }\n",
              "</style>\n",
              "<table border=\"1\" class=\"dataframe\">\n",
              "  <thead>\n",
              "    <tr style=\"text-align: right;\">\n",
              "      <th></th>\n",
              "      <th>Species</th>\n",
              "      <th>Stage</th>\n",
              "      <th>Clutch Completion</th>\n",
              "      <th>Culmen Length (mm)</th>\n",
              "      <th>Culmen Depth (mm)</th>\n",
              "      <th>Flipper Length (mm)</th>\n",
              "      <th>Body Mass (g)</th>\n",
              "      <th>Sex</th>\n",
              "      <th>sample_id</th>\n",
              "      <th>Region</th>\n",
              "      <th>Island</th>\n",
              "    </tr>\n",
              "  </thead>\n",
              "  <tbody>\n",
              "    <tr>\n",
              "      <th>0</th>\n",
              "      <td>Adelie Penguin (Pygoscelis adeliae)</td>\n",
              "      <td>Adult, 1 Egg Stage</td>\n",
              "      <td>Yes</td>\n",
              "      <td>39.1</td>\n",
              "      <td>18.7</td>\n",
              "      <td>181.0</td>\n",
              "      <td>3750.0</td>\n",
              "      <td>MALE</td>\n",
              "      <td>1</td>\n",
              "      <td>Anvers</td>\n",
              "      <td>Torgersen</td>\n",
              "    </tr>\n",
              "    <tr>\n",
              "      <th>1</th>\n",
              "      <td>Adelie Penguin (Pygoscelis adeliae)</td>\n",
              "      <td>Adult, 1 Egg Stage</td>\n",
              "      <td>Yes</td>\n",
              "      <td>39.5</td>\n",
              "      <td>17.4</td>\n",
              "      <td>186.0</td>\n",
              "      <td>3800.0</td>\n",
              "      <td>FEMALE</td>\n",
              "      <td>2</td>\n",
              "      <td>Anvers</td>\n",
              "      <td>Torgersen</td>\n",
              "    </tr>\n",
              "    <tr>\n",
              "      <th>2</th>\n",
              "      <td>Adelie Penguin (Pygoscelis adeliae)</td>\n",
              "      <td>Adult, 1 Egg Stage</td>\n",
              "      <td>Yes</td>\n",
              "      <td>40.3</td>\n",
              "      <td>18.0</td>\n",
              "      <td>195.0</td>\n",
              "      <td>3250.0</td>\n",
              "      <td>FEMALE</td>\n",
              "      <td>3</td>\n",
              "      <td>Anvers</td>\n",
              "      <td>Torgersen</td>\n",
              "    </tr>\n",
              "    <tr>\n",
              "      <th>3</th>\n",
              "      <td>Adelie Penguin (Pygoscelis adeliae)</td>\n",
              "      <td>Adult, 1 Egg Stage</td>\n",
              "      <td>Yes</td>\n",
              "      <td>NaN</td>\n",
              "      <td>NaN</td>\n",
              "      <td>NaN</td>\n",
              "      <td>NaN</td>\n",
              "      <td>NaN</td>\n",
              "      <td>4</td>\n",
              "      <td>Anvers</td>\n",
              "      <td>Torgersen</td>\n",
              "    </tr>\n",
              "    <tr>\n",
              "      <th>4</th>\n",
              "      <td>Adelie Penguin (Pygoscelis adeliae)</td>\n",
              "      <td>Adult, 1 Egg Stage</td>\n",
              "      <td>Yes</td>\n",
              "      <td>36.7</td>\n",
              "      <td>19.3</td>\n",
              "      <td>193.0</td>\n",
              "      <td>3450.0</td>\n",
              "      <td>FEMALE</td>\n",
              "      <td>5</td>\n",
              "      <td>Anvers</td>\n",
              "      <td>Torgersen</td>\n",
              "    </tr>\n",
              "  </tbody>\n",
              "</table>\n",
              "</div>"
            ],
            "text/plain": [
              "                               Species               Stage Clutch Completion  \\\n",
              "0  Adelie Penguin (Pygoscelis adeliae)  Adult, 1 Egg Stage               Yes   \n",
              "1  Adelie Penguin (Pygoscelis adeliae)  Adult, 1 Egg Stage               Yes   \n",
              "2  Adelie Penguin (Pygoscelis adeliae)  Adult, 1 Egg Stage               Yes   \n",
              "3  Adelie Penguin (Pygoscelis adeliae)  Adult, 1 Egg Stage               Yes   \n",
              "4  Adelie Penguin (Pygoscelis adeliae)  Adult, 1 Egg Stage               Yes   \n",
              "\n",
              "   Culmen Length (mm)  Culmen Depth (mm)  Flipper Length (mm)  Body Mass (g)  \\\n",
              "0                39.1               18.7                181.0         3750.0   \n",
              "1                39.5               17.4                186.0         3800.0   \n",
              "2                40.3               18.0                195.0         3250.0   \n",
              "3                 NaN                NaN                  NaN            NaN   \n",
              "4                36.7               19.3                193.0         3450.0   \n",
              "\n",
              "      Sex  sample_id  Region     Island  \n",
              "0    MALE          1  Anvers  Torgersen  \n",
              "1  FEMALE          2  Anvers  Torgersen  \n",
              "2  FEMALE          3  Anvers  Torgersen  \n",
              "3     NaN          4  Anvers  Torgersen  \n",
              "4  FEMALE          5  Anvers  Torgersen  "
            ]
          },
          "execution_count": 136,
          "metadata": {},
          "output_type": "execute_result"
        }
      ],
      "source": [
        "penguin_dataset_final = pd.merge(penguins_features, penguins_location, on='sample_id')\n",
        "penguin_dataset_final.head()"
      ]
    },
    {
      "cell_type": "code",
      "execution_count": null,
      "metadata": {
        "id": "BkrYwEE6AxvS",
        "outputId": "6170ae91-0fc9-4514-b324-598ef1f01efe"
      },
      "outputs": [
        {
          "data": {
            "text/plain": [
              "['Species',\n",
              " 'Stage',\n",
              " 'Clutch Completion',\n",
              " 'Culmen Length (mm)',\n",
              " 'Culmen Depth (mm)',\n",
              " 'Flipper Length (mm)',\n",
              " 'Body Mass (g)',\n",
              " 'Sex',\n",
              " 'sample_id']"
            ]
          },
          "execution_count": 139,
          "metadata": {},
          "output_type": "execute_result"
        }
      ],
      "source": [
        "list(penguins_features)"
      ]
    },
    {
      "cell_type": "code",
      "execution_count": null,
      "metadata": {
        "id": "Wwd5UnHUHpnM",
        "outputId": "8d2f1abf-8dee-4714-abac-dd0de5e71c60",
        "tags": []
      },
      "outputs": [
        {
          "data": {
            "text/plain": [
              "['Species',\n",
              " 'Stage',\n",
              " 'Clutch Completion',\n",
              " 'Culmen Length (mm)',\n",
              " 'Culmen Depth (mm)',\n",
              " 'Flipper Length (mm)',\n",
              " 'Body Mass (g)',\n",
              " 'Sex',\n",
              " 'sample_id',\n",
              " 'Region',\n",
              " 'Island']"
            ]
          },
          "execution_count": 137,
          "metadata": {},
          "output_type": "execute_result"
        }
      ],
      "source": [
        "list(penguin_dataset_final)"
      ]
    },
    {
      "cell_type": "code",
      "execution_count": null,
      "metadata": {
        "id": "yp9Ia7A_HpnM",
        "tags": []
      },
      "outputs": [],
      "source": [
        "# copy dataset"
      ]
    },
    {
      "cell_type": "code",
      "execution_count": null,
      "metadata": {
        "id": "DQ9EFXsdHpnM",
        "tags": []
      },
      "outputs": [],
      "source": [
        "#penguin_dataset = penguin_dataset_final.copy()"
      ]
    },
    {
      "cell_type": "code",
      "execution_count": null,
      "metadata": {
        "id": "GVDTWJYIAxvU"
      },
      "outputs": [],
      "source": [
        "penguin_dataset1 = penguin_dataset_final.copy()"
      ]
    },
    {
      "cell_type": "markdown",
      "metadata": {
        "id": "yIvmUReEHpnN",
        "tags": []
      },
      "source": [
        "### Veri Seti Genel Düzenleme:"
      ]
    },
    {
      "cell_type": "code",
      "execution_count": null,
      "metadata": {
        "id": "qCZlLXlhHpnN",
        "tags": []
      },
      "outputs": [],
      "source": [
        "newcol_names={'Clutch Completion':'Clutch_comp',\n",
        "             'Culmen Length (mm)': 'Culmen_lenght_mm',\n",
        "             'Culmen Depth (mm)': 'Culmen_depth_mm',\n",
        "             'Flipper Length (mm)': 'Flipper_length_mm',\n",
        "             'Body Mass (g)': 'Body_mass_g'}"
      ]
    },
    {
      "cell_type": "code",
      "execution_count": null,
      "metadata": {
        "id": "nkTC-aPdHpnO",
        "tags": []
      },
      "outputs": [],
      "source": [
        "penguin_dataset= penguin_dataset1.rename(columns=newcol_names)"
      ]
    },
    {
      "cell_type": "code",
      "execution_count": null,
      "metadata": {
        "id": "omXlgZuBAxvV"
      },
      "outputs": [],
      "source": [
        "#penguin_dataset= penguin_dataset1.rename(columns={'Clutch Completion':'Clutch_comp'})"
      ]
    },
    {
      "cell_type": "code",
      "execution_count": null,
      "metadata": {
        "id": "yHugUa8gHpnO",
        "tags": []
      },
      "outputs": [],
      "source": [
        "#Alternatif olarak ->>> columns = {'body_mass_g':'weight', ...}"
      ]
    },
    {
      "cell_type": "code",
      "execution_count": null,
      "metadata": {
        "id": "42Kaly1UHpnO",
        "outputId": "128077de-a354-4f07-d73c-950316e167b8",
        "tags": []
      },
      "outputs": [
        {
          "name": "stdout",
          "output_type": "stream",
          "text": [
            "<class 'pandas.core.frame.DataFrame'>\n",
            "Int64Index: 344 entries, 0 to 343\n",
            "Data columns (total 11 columns):\n",
            " #   Column             Non-Null Count  Dtype  \n",
            "---  ------             --------------  -----  \n",
            " 0   Species            344 non-null    object \n",
            " 1   Stage              344 non-null    object \n",
            " 2   Clutch_comp        344 non-null    object \n",
            " 3   Culmen_lenght_mm   342 non-null    float64\n",
            " 4   Culmen_depth_mm    342 non-null    float64\n",
            " 5   Flipper_length_mm  342 non-null    float64\n",
            " 6   Body_mass_g        342 non-null    float64\n",
            " 7   Sex                334 non-null    object \n",
            " 8   sample_id          344 non-null    int64  \n",
            " 9   Region             344 non-null    object \n",
            " 10  Island             344 non-null    object \n",
            "dtypes: float64(4), int64(1), object(6)\n",
            "memory usage: 32.2+ KB\n"
          ]
        }
      ],
      "source": [
        "penguin_dataset.info()"
      ]
    },
    {
      "cell_type": "code",
      "execution_count": null,
      "metadata": {
        "id": "85FaAJJoAxvV",
        "outputId": "de627366-4146-4d71-9290-2b6eb9c8064a"
      },
      "outputs": [
        {
          "data": {
            "text/plain": [
              "0      Adelie Penguin (Pygoscelis adeliae)\n",
              "1      Adelie Penguin (Pygoscelis adeliae)\n",
              "2      Adelie Penguin (Pygoscelis adeliae)\n",
              "3      Adelie Penguin (Pygoscelis adeliae)\n",
              "4      Adelie Penguin (Pygoscelis adeliae)\n",
              "                      ...                 \n",
              "339      Gentoo penguin (Pygoscelis papua)\n",
              "340      Gentoo penguin (Pygoscelis papua)\n",
              "341      Gentoo penguin (Pygoscelis papua)\n",
              "342      Gentoo penguin (Pygoscelis papua)\n",
              "343      Gentoo penguin (Pygoscelis papua)\n",
              "Name: Species, Length: 344, dtype: object"
            ]
          },
          "execution_count": 150,
          "metadata": {},
          "output_type": "execute_result"
        }
      ],
      "source": [
        "penguin_dataset['Species']"
      ]
    },
    {
      "cell_type": "markdown",
      "metadata": {
        "id": "CZ5BiN_CHpnO",
        "tags": []
      },
      "source": [
        "### Kayıp Veri (missing values) ile Uğraşma:"
      ]
    },
    {
      "cell_type": "code",
      "execution_count": null,
      "metadata": {
        "id": "lr16qu8WHpnP",
        "outputId": "7f5b021e-23b5-4ed4-d0fc-c6ddeff9f96b",
        "tags": []
      },
      "outputs": [
        {
          "data": {
            "text/plain": [
              "Species               0\n",
              "Stage                 0\n",
              "Clutch_comp           0\n",
              "Culmen_lenght_mm      2\n",
              "Culmen_depth_mm       2\n",
              "Flipper_length_mm     2\n",
              "Body_mass_g           2\n",
              "Sex                  10\n",
              "sample_id             0\n",
              "Region                0\n",
              "Island                0\n",
              "dtype: int64"
            ]
          },
          "execution_count": 148,
          "metadata": {},
          "output_type": "execute_result"
        }
      ],
      "source": [
        "penguin_dataset.isnull().sum()"
      ]
    },
    {
      "cell_type": "code",
      "execution_count": null,
      "metadata": {
        "id": "H7Z-m4jVHpnT",
        "outputId": "b0dc7c4b-61ca-422d-c1ae-f13991dce14f",
        "tags": []
      },
      "outputs": [
        {
          "data": {
            "text/plain": [
              "0"
            ]
          },
          "execution_count": 149,
          "metadata": {},
          "output_type": "execute_result"
        }
      ],
      "source": [
        "sum(penguin_dataset['Species'].isnull())"
      ]
    },
    {
      "cell_type": "code",
      "execution_count": null,
      "metadata": {
        "id": "Uw7E8p_tHpnT",
        "outputId": "dd43bbf2-79cf-4073-ea04-2c01401357f6",
        "tags": []
      },
      "outputs": [
        {
          "data": {
            "text/plain": [
              "10"
            ]
          },
          "execution_count": 151,
          "metadata": {},
          "output_type": "execute_result"
        }
      ],
      "source": [
        "sum(penguin_dataset['Sex'].isnull())"
      ]
    },
    {
      "cell_type": "code",
      "execution_count": null,
      "metadata": {
        "id": "Ykv-7tJAHpnT",
        "outputId": "aa9573cd-e8ed-4412-93ae-0d8807e88291",
        "tags": []
      },
      "outputs": [
        {
          "data": {
            "text/plain": [
              "Species              334\n",
              "Stage                334\n",
              "Clutch_comp          334\n",
              "Culmen_lenght_mm     334\n",
              "Culmen_depth_mm      334\n",
              "Flipper_length_mm    334\n",
              "Body_mass_g          334\n",
              "Sex                  334\n",
              "sample_id            334\n",
              "Region               334\n",
              "Island               334\n",
              "dtype: int64"
            ]
          },
          "execution_count": 152,
          "metadata": {},
          "output_type": "execute_result"
        }
      ],
      "source": [
        "#Missing Alternatif-1:\n",
        "\n",
        "penguin_dataset2 = penguin_dataset.dropna()\n",
        "penguin_dataset2.count()"
      ]
    },
    {
      "cell_type": "code",
      "execution_count": null,
      "metadata": {
        "id": "8YX0sxfqHpnU",
        "tags": []
      },
      "outputs": [],
      "source": [
        "penguin_dataset.info()"
      ]
    },
    {
      "cell_type": "markdown",
      "metadata": {
        "id": "Ch7_AFl9HpnU"
      },
      "source": [
        "#Cinsiyet'te Hala boş değerler var. Ne yapacağımıza karar verelim?\n",
        "- Tamamen satır silebiliriz.\n",
        "- Mod/Median/Mean/ bir sayısal değer vb. ile doldurabiliriz.\n",
        "- Kategorik olduğu için tahminleme yapabiliriz."
      ]
    },
    {
      "cell_type": "code",
      "execution_count": null,
      "metadata": {
        "id": "SjHlK4tjHpnU",
        "tags": []
      },
      "outputs": [],
      "source": [
        "# Veri Filtreleme İşlemlerine örnek:"
      ]
    },
    {
      "cell_type": "code",
      "execution_count": null,
      "metadata": {
        "id": "bL5T5CIBHpnU",
        "tags": []
      },
      "outputs": [],
      "source": [
        "# Fazla değişkenleri Silme:"
      ]
    },
    {
      "cell_type": "code",
      "execution_count": null,
      "metadata": {
        "id": "IziATkQ0HpnV",
        "tags": []
      },
      "outputs": [],
      "source": [
        "penguin_dataset_new=penguin_dataset2.drop(['Culmen_lenght_mm','Body_mass_g'], axis = 1)"
      ]
    },
    {
      "cell_type": "code",
      "execution_count": null,
      "metadata": {
        "id": "MGdhAnCtHpnV",
        "outputId": "001f21c4-9fa8-4d45-b4ce-8fe2931ed16d",
        "tags": []
      },
      "outputs": [
        {
          "name": "stdout",
          "output_type": "stream",
          "text": [
            "<class 'pandas.core.frame.DataFrame'>\n",
            "Int64Index: 334 entries, 0 to 343\n",
            "Data columns (total 9 columns):\n",
            " #   Column             Non-Null Count  Dtype  \n",
            "---  ------             --------------  -----  \n",
            " 0   Species            334 non-null    object \n",
            " 1   Stage              334 non-null    object \n",
            " 2   Clutch_comp        334 non-null    object \n",
            " 3   Culmen_depth_mm    334 non-null    float64\n",
            " 4   Flipper_length_mm  334 non-null    float64\n",
            " 5   Sex                334 non-null    object \n",
            " 6   sample_id          334 non-null    int64  \n",
            " 7   Region             334 non-null    object \n",
            " 8   Island             334 non-null    object \n",
            "dtypes: float64(2), int64(1), object(6)\n",
            "memory usage: 26.1+ KB\n"
          ]
        }
      ],
      "source": [
        "penguin_dataset_new.info()"
      ]
    },
    {
      "cell_type": "code",
      "execution_count": null,
      "metadata": {
        "id": "81x-QaVoAxvZ",
        "outputId": "1ebf0d4b-f5a2-4f3d-877d-8cbe72791461"
      },
      "outputs": [
        {
          "data": {
            "text/html": [
              "<div>\n",
              "<style scoped>\n",
              "    .dataframe tbody tr th:only-of-type {\n",
              "        vertical-align: middle;\n",
              "    }\n",
              "\n",
              "    .dataframe tbody tr th {\n",
              "        vertical-align: top;\n",
              "    }\n",
              "\n",
              "    .dataframe thead th {\n",
              "        text-align: right;\n",
              "    }\n",
              "</style>\n",
              "<table border=\"1\" class=\"dataframe\">\n",
              "  <thead>\n",
              "    <tr style=\"text-align: right;\">\n",
              "      <th></th>\n",
              "      <th>Clutch_comp</th>\n",
              "    </tr>\n",
              "  </thead>\n",
              "  <tbody>\n",
              "    <tr>\n",
              "      <th>0</th>\n",
              "      <td>Yes</td>\n",
              "    </tr>\n",
              "    <tr>\n",
              "      <th>1</th>\n",
              "      <td>Yes</td>\n",
              "    </tr>\n",
              "    <tr>\n",
              "      <th>2</th>\n",
              "      <td>Yes</td>\n",
              "    </tr>\n",
              "    <tr>\n",
              "      <th>4</th>\n",
              "      <td>Yes</td>\n",
              "    </tr>\n",
              "    <tr>\n",
              "      <th>5</th>\n",
              "      <td>Yes</td>\n",
              "    </tr>\n",
              "  </tbody>\n",
              "</table>\n",
              "</div>"
            ],
            "text/plain": [
              "  Clutch_comp\n",
              "0         Yes\n",
              "1         Yes\n",
              "2         Yes\n",
              "4         Yes\n",
              "5         Yes"
            ]
          },
          "execution_count": 162,
          "metadata": {},
          "output_type": "execute_result"
        }
      ],
      "source": [
        "Clutch_Comp_deneme= penguin_dataset_new[[\"Clutch_comp\"]]\n",
        "Clutch_Comp_deneme.head()"
      ]
    },
    {
      "cell_type": "code",
      "execution_count": null,
      "metadata": {
        "id": "mbyAz-_VHpnV",
        "outputId": "e4ef8345-95b2-40d2-c403-30d2adab5643",
        "tags": []
      },
      "outputs": [
        {
          "data": {
            "text/plain": [
              "Species                Adelie Penguin (Pygoscelis adeliae)\n",
              "Stage                                   Adult, 1 Egg Stage\n",
              "Clutch Completion                                      Yes\n",
              "Culmen Length (mm)                                    39.1\n",
              "Culmen Depth (mm)                                     18.7\n",
              "Flipper Length (mm)                                  181.0\n",
              "Body Mass (g)                                       3750.0\n",
              "Sex                                                   MALE\n",
              "sample_id                                                1\n",
              "Region                                              Anvers\n",
              "Island                                           Torgersen\n",
              "Name: 0, dtype: object"
            ]
          },
          "execution_count": 164,
          "metadata": {},
          "output_type": "execute_result"
        }
      ],
      "source": [
        "penguin_dataset1.iloc[0]"
      ]
    },
    {
      "cell_type": "code",
      "execution_count": null,
      "metadata": {
        "id": "nQ6nDWMJHpnV",
        "outputId": "23a61f11-4df1-4e89-bc80-6b13d745919a",
        "tags": []
      },
      "outputs": [
        {
          "data": {
            "text/html": [
              "<div>\n",
              "<style scoped>\n",
              "    .dataframe tbody tr th:only-of-type {\n",
              "        vertical-align: middle;\n",
              "    }\n",
              "\n",
              "    .dataframe tbody tr th {\n",
              "        vertical-align: top;\n",
              "    }\n",
              "\n",
              "    .dataframe thead th {\n",
              "        text-align: right;\n",
              "    }\n",
              "</style>\n",
              "<table border=\"1\" class=\"dataframe\">\n",
              "  <thead>\n",
              "    <tr style=\"text-align: right;\">\n",
              "      <th></th>\n",
              "      <th>Species</th>\n",
              "      <th>Stage</th>\n",
              "      <th>Clutch Completion</th>\n",
              "      <th>Culmen Length (mm)</th>\n",
              "      <th>Culmen Depth (mm)</th>\n",
              "      <th>Flipper Length (mm)</th>\n",
              "      <th>Body Mass (g)</th>\n",
              "      <th>Sex</th>\n",
              "      <th>sample_id</th>\n",
              "      <th>Region</th>\n",
              "      <th>Island</th>\n",
              "    </tr>\n",
              "  </thead>\n",
              "  <tbody>\n",
              "    <tr>\n",
              "      <th>0</th>\n",
              "      <td>Adelie Penguin (Pygoscelis adeliae)</td>\n",
              "      <td>Adult, 1 Egg Stage</td>\n",
              "      <td>Yes</td>\n",
              "      <td>39.1</td>\n",
              "      <td>18.7</td>\n",
              "      <td>181.0</td>\n",
              "      <td>3750.0</td>\n",
              "      <td>MALE</td>\n",
              "      <td>1</td>\n",
              "      <td>Anvers</td>\n",
              "      <td>Torgersen</td>\n",
              "    </tr>\n",
              "    <tr>\n",
              "      <th>1</th>\n",
              "      <td>Adelie Penguin (Pygoscelis adeliae)</td>\n",
              "      <td>Adult, 1 Egg Stage</td>\n",
              "      <td>Yes</td>\n",
              "      <td>39.5</td>\n",
              "      <td>17.4</td>\n",
              "      <td>186.0</td>\n",
              "      <td>3800.0</td>\n",
              "      <td>FEMALE</td>\n",
              "      <td>2</td>\n",
              "      <td>Anvers</td>\n",
              "      <td>Torgersen</td>\n",
              "    </tr>\n",
              "    <tr>\n",
              "      <th>2</th>\n",
              "      <td>Adelie Penguin (Pygoscelis adeliae)</td>\n",
              "      <td>Adult, 1 Egg Stage</td>\n",
              "      <td>Yes</td>\n",
              "      <td>40.3</td>\n",
              "      <td>18.0</td>\n",
              "      <td>195.0</td>\n",
              "      <td>3250.0</td>\n",
              "      <td>FEMALE</td>\n",
              "      <td>3</td>\n",
              "      <td>Anvers</td>\n",
              "      <td>Torgersen</td>\n",
              "    </tr>\n",
              "    <tr>\n",
              "      <th>3</th>\n",
              "      <td>Adelie Penguin (Pygoscelis adeliae)</td>\n",
              "      <td>Adult, 1 Egg Stage</td>\n",
              "      <td>Yes</td>\n",
              "      <td>NaN</td>\n",
              "      <td>NaN</td>\n",
              "      <td>NaN</td>\n",
              "      <td>NaN</td>\n",
              "      <td>NaN</td>\n",
              "      <td>4</td>\n",
              "      <td>Anvers</td>\n",
              "      <td>Torgersen</td>\n",
              "    </tr>\n",
              "    <tr>\n",
              "      <th>4</th>\n",
              "      <td>Adelie Penguin (Pygoscelis adeliae)</td>\n",
              "      <td>Adult, 1 Egg Stage</td>\n",
              "      <td>Yes</td>\n",
              "      <td>36.7</td>\n",
              "      <td>19.3</td>\n",
              "      <td>193.0</td>\n",
              "      <td>3450.0</td>\n",
              "      <td>FEMALE</td>\n",
              "      <td>5</td>\n",
              "      <td>Anvers</td>\n",
              "      <td>Torgersen</td>\n",
              "    </tr>\n",
              "    <tr>\n",
              "      <th>5</th>\n",
              "      <td>Adelie Penguin (Pygoscelis adeliae)</td>\n",
              "      <td>Adult, 1 Egg Stage</td>\n",
              "      <td>Yes</td>\n",
              "      <td>39.3</td>\n",
              "      <td>20.6</td>\n",
              "      <td>190.0</td>\n",
              "      <td>3650.0</td>\n",
              "      <td>MALE</td>\n",
              "      <td>6</td>\n",
              "      <td>Anvers</td>\n",
              "      <td>Torgersen</td>\n",
              "    </tr>\n",
              "    <tr>\n",
              "      <th>6</th>\n",
              "      <td>Adelie Penguin (Pygoscelis adeliae)</td>\n",
              "      <td>Adult, 1 Egg Stage</td>\n",
              "      <td>No</td>\n",
              "      <td>38.9</td>\n",
              "      <td>17.8</td>\n",
              "      <td>181.0</td>\n",
              "      <td>3625.0</td>\n",
              "      <td>FEMALE</td>\n",
              "      <td>7</td>\n",
              "      <td>Anvers</td>\n",
              "      <td>Torgersen</td>\n",
              "    </tr>\n",
              "    <tr>\n",
              "      <th>7</th>\n",
              "      <td>Adelie Penguin (Pygoscelis adeliae)</td>\n",
              "      <td>Adult, 1 Egg Stage</td>\n",
              "      <td>No</td>\n",
              "      <td>39.2</td>\n",
              "      <td>19.6</td>\n",
              "      <td>195.0</td>\n",
              "      <td>4675.0</td>\n",
              "      <td>MALE</td>\n",
              "      <td>8</td>\n",
              "      <td>Anvers</td>\n",
              "      <td>Torgersen</td>\n",
              "    </tr>\n",
              "  </tbody>\n",
              "</table>\n",
              "</div>"
            ],
            "text/plain": [
              "                               Species               Stage Clutch Completion  \\\n",
              "0  Adelie Penguin (Pygoscelis adeliae)  Adult, 1 Egg Stage               Yes   \n",
              "1  Adelie Penguin (Pygoscelis adeliae)  Adult, 1 Egg Stage               Yes   \n",
              "2  Adelie Penguin (Pygoscelis adeliae)  Adult, 1 Egg Stage               Yes   \n",
              "3  Adelie Penguin (Pygoscelis adeliae)  Adult, 1 Egg Stage               Yes   \n",
              "4  Adelie Penguin (Pygoscelis adeliae)  Adult, 1 Egg Stage               Yes   \n",
              "5  Adelie Penguin (Pygoscelis adeliae)  Adult, 1 Egg Stage               Yes   \n",
              "6  Adelie Penguin (Pygoscelis adeliae)  Adult, 1 Egg Stage                No   \n",
              "7  Adelie Penguin (Pygoscelis adeliae)  Adult, 1 Egg Stage                No   \n",
              "\n",
              "   Culmen Length (mm)  Culmen Depth (mm)  Flipper Length (mm)  Body Mass (g)  \\\n",
              "0                39.1               18.7                181.0         3750.0   \n",
              "1                39.5               17.4                186.0         3800.0   \n",
              "2                40.3               18.0                195.0         3250.0   \n",
              "3                 NaN                NaN                  NaN            NaN   \n",
              "4                36.7               19.3                193.0         3450.0   \n",
              "5                39.3               20.6                190.0         3650.0   \n",
              "6                38.9               17.8                181.0         3625.0   \n",
              "7                39.2               19.6                195.0         4675.0   \n",
              "\n",
              "      Sex  sample_id  Region     Island  \n",
              "0    MALE          1  Anvers  Torgersen  \n",
              "1  FEMALE          2  Anvers  Torgersen  \n",
              "2  FEMALE          3  Anvers  Torgersen  \n",
              "3     NaN          4  Anvers  Torgersen  \n",
              "4  FEMALE          5  Anvers  Torgersen  \n",
              "5    MALE          6  Anvers  Torgersen  \n",
              "6  FEMALE          7  Anvers  Torgersen  \n",
              "7    MALE          8  Anvers  Torgersen  "
            ]
          },
          "execution_count": 167,
          "metadata": {},
          "output_type": "execute_result"
        }
      ],
      "source": [
        "penguin_dataset1.iloc[0:8]"
      ]
    },
    {
      "cell_type": "code",
      "execution_count": null,
      "metadata": {
        "id": "BAvGtoW9Axva",
        "outputId": "e0f959f2-c174-460b-a092-eb3d2f7c46c9"
      },
      "outputs": [
        {
          "data": {
            "text/html": [
              "<div>\n",
              "<style scoped>\n",
              "    .dataframe tbody tr th:only-of-type {\n",
              "        vertical-align: middle;\n",
              "    }\n",
              "\n",
              "    .dataframe tbody tr th {\n",
              "        vertical-align: top;\n",
              "    }\n",
              "\n",
              "    .dataframe thead th {\n",
              "        text-align: right;\n",
              "    }\n",
              "</style>\n",
              "<table border=\"1\" class=\"dataframe\">\n",
              "  <thead>\n",
              "    <tr style=\"text-align: right;\">\n",
              "      <th></th>\n",
              "      <th>Species</th>\n",
              "      <th>Stage</th>\n",
              "      <th>Clutch Completion</th>\n",
              "    </tr>\n",
              "  </thead>\n",
              "  <tbody>\n",
              "    <tr>\n",
              "      <th>0</th>\n",
              "      <td>Adelie Penguin (Pygoscelis adeliae)</td>\n",
              "      <td>Adult, 1 Egg Stage</td>\n",
              "      <td>Yes</td>\n",
              "    </tr>\n",
              "    <tr>\n",
              "      <th>1</th>\n",
              "      <td>Adelie Penguin (Pygoscelis adeliae)</td>\n",
              "      <td>Adult, 1 Egg Stage</td>\n",
              "      <td>Yes</td>\n",
              "    </tr>\n",
              "    <tr>\n",
              "      <th>2</th>\n",
              "      <td>Adelie Penguin (Pygoscelis adeliae)</td>\n",
              "      <td>Adult, 1 Egg Stage</td>\n",
              "      <td>Yes</td>\n",
              "    </tr>\n",
              "    <tr>\n",
              "      <th>3</th>\n",
              "      <td>Adelie Penguin (Pygoscelis adeliae)</td>\n",
              "      <td>Adult, 1 Egg Stage</td>\n",
              "      <td>Yes</td>\n",
              "    </tr>\n",
              "    <tr>\n",
              "      <th>4</th>\n",
              "      <td>Adelie Penguin (Pygoscelis adeliae)</td>\n",
              "      <td>Adult, 1 Egg Stage</td>\n",
              "      <td>Yes</td>\n",
              "    </tr>\n",
              "    <tr>\n",
              "      <th>5</th>\n",
              "      <td>Adelie Penguin (Pygoscelis adeliae)</td>\n",
              "      <td>Adult, 1 Egg Stage</td>\n",
              "      <td>Yes</td>\n",
              "    </tr>\n",
              "    <tr>\n",
              "      <th>6</th>\n",
              "      <td>Adelie Penguin (Pygoscelis adeliae)</td>\n",
              "      <td>Adult, 1 Egg Stage</td>\n",
              "      <td>No</td>\n",
              "    </tr>\n",
              "    <tr>\n",
              "      <th>7</th>\n",
              "      <td>Adelie Penguin (Pygoscelis adeliae)</td>\n",
              "      <td>Adult, 1 Egg Stage</td>\n",
              "      <td>No</td>\n",
              "    </tr>\n",
              "  </tbody>\n",
              "</table>\n",
              "</div>"
            ],
            "text/plain": [
              "                               Species               Stage Clutch Completion\n",
              "0  Adelie Penguin (Pygoscelis adeliae)  Adult, 1 Egg Stage               Yes\n",
              "1  Adelie Penguin (Pygoscelis adeliae)  Adult, 1 Egg Stage               Yes\n",
              "2  Adelie Penguin (Pygoscelis adeliae)  Adult, 1 Egg Stage               Yes\n",
              "3  Adelie Penguin (Pygoscelis adeliae)  Adult, 1 Egg Stage               Yes\n",
              "4  Adelie Penguin (Pygoscelis adeliae)  Adult, 1 Egg Stage               Yes\n",
              "5  Adelie Penguin (Pygoscelis adeliae)  Adult, 1 Egg Stage               Yes\n",
              "6  Adelie Penguin (Pygoscelis adeliae)  Adult, 1 Egg Stage                No\n",
              "7  Adelie Penguin (Pygoscelis adeliae)  Adult, 1 Egg Stage                No"
            ]
          },
          "execution_count": 173,
          "metadata": {},
          "output_type": "execute_result"
        }
      ],
      "source": [
        "penguin_dataset1.iloc[0:8,0:3]"
      ]
    },
    {
      "cell_type": "code",
      "execution_count": null,
      "metadata": {
        "id": "E8TYnDSoHpnV",
        "outputId": "598882c1-6c59-4621-c152-fa401bd794d3",
        "tags": []
      },
      "outputs": [
        {
          "data": {
            "text/html": [
              "<div>\n",
              "<style scoped>\n",
              "    .dataframe tbody tr th:only-of-type {\n",
              "        vertical-align: middle;\n",
              "    }\n",
              "\n",
              "    .dataframe tbody tr th {\n",
              "        vertical-align: top;\n",
              "    }\n",
              "\n",
              "    .dataframe thead th {\n",
              "        text-align: right;\n",
              "    }\n",
              "</style>\n",
              "<table border=\"1\" class=\"dataframe\">\n",
              "  <thead>\n",
              "    <tr style=\"text-align: right;\">\n",
              "      <th></th>\n",
              "      <th>Island</th>\n",
              "    </tr>\n",
              "  </thead>\n",
              "  <tbody>\n",
              "    <tr>\n",
              "      <th>0</th>\n",
              "      <td>Torgersen</td>\n",
              "    </tr>\n",
              "    <tr>\n",
              "      <th>1</th>\n",
              "      <td>Torgersen</td>\n",
              "    </tr>\n",
              "    <tr>\n",
              "      <th>2</th>\n",
              "      <td>Torgersen</td>\n",
              "    </tr>\n",
              "    <tr>\n",
              "      <th>3</th>\n",
              "      <td>Torgersen</td>\n",
              "    </tr>\n",
              "    <tr>\n",
              "      <th>4</th>\n",
              "      <td>Torgersen</td>\n",
              "    </tr>\n",
              "    <tr>\n",
              "      <th>5</th>\n",
              "      <td>Torgersen</td>\n",
              "    </tr>\n",
              "    <tr>\n",
              "      <th>6</th>\n",
              "      <td>Torgersen</td>\n",
              "    </tr>\n",
              "    <tr>\n",
              "      <th>7</th>\n",
              "      <td>Torgersen</td>\n",
              "    </tr>\n",
              "    <tr>\n",
              "      <th>8</th>\n",
              "      <td>Torgersen</td>\n",
              "    </tr>\n",
              "  </tbody>\n",
              "</table>\n",
              "</div>"
            ],
            "text/plain": [
              "      Island\n",
              "0  Torgersen\n",
              "1  Torgersen\n",
              "2  Torgersen\n",
              "3  Torgersen\n",
              "4  Torgersen\n",
              "5  Torgersen\n",
              "6  Torgersen\n",
              "7  Torgersen\n",
              "8  Torgersen"
            ]
          },
          "execution_count": 174,
          "metadata": {},
          "output_type": "execute_result"
        }
      ],
      "source": [
        "penguin_dataset1.loc[:8, ['Island']]"
      ]
    },
    {
      "cell_type": "code",
      "execution_count": null,
      "metadata": {
        "id": "6n0j2ClyAxvb",
        "outputId": "ce3ac30d-4280-41c4-dca2-b8fd7b312533"
      },
      "outputs": [
        {
          "data": {
            "text/html": [
              "<div>\n",
              "<style scoped>\n",
              "    .dataframe tbody tr th:only-of-type {\n",
              "        vertical-align: middle;\n",
              "    }\n",
              "\n",
              "    .dataframe tbody tr th {\n",
              "        vertical-align: top;\n",
              "    }\n",
              "\n",
              "    .dataframe thead th {\n",
              "        text-align: right;\n",
              "    }\n",
              "</style>\n",
              "<table border=\"1\" class=\"dataframe\">\n",
              "  <thead>\n",
              "    <tr style=\"text-align: right;\">\n",
              "      <th></th>\n",
              "      <th>Island</th>\n",
              "    </tr>\n",
              "  </thead>\n",
              "  <tbody>\n",
              "    <tr>\n",
              "      <th>0</th>\n",
              "      <td>Torgersen</td>\n",
              "    </tr>\n",
              "    <tr>\n",
              "      <th>1</th>\n",
              "      <td>Torgersen</td>\n",
              "    </tr>\n",
              "    <tr>\n",
              "      <th>2</th>\n",
              "      <td>Torgersen</td>\n",
              "    </tr>\n",
              "    <tr>\n",
              "      <th>3</th>\n",
              "      <td>Torgersen</td>\n",
              "    </tr>\n",
              "    <tr>\n",
              "      <th>4</th>\n",
              "      <td>Torgersen</td>\n",
              "    </tr>\n",
              "    <tr>\n",
              "      <th>...</th>\n",
              "      <td>...</td>\n",
              "    </tr>\n",
              "    <tr>\n",
              "      <th>339</th>\n",
              "      <td>Biscoe</td>\n",
              "    </tr>\n",
              "    <tr>\n",
              "      <th>340</th>\n",
              "      <td>Biscoe</td>\n",
              "    </tr>\n",
              "    <tr>\n",
              "      <th>341</th>\n",
              "      <td>Biscoe</td>\n",
              "    </tr>\n",
              "    <tr>\n",
              "      <th>342</th>\n",
              "      <td>Biscoe</td>\n",
              "    </tr>\n",
              "    <tr>\n",
              "      <th>343</th>\n",
              "      <td>Biscoe</td>\n",
              "    </tr>\n",
              "  </tbody>\n",
              "</table>\n",
              "<p>344 rows × 1 columns</p>\n",
              "</div>"
            ],
            "text/plain": [
              "        Island\n",
              "0    Torgersen\n",
              "1    Torgersen\n",
              "2    Torgersen\n",
              "3    Torgersen\n",
              "4    Torgersen\n",
              "..         ...\n",
              "339     Biscoe\n",
              "340     Biscoe\n",
              "341     Biscoe\n",
              "342     Biscoe\n",
              "343     Biscoe\n",
              "\n",
              "[344 rows x 1 columns]"
            ]
          },
          "execution_count": 175,
          "metadata": {},
          "output_type": "execute_result"
        }
      ],
      "source": [
        "penguin_dataset1.loc[:][[\"Island\"]]"
      ]
    },
    {
      "cell_type": "code",
      "execution_count": null,
      "metadata": {
        "id": "T0rKSggXHpnV",
        "outputId": "87e64821-86e6-4912-817e-e45f76d5d39b",
        "tags": []
      },
      "outputs": [
        {
          "data": {
            "text/html": [
              "<div>\n",
              "<style scoped>\n",
              "    .dataframe tbody tr th:only-of-type {\n",
              "        vertical-align: middle;\n",
              "    }\n",
              "\n",
              "    .dataframe tbody tr th {\n",
              "        vertical-align: top;\n",
              "    }\n",
              "\n",
              "    .dataframe thead th {\n",
              "        text-align: right;\n",
              "    }\n",
              "</style>\n",
              "<table border=\"1\" class=\"dataframe\">\n",
              "  <thead>\n",
              "    <tr style=\"text-align: right;\">\n",
              "      <th></th>\n",
              "      <th>Region</th>\n",
              "      <th>Island</th>\n",
              "    </tr>\n",
              "  </thead>\n",
              "  <tbody>\n",
              "    <tr>\n",
              "      <th>0</th>\n",
              "      <td>Anvers</td>\n",
              "      <td>Torgersen</td>\n",
              "    </tr>\n",
              "    <tr>\n",
              "      <th>1</th>\n",
              "      <td>Anvers</td>\n",
              "      <td>Torgersen</td>\n",
              "    </tr>\n",
              "    <tr>\n",
              "      <th>2</th>\n",
              "      <td>Anvers</td>\n",
              "      <td>Torgersen</td>\n",
              "    </tr>\n",
              "    <tr>\n",
              "      <th>3</th>\n",
              "      <td>Anvers</td>\n",
              "      <td>Torgersen</td>\n",
              "    </tr>\n",
              "    <tr>\n",
              "      <th>4</th>\n",
              "      <td>Anvers</td>\n",
              "      <td>Torgersen</td>\n",
              "    </tr>\n",
              "    <tr>\n",
              "      <th>...</th>\n",
              "      <td>...</td>\n",
              "      <td>...</td>\n",
              "    </tr>\n",
              "    <tr>\n",
              "      <th>339</th>\n",
              "      <td>Anvers</td>\n",
              "      <td>Biscoe</td>\n",
              "    </tr>\n",
              "    <tr>\n",
              "      <th>340</th>\n",
              "      <td>Anvers</td>\n",
              "      <td>Biscoe</td>\n",
              "    </tr>\n",
              "    <tr>\n",
              "      <th>341</th>\n",
              "      <td>Anvers</td>\n",
              "      <td>Biscoe</td>\n",
              "    </tr>\n",
              "    <tr>\n",
              "      <th>342</th>\n",
              "      <td>Anvers</td>\n",
              "      <td>Biscoe</td>\n",
              "    </tr>\n",
              "    <tr>\n",
              "      <th>343</th>\n",
              "      <td>Anvers</td>\n",
              "      <td>Biscoe</td>\n",
              "    </tr>\n",
              "  </tbody>\n",
              "</table>\n",
              "<p>344 rows × 2 columns</p>\n",
              "</div>"
            ],
            "text/plain": [
              "     Region     Island\n",
              "0    Anvers  Torgersen\n",
              "1    Anvers  Torgersen\n",
              "2    Anvers  Torgersen\n",
              "3    Anvers  Torgersen\n",
              "4    Anvers  Torgersen\n",
              "..      ...        ...\n",
              "339  Anvers     Biscoe\n",
              "340  Anvers     Biscoe\n",
              "341  Anvers     Biscoe\n",
              "342  Anvers     Biscoe\n",
              "343  Anvers     Biscoe\n",
              "\n",
              "[344 rows x 2 columns]"
            ]
          },
          "execution_count": 176,
          "metadata": {},
          "output_type": "execute_result"
        }
      ],
      "source": [
        "penguin_dataset1.loc[:, ['Region', 'Island']]"
      ]
    },
    {
      "cell_type": "code",
      "execution_count": null,
      "metadata": {
        "id": "q-gB6ZpMHpnV",
        "outputId": "9234f918-b144-4d66-863f-68355d630034",
        "tags": []
      },
      "outputs": [
        {
          "data": {
            "text/html": [
              "<div>\n",
              "<style scoped>\n",
              "    .dataframe tbody tr th:only-of-type {\n",
              "        vertical-align: middle;\n",
              "    }\n",
              "\n",
              "    .dataframe tbody tr th {\n",
              "        vertical-align: top;\n",
              "    }\n",
              "\n",
              "    .dataframe thead th {\n",
              "        text-align: right;\n",
              "    }\n",
              "</style>\n",
              "<table border=\"1\" class=\"dataframe\">\n",
              "  <thead>\n",
              "    <tr style=\"text-align: right;\">\n",
              "      <th></th>\n",
              "      <th>Region</th>\n",
              "      <th>Island</th>\n",
              "    </tr>\n",
              "  </thead>\n",
              "  <tbody>\n",
              "    <tr>\n",
              "      <th>0</th>\n",
              "      <td>Anvers</td>\n",
              "      <td>Torgersen</td>\n",
              "    </tr>\n",
              "    <tr>\n",
              "      <th>1</th>\n",
              "      <td>Anvers</td>\n",
              "      <td>Torgersen</td>\n",
              "    </tr>\n",
              "    <tr>\n",
              "      <th>2</th>\n",
              "      <td>Anvers</td>\n",
              "      <td>Torgersen</td>\n",
              "    </tr>\n",
              "    <tr>\n",
              "      <th>3</th>\n",
              "      <td>Anvers</td>\n",
              "      <td>Torgersen</td>\n",
              "    </tr>\n",
              "    <tr>\n",
              "      <th>4</th>\n",
              "      <td>Anvers</td>\n",
              "      <td>Torgersen</td>\n",
              "    </tr>\n",
              "  </tbody>\n",
              "</table>\n",
              "</div>"
            ],
            "text/plain": [
              "   Region     Island\n",
              "0  Anvers  Torgersen\n",
              "1  Anvers  Torgersen\n",
              "2  Anvers  Torgersen\n",
              "3  Anvers  Torgersen\n",
              "4  Anvers  Torgersen"
            ]
          },
          "execution_count": 177,
          "metadata": {},
          "output_type": "execute_result"
        }
      ],
      "source": [
        "penguin_dataset1.loc[0:4, ['Region', 'Island']]"
      ]
    },
    {
      "cell_type": "code",
      "execution_count": null,
      "metadata": {
        "id": "93oDDfaHAxvc",
        "outputId": "be6a3c04-2d4a-4fc7-dfa8-bafb0a9175df"
      },
      "outputs": [
        {
          "data": {
            "text/html": [
              "<div>\n",
              "<style scoped>\n",
              "    .dataframe tbody tr th:only-of-type {\n",
              "        vertical-align: middle;\n",
              "    }\n",
              "\n",
              "    .dataframe tbody tr th {\n",
              "        vertical-align: top;\n",
              "    }\n",
              "\n",
              "    .dataframe thead th {\n",
              "        text-align: right;\n",
              "    }\n",
              "</style>\n",
              "<table border=\"1\" class=\"dataframe\">\n",
              "  <thead>\n",
              "    <tr style=\"text-align: right;\">\n",
              "      <th></th>\n",
              "      <th>Culmen Length (mm)</th>\n",
              "    </tr>\n",
              "  </thead>\n",
              "  <tbody>\n",
              "    <tr>\n",
              "      <th>5</th>\n",
              "      <td>39.3</td>\n",
              "    </tr>\n",
              "    <tr>\n",
              "      <th>9</th>\n",
              "      <td>42.0</td>\n",
              "    </tr>\n",
              "    <tr>\n",
              "      <th>13</th>\n",
              "      <td>38.6</td>\n",
              "    </tr>\n",
              "    <tr>\n",
              "      <th>14</th>\n",
              "      <td>34.6</td>\n",
              "    </tr>\n",
              "    <tr>\n",
              "      <th>17</th>\n",
              "      <td>42.5</td>\n",
              "    </tr>\n",
              "    <tr>\n",
              "      <th>19</th>\n",
              "      <td>46.0</td>\n",
              "    </tr>\n",
              "    <tr>\n",
              "      <th>35</th>\n",
              "      <td>39.2</td>\n",
              "    </tr>\n",
              "    <tr>\n",
              "      <th>49</th>\n",
              "      <td>42.3</td>\n",
              "    </tr>\n",
              "    <tr>\n",
              "      <th>61</th>\n",
              "      <td>41.3</td>\n",
              "    </tr>\n",
              "    <tr>\n",
              "      <th>85</th>\n",
              "      <td>41.3</td>\n",
              "    </tr>\n",
              "    <tr>\n",
              "      <th>111</th>\n",
              "      <td>45.6</td>\n",
              "    </tr>\n",
              "    <tr>\n",
              "      <th>114</th>\n",
              "      <td>39.6</td>\n",
              "    </tr>\n",
              "    <tr>\n",
              "      <th>117</th>\n",
              "      <td>37.3</td>\n",
              "    </tr>\n",
              "    <tr>\n",
              "      <th>137</th>\n",
              "      <td>40.2</td>\n",
              "    </tr>\n",
              "    <tr>\n",
              "      <th>163</th>\n",
              "      <td>51.7</td>\n",
              "    </tr>\n",
              "    <tr>\n",
              "      <th>183</th>\n",
              "      <td>54.2</td>\n",
              "    </tr>\n",
              "    <tr>\n",
              "      <th>189</th>\n",
              "      <td>52.0</td>\n",
              "    </tr>\n",
              "  </tbody>\n",
              "</table>\n",
              "</div>"
            ],
            "text/plain": [
              "     Culmen Length (mm)\n",
              "5                  39.3\n",
              "9                  42.0\n",
              "13                 38.6\n",
              "14                 34.6\n",
              "17                 42.5\n",
              "19                 46.0\n",
              "35                 39.2\n",
              "49                 42.3\n",
              "61                 41.3\n",
              "85                 41.3\n",
              "111                45.6\n",
              "114                39.6\n",
              "117                37.3\n",
              "137                40.2\n",
              "163                51.7\n",
              "183                54.2\n",
              "189                52.0"
            ]
          },
          "execution_count": 184,
          "metadata": {},
          "output_type": "execute_result"
        }
      ],
      "source": [
        "penguin_dataset1.loc[penguin_dataset1['Culmen Depth (mm)'] > 20][[\"Culmen Length (mm)\"]]"
      ]
    },
    {
      "cell_type": "code",
      "execution_count": null,
      "metadata": {
        "id": "6kXORtbXHpnW",
        "outputId": "8c329ade-d706-437a-c877-1cd1ffb33caa",
        "tags": []
      },
      "outputs": [
        {
          "data": {
            "text/html": [
              "<div>\n",
              "<style scoped>\n",
              "    .dataframe tbody tr th:only-of-type {\n",
              "        vertical-align: middle;\n",
              "    }\n",
              "\n",
              "    .dataframe tbody tr th {\n",
              "        vertical-align: top;\n",
              "    }\n",
              "\n",
              "    .dataframe thead th {\n",
              "        text-align: right;\n",
              "    }\n",
              "</style>\n",
              "<table border=\"1\" class=\"dataframe\">\n",
              "  <thead>\n",
              "    <tr style=\"text-align: right;\">\n",
              "      <th></th>\n",
              "      <th>Species</th>\n",
              "      <th>Stage</th>\n",
              "      <th>Clutch Completion</th>\n",
              "      <th>Culmen Length (mm)</th>\n",
              "      <th>Culmen Depth (mm)</th>\n",
              "      <th>Flipper Length (mm)</th>\n",
              "      <th>Body Mass (g)</th>\n",
              "      <th>Sex</th>\n",
              "      <th>sample_id</th>\n",
              "      <th>Region</th>\n",
              "      <th>Island</th>\n",
              "    </tr>\n",
              "  </thead>\n",
              "  <tbody>\n",
              "    <tr>\n",
              "      <th>20</th>\n",
              "      <td>Adelie Penguin (Pygoscelis adeliae)</td>\n",
              "      <td>Adult, 1 Egg Stage</td>\n",
              "      <td>Yes</td>\n",
              "      <td>37.8</td>\n",
              "      <td>18.3</td>\n",
              "      <td>174.0</td>\n",
              "      <td>3400.0</td>\n",
              "      <td>FEMALE</td>\n",
              "      <td>21</td>\n",
              "      <td>Anvers</td>\n",
              "      <td>Biscoe</td>\n",
              "    </tr>\n",
              "    <tr>\n",
              "      <th>21</th>\n",
              "      <td>Adelie Penguin (Pygoscelis adeliae)</td>\n",
              "      <td>Adult, 1 Egg Stage</td>\n",
              "      <td>Yes</td>\n",
              "      <td>37.7</td>\n",
              "      <td>18.7</td>\n",
              "      <td>180.0</td>\n",
              "      <td>3600.0</td>\n",
              "      <td>MALE</td>\n",
              "      <td>22</td>\n",
              "      <td>Anvers</td>\n",
              "      <td>Biscoe</td>\n",
              "    </tr>\n",
              "    <tr>\n",
              "      <th>22</th>\n",
              "      <td>Adelie Penguin (Pygoscelis adeliae)</td>\n",
              "      <td>Adult, 1 Egg Stage</td>\n",
              "      <td>Yes</td>\n",
              "      <td>35.9</td>\n",
              "      <td>19.2</td>\n",
              "      <td>189.0</td>\n",
              "      <td>3800.0</td>\n",
              "      <td>FEMALE</td>\n",
              "      <td>23</td>\n",
              "      <td>Anvers</td>\n",
              "      <td>Biscoe</td>\n",
              "    </tr>\n",
              "    <tr>\n",
              "      <th>23</th>\n",
              "      <td>Adelie Penguin (Pygoscelis adeliae)</td>\n",
              "      <td>Adult, 1 Egg Stage</td>\n",
              "      <td>Yes</td>\n",
              "      <td>38.2</td>\n",
              "      <td>18.1</td>\n",
              "      <td>185.0</td>\n",
              "      <td>3950.0</td>\n",
              "      <td>MALE</td>\n",
              "      <td>24</td>\n",
              "      <td>Anvers</td>\n",
              "      <td>Biscoe</td>\n",
              "    </tr>\n",
              "    <tr>\n",
              "      <th>24</th>\n",
              "      <td>Adelie Penguin (Pygoscelis adeliae)</td>\n",
              "      <td>Adult, 1 Egg Stage</td>\n",
              "      <td>Yes</td>\n",
              "      <td>38.8</td>\n",
              "      <td>17.2</td>\n",
              "      <td>180.0</td>\n",
              "      <td>3800.0</td>\n",
              "      <td>MALE</td>\n",
              "      <td>25</td>\n",
              "      <td>Anvers</td>\n",
              "      <td>Biscoe</td>\n",
              "    </tr>\n",
              "    <tr>\n",
              "      <th>...</th>\n",
              "      <td>...</td>\n",
              "      <td>...</td>\n",
              "      <td>...</td>\n",
              "      <td>...</td>\n",
              "      <td>...</td>\n",
              "      <td>...</td>\n",
              "      <td>...</td>\n",
              "      <td>...</td>\n",
              "      <td>...</td>\n",
              "      <td>...</td>\n",
              "      <td>...</td>\n",
              "    </tr>\n",
              "    <tr>\n",
              "      <th>339</th>\n",
              "      <td>Gentoo penguin (Pygoscelis papua)</td>\n",
              "      <td>Adult, 1 Egg Stage</td>\n",
              "      <td>No</td>\n",
              "      <td>NaN</td>\n",
              "      <td>NaN</td>\n",
              "      <td>NaN</td>\n",
              "      <td>NaN</td>\n",
              "      <td>NaN</td>\n",
              "      <td>340</td>\n",
              "      <td>Anvers</td>\n",
              "      <td>Biscoe</td>\n",
              "    </tr>\n",
              "    <tr>\n",
              "      <th>340</th>\n",
              "      <td>Gentoo penguin (Pygoscelis papua)</td>\n",
              "      <td>Adult, 1 Egg Stage</td>\n",
              "      <td>Yes</td>\n",
              "      <td>46.8</td>\n",
              "      <td>14.3</td>\n",
              "      <td>215.0</td>\n",
              "      <td>4850.0</td>\n",
              "      <td>FEMALE</td>\n",
              "      <td>341</td>\n",
              "      <td>Anvers</td>\n",
              "      <td>Biscoe</td>\n",
              "    </tr>\n",
              "    <tr>\n",
              "      <th>341</th>\n",
              "      <td>Gentoo penguin (Pygoscelis papua)</td>\n",
              "      <td>Adult, 1 Egg Stage</td>\n",
              "      <td>Yes</td>\n",
              "      <td>50.4</td>\n",
              "      <td>15.7</td>\n",
              "      <td>222.0</td>\n",
              "      <td>5750.0</td>\n",
              "      <td>MALE</td>\n",
              "      <td>342</td>\n",
              "      <td>Anvers</td>\n",
              "      <td>Biscoe</td>\n",
              "    </tr>\n",
              "    <tr>\n",
              "      <th>342</th>\n",
              "      <td>Gentoo penguin (Pygoscelis papua)</td>\n",
              "      <td>Adult, 1 Egg Stage</td>\n",
              "      <td>Yes</td>\n",
              "      <td>45.2</td>\n",
              "      <td>14.8</td>\n",
              "      <td>212.0</td>\n",
              "      <td>5200.0</td>\n",
              "      <td>FEMALE</td>\n",
              "      <td>343</td>\n",
              "      <td>Anvers</td>\n",
              "      <td>Biscoe</td>\n",
              "    </tr>\n",
              "    <tr>\n",
              "      <th>343</th>\n",
              "      <td>Gentoo penguin (Pygoscelis papua)</td>\n",
              "      <td>Adult, 1 Egg Stage</td>\n",
              "      <td>Yes</td>\n",
              "      <td>49.9</td>\n",
              "      <td>16.1</td>\n",
              "      <td>213.0</td>\n",
              "      <td>5400.0</td>\n",
              "      <td>MALE</td>\n",
              "      <td>344</td>\n",
              "      <td>Anvers</td>\n",
              "      <td>Biscoe</td>\n",
              "    </tr>\n",
              "  </tbody>\n",
              "</table>\n",
              "<p>168 rows × 11 columns</p>\n",
              "</div>"
            ],
            "text/plain": [
              "                                 Species               Stage  \\\n",
              "20   Adelie Penguin (Pygoscelis adeliae)  Adult, 1 Egg Stage   \n",
              "21   Adelie Penguin (Pygoscelis adeliae)  Adult, 1 Egg Stage   \n",
              "22   Adelie Penguin (Pygoscelis adeliae)  Adult, 1 Egg Stage   \n",
              "23   Adelie Penguin (Pygoscelis adeliae)  Adult, 1 Egg Stage   \n",
              "24   Adelie Penguin (Pygoscelis adeliae)  Adult, 1 Egg Stage   \n",
              "..                                   ...                 ...   \n",
              "339    Gentoo penguin (Pygoscelis papua)  Adult, 1 Egg Stage   \n",
              "340    Gentoo penguin (Pygoscelis papua)  Adult, 1 Egg Stage   \n",
              "341    Gentoo penguin (Pygoscelis papua)  Adult, 1 Egg Stage   \n",
              "342    Gentoo penguin (Pygoscelis papua)  Adult, 1 Egg Stage   \n",
              "343    Gentoo penguin (Pygoscelis papua)  Adult, 1 Egg Stage   \n",
              "\n",
              "    Clutch Completion  Culmen Length (mm)  Culmen Depth (mm)  \\\n",
              "20                Yes                37.8               18.3   \n",
              "21                Yes                37.7               18.7   \n",
              "22                Yes                35.9               19.2   \n",
              "23                Yes                38.2               18.1   \n",
              "24                Yes                38.8               17.2   \n",
              "..                ...                 ...                ...   \n",
              "339                No                 NaN                NaN   \n",
              "340               Yes                46.8               14.3   \n",
              "341               Yes                50.4               15.7   \n",
              "342               Yes                45.2               14.8   \n",
              "343               Yes                49.9               16.1   \n",
              "\n",
              "     Flipper Length (mm)  Body Mass (g)     Sex  sample_id  Region  Island  \n",
              "20                 174.0         3400.0  FEMALE         21  Anvers  Biscoe  \n",
              "21                 180.0         3600.0    MALE         22  Anvers  Biscoe  \n",
              "22                 189.0         3800.0  FEMALE         23  Anvers  Biscoe  \n",
              "23                 185.0         3950.0    MALE         24  Anvers  Biscoe  \n",
              "24                 180.0         3800.0    MALE         25  Anvers  Biscoe  \n",
              "..                   ...            ...     ...        ...     ...     ...  \n",
              "339                  NaN            NaN     NaN        340  Anvers  Biscoe  \n",
              "340                215.0         4850.0  FEMALE        341  Anvers  Biscoe  \n",
              "341                222.0         5750.0    MALE        342  Anvers  Biscoe  \n",
              "342                212.0         5200.0  FEMALE        343  Anvers  Biscoe  \n",
              "343                213.0         5400.0    MALE        344  Anvers  Biscoe  \n",
              "\n",
              "[168 rows x 11 columns]"
            ]
          },
          "execution_count": 185,
          "metadata": {},
          "output_type": "execute_result"
        }
      ],
      "source": [
        "penguin_dataset1.loc[penguin_dataset1['Island'] == 'Biscoe']"
      ]
    },
    {
      "cell_type": "code",
      "execution_count": null,
      "metadata": {
        "id": "ZpPf4wjbHpnW",
        "outputId": "643d6fa2-fd1c-4d75-ff99-fed7a073ba51",
        "tags": []
      },
      "outputs": [
        {
          "data": {
            "text/html": [
              "<div>\n",
              "<style scoped>\n",
              "    .dataframe tbody tr th:only-of-type {\n",
              "        vertical-align: middle;\n",
              "    }\n",
              "\n",
              "    .dataframe tbody tr th {\n",
              "        vertical-align: top;\n",
              "    }\n",
              "\n",
              "    .dataframe thead th {\n",
              "        text-align: right;\n",
              "    }\n",
              "</style>\n",
              "<table border=\"1\" class=\"dataframe\">\n",
              "  <thead>\n",
              "    <tr style=\"text-align: right;\">\n",
              "      <th></th>\n",
              "      <th>Species</th>\n",
              "      <th>Stage</th>\n",
              "      <th>Clutch_comp</th>\n",
              "      <th>Culmen_lenght_mm</th>\n",
              "      <th>Culmen_depth_mm</th>\n",
              "      <th>Flipper_length_mm</th>\n",
              "      <th>Body_mass_g</th>\n",
              "      <th>Sex</th>\n",
              "      <th>sample_id</th>\n",
              "      <th>Region</th>\n",
              "      <th>Island</th>\n",
              "    </tr>\n",
              "  </thead>\n",
              "  <tbody>\n",
              "    <tr>\n",
              "      <th>24</th>\n",
              "      <td>Adelie Penguin (Pygoscelis adeliae)</td>\n",
              "      <td>Adult, 1 Egg Stage</td>\n",
              "      <td>Yes</td>\n",
              "      <td>38.8</td>\n",
              "      <td>17.2</td>\n",
              "      <td>180.0</td>\n",
              "      <td>3800.0</td>\n",
              "      <td>MALE</td>\n",
              "      <td>25</td>\n",
              "      <td>Anvers</td>\n",
              "      <td>Biscoe</td>\n",
              "    </tr>\n",
              "    <tr>\n",
              "      <th>36</th>\n",
              "      <td>Adelie Penguin (Pygoscelis adeliae)</td>\n",
              "      <td>Adult, 1 Egg Stage</td>\n",
              "      <td>Yes</td>\n",
              "      <td>38.8</td>\n",
              "      <td>20.0</td>\n",
              "      <td>190.0</td>\n",
              "      <td>3950.0</td>\n",
              "      <td>MALE</td>\n",
              "      <td>37</td>\n",
              "      <td>Anvers</td>\n",
              "      <td>Dream</td>\n",
              "    </tr>\n",
              "    <tr>\n",
              "      <th>126</th>\n",
              "      <td>Adelie Penguin (Pygoscelis adeliae)</td>\n",
              "      <td>Adult, 1 Egg Stage</td>\n",
              "      <td>Yes</td>\n",
              "      <td>38.8</td>\n",
              "      <td>17.6</td>\n",
              "      <td>191.0</td>\n",
              "      <td>3275.0</td>\n",
              "      <td>FEMALE</td>\n",
              "      <td>127</td>\n",
              "      <td>Anvers</td>\n",
              "      <td>Torgersen</td>\n",
              "    </tr>\n",
              "  </tbody>\n",
              "</table>\n",
              "</div>"
            ],
            "text/plain": [
              "                                 Species               Stage Clutch_comp  \\\n",
              "24   Adelie Penguin (Pygoscelis adeliae)  Adult, 1 Egg Stage         Yes   \n",
              "36   Adelie Penguin (Pygoscelis adeliae)  Adult, 1 Egg Stage         Yes   \n",
              "126  Adelie Penguin (Pygoscelis adeliae)  Adult, 1 Egg Stage         Yes   \n",
              "\n",
              "     Culmen_lenght_mm  Culmen_depth_mm  Flipper_length_mm  Body_mass_g  \\\n",
              "24               38.8             17.2              180.0       3800.0   \n",
              "36               38.8             20.0              190.0       3950.0   \n",
              "126              38.8             17.6              191.0       3275.0   \n",
              "\n",
              "        Sex  sample_id  Region     Island  \n",
              "24     MALE         25  Anvers     Biscoe  \n",
              "36     MALE         37  Anvers      Dream  \n",
              "126  FEMALE        127  Anvers  Torgersen  "
            ]
          },
          "execution_count": 188,
          "metadata": {},
          "output_type": "execute_result"
        }
      ],
      "source": [
        "penguin_dataset[penguin_dataset['Culmen_lenght_mm'] == 38.8]"
      ]
    },
    {
      "cell_type": "code",
      "execution_count": null,
      "metadata": {
        "id": "VbN6bXhCHpnX",
        "tags": []
      },
      "outputs": [],
      "source": [
        "# Veri Sıralama:"
      ]
    },
    {
      "cell_type": "code",
      "execution_count": null,
      "metadata": {
        "id": "wCUk60ZwHpnX",
        "outputId": "7a77c9a6-5c94-4107-eb80-aa6b9b71f904",
        "tags": []
      },
      "outputs": [
        {
          "data": {
            "text/plain": [
              "0    32.1\n",
              "1    33.1\n",
              "2    33.5\n",
              "3    34.0\n",
              "4    34.1\n",
              "5    34.4\n",
              "6    34.5\n",
              "7    34.6\n",
              "8    34.6\n",
              "9    35.0\n",
              "Name: Culmen_lenght_mm, dtype: float64"
            ]
          },
          "execution_count": 193,
          "metadata": {},
          "output_type": "execute_result"
        }
      ],
      "source": [
        "sorted_mass1 = penguin_dataset['Culmen_lenght_mm'].sort_values().reset_index(drop=True)\n",
        "\n",
        "sorted_mass1.head(10)"
      ]
    },
    {
      "cell_type": "code",
      "execution_count": null,
      "metadata": {
        "id": "58Go4GMHHpnX",
        "outputId": "b9bd04d0-04d6-4d2a-8612-67a41f477eea",
        "tags": []
      },
      "outputs": [
        {
          "data": {
            "text/html": [
              "<div>\n",
              "<style scoped>\n",
              "    .dataframe tbody tr th:only-of-type {\n",
              "        vertical-align: middle;\n",
              "    }\n",
              "\n",
              "    .dataframe tbody tr th {\n",
              "        vertical-align: top;\n",
              "    }\n",
              "\n",
              "    .dataframe thead th {\n",
              "        text-align: right;\n",
              "    }\n",
              "</style>\n",
              "<table border=\"1\" class=\"dataframe\">\n",
              "  <thead>\n",
              "    <tr style=\"text-align: right;\">\n",
              "      <th></th>\n",
              "      <th>Species</th>\n",
              "      <th>Stage</th>\n",
              "      <th>Clutch_comp</th>\n",
              "      <th>Culmen_lenght_mm</th>\n",
              "      <th>Culmen_depth_mm</th>\n",
              "      <th>Flipper_length_mm</th>\n",
              "      <th>Body_mass_g</th>\n",
              "      <th>Sex</th>\n",
              "      <th>sample_id</th>\n",
              "      <th>Region</th>\n",
              "      <th>Island</th>\n",
              "    </tr>\n",
              "  </thead>\n",
              "  <tbody>\n",
              "    <tr>\n",
              "      <th>337</th>\n",
              "      <td>Gentoo penguin (Pygoscelis papua)</td>\n",
              "      <td>Adult, 1 Egg Stage</td>\n",
              "      <td>Yes</td>\n",
              "      <td>48.8</td>\n",
              "      <td>16.2</td>\n",
              "      <td>222.0</td>\n",
              "      <td>6000.0</td>\n",
              "      <td>MALE</td>\n",
              "      <td>338</td>\n",
              "      <td>Anvers</td>\n",
              "      <td>Biscoe</td>\n",
              "    </tr>\n",
              "    <tr>\n",
              "      <th>253</th>\n",
              "      <td>Gentoo penguin (Pygoscelis papua)</td>\n",
              "      <td>Adult, 1 Egg Stage</td>\n",
              "      <td>Yes</td>\n",
              "      <td>59.6</td>\n",
              "      <td>17.0</td>\n",
              "      <td>230.0</td>\n",
              "      <td>6050.0</td>\n",
              "      <td>MALE</td>\n",
              "      <td>254</td>\n",
              "      <td>Anvers</td>\n",
              "      <td>Biscoe</td>\n",
              "    </tr>\n",
              "    <tr>\n",
              "      <th>237</th>\n",
              "      <td>Gentoo penguin (Pygoscelis papua)</td>\n",
              "      <td>Adult, 1 Egg Stage</td>\n",
              "      <td>Yes</td>\n",
              "      <td>49.2</td>\n",
              "      <td>15.2</td>\n",
              "      <td>221.0</td>\n",
              "      <td>6300.0</td>\n",
              "      <td>MALE</td>\n",
              "      <td>238</td>\n",
              "      <td>Anvers</td>\n",
              "      <td>Biscoe</td>\n",
              "    </tr>\n",
              "    <tr>\n",
              "      <th>3</th>\n",
              "      <td>Adelie Penguin (Pygoscelis adeliae)</td>\n",
              "      <td>Adult, 1 Egg Stage</td>\n",
              "      <td>Yes</td>\n",
              "      <td>NaN</td>\n",
              "      <td>NaN</td>\n",
              "      <td>NaN</td>\n",
              "      <td>NaN</td>\n",
              "      <td>NaN</td>\n",
              "      <td>4</td>\n",
              "      <td>Anvers</td>\n",
              "      <td>Torgersen</td>\n",
              "    </tr>\n",
              "    <tr>\n",
              "      <th>339</th>\n",
              "      <td>Gentoo penguin (Pygoscelis papua)</td>\n",
              "      <td>Adult, 1 Egg Stage</td>\n",
              "      <td>No</td>\n",
              "      <td>NaN</td>\n",
              "      <td>NaN</td>\n",
              "      <td>NaN</td>\n",
              "      <td>NaN</td>\n",
              "      <td>NaN</td>\n",
              "      <td>340</td>\n",
              "      <td>Anvers</td>\n",
              "      <td>Biscoe</td>\n",
              "    </tr>\n",
              "  </tbody>\n",
              "</table>\n",
              "</div>"
            ],
            "text/plain": [
              "                                 Species               Stage Clutch_comp  \\\n",
              "337    Gentoo penguin (Pygoscelis papua)  Adult, 1 Egg Stage         Yes   \n",
              "253    Gentoo penguin (Pygoscelis papua)  Adult, 1 Egg Stage         Yes   \n",
              "237    Gentoo penguin (Pygoscelis papua)  Adult, 1 Egg Stage         Yes   \n",
              "3    Adelie Penguin (Pygoscelis adeliae)  Adult, 1 Egg Stage         Yes   \n",
              "339    Gentoo penguin (Pygoscelis papua)  Adult, 1 Egg Stage          No   \n",
              "\n",
              "     Culmen_lenght_mm  Culmen_depth_mm  Flipper_length_mm  Body_mass_g   Sex  \\\n",
              "337              48.8             16.2              222.0       6000.0  MALE   \n",
              "253              59.6             17.0              230.0       6050.0  MALE   \n",
              "237              49.2             15.2              221.0       6300.0  MALE   \n",
              "3                 NaN              NaN                NaN          NaN   NaN   \n",
              "339               NaN              NaN                NaN          NaN   NaN   \n",
              "\n",
              "     sample_id  Region     Island  \n",
              "337        338  Anvers     Biscoe  \n",
              "253        254  Anvers     Biscoe  \n",
              "237        238  Anvers     Biscoe  \n",
              "3            4  Anvers  Torgersen  \n",
              "339        340  Anvers     Biscoe  "
            ]
          },
          "execution_count": 194,
          "metadata": {},
          "output_type": "execute_result"
        }
      ],
      "source": [
        "sorted_mass2 = penguin_dataset.sort_values('Body_mass_g')\n",
        "\n",
        "sorted_mass2.tail()"
      ]
    },
    {
      "cell_type": "markdown",
      "metadata": {
        "id": "L6p2USNYHpnY",
        "tags": []
      },
      "source": [
        "### Veri Gruplama:"
      ]
    },
    {
      "cell_type": "code",
      "execution_count": null,
      "metadata": {
        "id": "iStYBQVqAxve",
        "outputId": "6765e582-d34d-4c5e-e2d5-d53b64599bf4"
      },
      "outputs": [
        {
          "data": {
            "text/html": [
              "<div>\n",
              "<style scoped>\n",
              "    .dataframe tbody tr th:only-of-type {\n",
              "        vertical-align: middle;\n",
              "    }\n",
              "\n",
              "    .dataframe tbody tr th {\n",
              "        vertical-align: top;\n",
              "    }\n",
              "\n",
              "    .dataframe thead th {\n",
              "        text-align: right;\n",
              "    }\n",
              "</style>\n",
              "<table border=\"1\" class=\"dataframe\">\n",
              "  <thead>\n",
              "    <tr style=\"text-align: right;\">\n",
              "      <th></th>\n",
              "      <th>Culmen_lenght_mm</th>\n",
              "      <th>Culmen_depth_mm</th>\n",
              "      <th>Flipper_length_mm</th>\n",
              "      <th>Body_mass_g</th>\n",
              "      <th>sample_id</th>\n",
              "    </tr>\n",
              "    <tr>\n",
              "      <th>Species</th>\n",
              "      <th></th>\n",
              "      <th></th>\n",
              "      <th></th>\n",
              "      <th></th>\n",
              "      <th></th>\n",
              "    </tr>\n",
              "  </thead>\n",
              "  <tbody>\n",
              "    <tr>\n",
              "      <th>Adelie Penguin (Pygoscelis adeliae)</th>\n",
              "      <td>38.791391</td>\n",
              "      <td>18.346358</td>\n",
              "      <td>189.953642</td>\n",
              "      <td>3700.662252</td>\n",
              "      <td>76.5</td>\n",
              "    </tr>\n",
              "    <tr>\n",
              "      <th>Chinstrap penguin (Pygoscelis antarctica)</th>\n",
              "      <td>48.833824</td>\n",
              "      <td>18.420588</td>\n",
              "      <td>195.823529</td>\n",
              "      <td>3733.088235</td>\n",
              "      <td>186.5</td>\n",
              "    </tr>\n",
              "    <tr>\n",
              "      <th>Gentoo penguin (Pygoscelis papua)</th>\n",
              "      <td>47.504878</td>\n",
              "      <td>14.982114</td>\n",
              "      <td>217.186992</td>\n",
              "      <td>5076.016260</td>\n",
              "      <td>282.5</td>\n",
              "    </tr>\n",
              "  </tbody>\n",
              "</table>\n",
              "</div>"
            ],
            "text/plain": [
              "                                           Culmen_lenght_mm  Culmen_depth_mm  \\\n",
              "Species                                                                        \n",
              "Adelie Penguin (Pygoscelis adeliae)               38.791391        18.346358   \n",
              "Chinstrap penguin (Pygoscelis antarctica)         48.833824        18.420588   \n",
              "Gentoo penguin (Pygoscelis papua)                 47.504878        14.982114   \n",
              "\n",
              "                                           Flipper_length_mm  Body_mass_g  \\\n",
              "Species                                                                     \n",
              "Adelie Penguin (Pygoscelis adeliae)               189.953642  3700.662252   \n",
              "Chinstrap penguin (Pygoscelis antarctica)         195.823529  3733.088235   \n",
              "Gentoo penguin (Pygoscelis papua)                 217.186992  5076.016260   \n",
              "\n",
              "                                           sample_id  \n",
              "Species                                               \n",
              "Adelie Penguin (Pygoscelis adeliae)             76.5  \n",
              "Chinstrap penguin (Pygoscelis antarctica)      186.5  \n",
              "Gentoo penguin (Pygoscelis papua)              282.5  "
            ]
          },
          "execution_count": 196,
          "metadata": {},
          "output_type": "execute_result"
        }
      ],
      "source": [
        "penguin_dataset.groupby(\"Species\").mean()"
      ]
    },
    {
      "cell_type": "code",
      "execution_count": null,
      "metadata": {
        "id": "3wFGKamiAxve",
        "outputId": "6fcb46da-96d6-4999-ea6d-bfffd766136b"
      },
      "outputs": [
        {
          "data": {
            "text/plain": [
              "Species\n",
              "Adelie Penguin (Pygoscelis adeliae)          3700.662252\n",
              "Chinstrap penguin (Pygoscelis antarctica)    3733.088235\n",
              "Gentoo penguin (Pygoscelis papua)            5076.016260\n",
              "Name: Body_mass_g, dtype: float64"
            ]
          },
          "execution_count": 197,
          "metadata": {},
          "output_type": "execute_result"
        }
      ],
      "source": [
        "penguin_dataset.groupby(\"Species\")[\"Body_mass_g\"].mean()"
      ]
    },
    {
      "cell_type": "code",
      "execution_count": null,
      "metadata": {
        "id": "yzPI-cwfHpnY",
        "outputId": "a4a042e2-e22b-4e29-95ff-020bc45d8c74",
        "tags": []
      },
      "outputs": [
        {
          "data": {
            "text/html": [
              "<div>\n",
              "<style scoped>\n",
              "    .dataframe tbody tr th:only-of-type {\n",
              "        vertical-align: middle;\n",
              "    }\n",
              "\n",
              "    .dataframe tbody tr th {\n",
              "        vertical-align: top;\n",
              "    }\n",
              "\n",
              "    .dataframe thead th {\n",
              "        text-align: right;\n",
              "    }\n",
              "</style>\n",
              "<table border=\"1\" class=\"dataframe\">\n",
              "  <thead>\n",
              "    <tr style=\"text-align: right;\">\n",
              "      <th></th>\n",
              "      <th>Species</th>\n",
              "      <th>Body_mass_g</th>\n",
              "    </tr>\n",
              "  </thead>\n",
              "  <tbody>\n",
              "    <tr>\n",
              "      <th>0</th>\n",
              "      <td>Adelie Penguin (Pygoscelis adeliae)</td>\n",
              "      <td>3700.662252</td>\n",
              "    </tr>\n",
              "    <tr>\n",
              "      <th>1</th>\n",
              "      <td>Chinstrap penguin (Pygoscelis antarctica)</td>\n",
              "      <td>3733.088235</td>\n",
              "    </tr>\n",
              "    <tr>\n",
              "      <th>2</th>\n",
              "      <td>Gentoo penguin (Pygoscelis papua)</td>\n",
              "      <td>5076.016260</td>\n",
              "    </tr>\n",
              "  </tbody>\n",
              "</table>\n",
              "</div>"
            ],
            "text/plain": [
              "                                     Species  Body_mass_g\n",
              "0        Adelie Penguin (Pygoscelis adeliae)  3700.662252\n",
              "1  Chinstrap penguin (Pygoscelis antarctica)  3733.088235\n",
              "2          Gentoo penguin (Pygoscelis papua)  5076.016260"
            ]
          },
          "execution_count": 199,
          "metadata": {},
          "output_type": "execute_result"
        }
      ],
      "source": [
        "penguin_dataset.groupby('Species',as_index=False)['Body_mass_g'].mean()"
      ]
    },
    {
      "cell_type": "code",
      "execution_count": null,
      "metadata": {
        "id": "RgbJb3oYHpnY",
        "tags": []
      },
      "outputs": [],
      "source": [
        "Species_group = penguin_dataset.groupby('Species', as_index=False).count()\n",
        "Species_group"
      ]
    },
    {
      "cell_type": "code",
      "execution_count": null,
      "metadata": {
        "id": "lJiJARPnHpnY",
        "tags": []
      },
      "outputs": [],
      "source": [
        "Species_group=penguin_dataset.groupby(['Species'])['Species'].count().reset_index(name='count')\n",
        "#pd.set_option('display.max_rows', 100)\n",
        "Species_group"
      ]
    },
    {
      "cell_type": "code",
      "execution_count": null,
      "metadata": {
        "id": "4f35LXP8HpnZ",
        "tags": []
      },
      "outputs": [],
      "source": [
        "multi_group= penguin_dataset.groupby(['Species', 'Island'])['Species'].count().reset_index(name='count')\n",
        "multi_group"
      ]
    },
    {
      "cell_type": "code",
      "execution_count": null,
      "metadata": {
        "id": "KAgD_h10HpnZ",
        "tags": []
      },
      "outputs": [],
      "source": [
        "# verisetinin detaylarını inceleme:"
      ]
    },
    {
      "cell_type": "code",
      "execution_count": null,
      "metadata": {
        "id": "sjZsmRVtHpnZ",
        "tags": []
      },
      "outputs": [],
      "source": [
        "penguin_dataset['Culmen_lenght_mm'].min()"
      ]
    },
    {
      "cell_type": "code",
      "execution_count": null,
      "metadata": {
        "id": "DukyVaonHpnZ",
        "tags": []
      },
      "outputs": [],
      "source": [
        "min_culmen_length = penguin_dataset['Culmen_lenght_mm'].min()\n",
        "\n",
        "min_culmen_length"
      ]
    },
    {
      "cell_type": "code",
      "execution_count": null,
      "metadata": {
        "id": "jPfU_ZRPHpnZ",
        "tags": []
      },
      "outputs": [],
      "source": [
        "max_culmen_length  = penguin_dataset['Culmen_lenght_mm'].max()\n",
        "\n",
        "max_culmen_length"
      ]
    },
    {
      "cell_type": "code",
      "execution_count": null,
      "metadata": {
        "id": "OVQ-GP79HpnZ",
        "tags": []
      },
      "outputs": [],
      "source": [
        "range_of_culmen_length  = max_culmen_length - min_culmen_length\n",
        "\n",
        "range_of_culmen_length"
      ]
    },
    {
      "cell_type": "code",
      "execution_count": null,
      "metadata": {
        "id": "h9GWJpTpHpnZ",
        "tags": []
      },
      "outputs": [],
      "source": [
        "q1_culmen_length = penguin_dataset['Culmen_lenght_mm'].quantile(.25)\n",
        "\n",
        "q1_culmen_length"
      ]
    },
    {
      "cell_type": "code",
      "execution_count": null,
      "metadata": {
        "id": "RLttYUc_HpnZ",
        "tags": []
      },
      "outputs": [],
      "source": [
        "q3_culmen_length = penguin_dataset['Culmen_lenght_mm'].quantile(.75)\n",
        "\n",
        "q3_culmen_length"
      ]
    },
    {
      "cell_type": "code",
      "execution_count": null,
      "metadata": {
        "id": "2mdBXh_fHpna",
        "tags": []
      },
      "outputs": [],
      "source": [
        "Culmen_lenght_mean = penguin_dataset['Culmen_lenght_mm'].mean()\n",
        "\n",
        "Culmen_lenght_mean"
      ]
    },
    {
      "cell_type": "code",
      "execution_count": null,
      "metadata": {
        "id": "lE5x6-lfHpna",
        "tags": []
      },
      "outputs": [],
      "source": [
        "Culmen_lenght_median = penguin_dataset['Culmen_lenght_mm'].median()\n",
        "\n",
        "Culmen_lenght_median"
      ]
    },
    {
      "cell_type": "code",
      "execution_count": null,
      "metadata": {
        "id": "Kf1EBaW0Hpna",
        "tags": []
      },
      "outputs": [],
      "source": [
        "#Summary Statistics"
      ]
    },
    {
      "cell_type": "code",
      "execution_count": null,
      "metadata": {
        "id": "NbT0VqmKHpna",
        "tags": []
      },
      "outputs": [],
      "source": [
        "penguin_dataset.describe()"
      ]
    },
    {
      "cell_type": "markdown",
      "metadata": {
        "id": "XkdBOhKjHpna",
        "tags": []
      },
      "source": [
        "### Değişken İçeriği Değiştirme:"
      ]
    },
    {
      "cell_type": "code",
      "execution_count": null,
      "metadata": {
        "id": "AsrctWY1Hpna",
        "tags": []
      },
      "outputs": [],
      "source": [
        "penguin_dataset['Clutch_comp']=penguin_dataset['Clutch_comp'].str.replace('Yes', 'Y')"
      ]
    },
    {
      "cell_type": "code",
      "execution_count": null,
      "metadata": {
        "id": "qRaxTUHHHpna",
        "tags": []
      },
      "outputs": [],
      "source": [
        "penguin_dataset['Clutch_comp']=penguin_dataset['Clutch_comp'].str.replace('No', 'N')"
      ]
    },
    {
      "cell_type": "code",
      "execution_count": null,
      "metadata": {
        "id": "lufsqjWUHpnb",
        "tags": []
      },
      "outputs": [],
      "source": [
        "Clutch_comp_group=penguin_dataset.groupby(['Clutch_comp'])['Clutch_comp'].count().reset_index(name='count')\n",
        "Clutch_comp_group"
      ]
    },
    {
      "cell_type": "code",
      "execution_count": null,
      "metadata": {
        "id": "9tpT_ouxHpnb",
        "tags": []
      },
      "outputs": [],
      "source": [
        "penguin_dataset['Sex'] = penguin_dataset['Sex'].map({'MALE': 0, 'FEMALE': 1})\n",
        "penguin_dataset.head(15)"
      ]
    },
    {
      "cell_type": "code",
      "execution_count": null,
      "metadata": {
        "id": "GhAlyJ4iHpnb",
        "tags": []
      },
      "outputs": [],
      "source": [
        "penguin_dataset.info()"
      ]
    },
    {
      "cell_type": "markdown",
      "metadata": {
        "id": "uAQ7n_bWHpnb",
        "tags": []
      },
      "source": [
        "### Değişken Türü Değiştirme"
      ]
    },
    {
      "cell_type": "code",
      "execution_count": null,
      "metadata": {
        "id": "31kA2nHtHpnb",
        "tags": []
      },
      "outputs": [],
      "source": [
        "penguin_dataset['Sex'] = penguin_dataset.Sex.astype('str')"
      ]
    },
    {
      "cell_type": "code",
      "execution_count": null,
      "metadata": {
        "id": "bxrDOYHIHpnb",
        "tags": []
      },
      "outputs": [],
      "source": [
        "penguin_dataset['Sex'].dtypes"
      ]
    },
    {
      "cell_type": "code",
      "execution_count": null,
      "metadata": {
        "id": "ut0fqYK_Hpnb",
        "tags": []
      },
      "outputs": [],
      "source": [
        "penguin_dataset.info()"
      ]
    },
    {
      "cell_type": "markdown",
      "metadata": {
        "id": "CdzpEJLWHpnb",
        "tags": []
      },
      "source": [
        "### yeni değişken oluşturma"
      ]
    },
    {
      "cell_type": "code",
      "execution_count": null,
      "metadata": {
        "id": "2aLk9av0Hpnb",
        "tags": []
      },
      "outputs": [],
      "source": [
        "# Body index for Penguines (Hayali)"
      ]
    },
    {
      "cell_type": "code",
      "execution_count": null,
      "metadata": {
        "id": "Ad5Ka8YTHpnb",
        "tags": []
      },
      "outputs": [],
      "source": [
        "penguin_dataset['body_index'] = (((penguin_dataset['Culmen_lenght_mm_v1']*penguin_dataset['Culmen_depth_mm_v1'])*penguin_dataset['Flipper_length_mm_v1'])\n",
        "                                  /penguin_dataset['Body_mass_g_v1']).astype(int)\n",
        "\n",
        "penguin_dataset.sample(5)"
      ]
    },
    {
      "cell_type": "markdown",
      "metadata": {
        "id": "mbxpbTszHpnb",
        "tags": []
      },
      "source": [
        "### applying function"
      ]
    },
    {
      "cell_type": "code",
      "execution_count": null,
      "metadata": {
        "id": "JaSok74EHpnb",
        "tags": []
      },
      "outputs": [],
      "source": [
        "penguin_dataset['health']=penguin_dataset['body_index'].apply(lambda x: 'Healthy' if x>30 else 'Need_care')"
      ]
    },
    {
      "cell_type": "code",
      "execution_count": null,
      "metadata": {
        "id": "lOSIjttAHpnc",
        "tags": []
      },
      "outputs": [],
      "source": [
        "penguin_dataset"
      ]
    },
    {
      "cell_type": "code",
      "execution_count": null,
      "metadata": {
        "id": "vDg0w-F2Hpnc",
        "tags": []
      },
      "outputs": [],
      "source": [
        "health_group=penguin_dataset.groupby(['health'])['health'].count().reset_index(name='count')\n",
        "health_group"
      ]
    },
    {
      "cell_type": "code",
      "execution_count": null,
      "metadata": {
        "id": "CiPEWalQHpnc",
        "tags": []
      },
      "outputs": [],
      "source": [
        "# PANDAS + NUMPY Birlikte Kullanımı ile Veri Düzenleme:"
      ]
    },
    {
      "cell_type": "code",
      "execution_count": null,
      "metadata": {
        "id": "gaIzu8PmHpnc",
        "tags": []
      },
      "outputs": [],
      "source": [
        "penguin_dataset['Overweight_flag'] = np.where((penguin_dataset['Body_mass_g_v1'])>450, 1, 0)"
      ]
    },
    {
      "cell_type": "code",
      "execution_count": null,
      "metadata": {
        "id": "6CAbNNoiHpnc",
        "tags": []
      },
      "outputs": [],
      "source": [
        "#Alternatif: penguin_dataset['Overweight_flag']  = [1 if x> 450 else 0 for x in penguin_dataset.Body_mass_g_v1]"
      ]
    },
    {
      "cell_type": "code",
      "execution_count": null,
      "metadata": {
        "id": "0Rk4iYuhHpnd",
        "tags": []
      },
      "outputs": [],
      "source": [
        "penguin_dataset.info()"
      ]
    },
    {
      "cell_type": "code",
      "execution_count": null,
      "metadata": {
        "id": "YgGnEc_iHpnd",
        "scrolled": true,
        "tags": []
      },
      "outputs": [],
      "source": [
        "penguin_dataset.head(3)"
      ]
    },
    {
      "cell_type": "markdown",
      "metadata": {
        "id": "xAPHpq3jHpnd"
      },
      "source": [
        "## Farklı Veri kaynaklarını çağırma"
      ]
    },
    {
      "cell_type": "markdown",
      "metadata": {
        "id": "E2o5YtalHpnd"
      },
      "source": [
        "pandas ile birçok veri kaynağına farklı metotlarla veri yazmak münkündür:\n",
        "    - pd.read_excel\n",
        "    - pd.read_csv\n",
        "    - pd.read_sql\n"
      ]
    },
    {
      "cell_type": "code",
      "execution_count": null,
      "metadata": {
        "id": "hZK8veQvHpnd",
        "tags": []
      },
      "outputs": [],
      "source": [
        "penguin_dataset.to_csv('penguins_preprocessed.csv', sep=',', index=False)"
      ]
    },
    {
      "cell_type": "code",
      "execution_count": null,
      "metadata": {
        "id": "4s7q_hJ5Hpnd",
        "tags": []
      },
      "outputs": [],
      "source": [
        "help(pd.Series.loc)"
      ]
    },
    {
      "cell_type": "code",
      "execution_count": null,
      "metadata": {
        "id": "M7B9QzcyHpnd",
        "tags": []
      },
      "outputs": [],
      "source": [
        "penguin_dataset.memory_usage()"
      ]
    },
    {
      "cell_type": "code",
      "execution_count": null,
      "metadata": {
        "id": "BuBkbFpTHpnd",
        "tags": []
      },
      "outputs": [],
      "source": [
        "#Önemli not, veriyi doğrudan çalıştırma, çok büyükse çalışman zarar görebilir !!!\n",
        "#penguin_dataset"
      ]
    },
    {
      "cell_type": "markdown",
      "metadata": {
        "id": "IZElhcwOHpne"
      },
      "source": [
        "## Tarihsel İşlemler"
      ]
    },
    {
      "cell_type": "code",
      "execution_count": null,
      "metadata": {
        "id": "H8Eew93hHpne"
      },
      "outputs": [],
      "source": [
        "#Başımıza bela olan tarih formatlarını inceleyelim:"
      ]
    },
    {
      "cell_type": "code",
      "execution_count": null,
      "metadata": {
        "id": "8mm6d2l_Hpne",
        "tags": []
      },
      "outputs": [],
      "source": [
        "print(pd.Timestamp.now())\n",
        "print(pd.Timestamp.now().date())\n",
        "print(pd.Timestamp.now().year)\n",
        "print(pd.Timestamp.now().month)\n",
        "print(pd.Timestamp.now().day)\n",
        "print(pd.Timestamp.now().hour)\n",
        "print(pd.Timestamp.now().minute)\n",
        "print(pd.Timestamp.now().second)\n",
        "print(pd.Timestamp.now().microsecond)"
      ]
    },
    {
      "cell_type": "code",
      "execution_count": null,
      "metadata": {
        "id": "AJVNWuWcHpne",
        "tags": []
      },
      "outputs": [],
      "source": [
        "# Import date\n",
        "from datetime import datetime"
      ]
    },
    {
      "cell_type": "code",
      "execution_count": null,
      "metadata": {
        "id": "zMvYzIqRHpne",
        "tags": []
      },
      "outputs": [],
      "source": [
        "# generate datetime data\n",
        "\n",
        "df = pd.DataFrame({\n",
        "    'name': ['alice','bob','charlie', 'david', 'mark', 'Judy'],\n",
        "    'date_of_birth': ['10/15/1980','10/29/1988','09/18/1993', '01/11/1990', '07/06/1982', '03/06/1998']\n",
        "})"
      ]
    },
    {
      "cell_type": "code",
      "execution_count": null,
      "metadata": {
        "id": "hf4j4IxHHpne",
        "tags": []
      },
      "outputs": [],
      "source": [
        "df"
      ]
    },
    {
      "cell_type": "code",
      "execution_count": null,
      "metadata": {
        "id": "9uOM_3JrHpne",
        "tags": []
      },
      "outputs": [],
      "source": [
        "df.info()"
      ]
    },
    {
      "cell_type": "code",
      "execution_count": null,
      "metadata": {
        "id": "y7pz-ab9Hpnf",
        "tags": []
      },
      "outputs": [],
      "source": [
        "df['date_of_birth'] = pd.to_datetime(df['date_of_birth'],  format='%m/%d/%Y')"
      ]
    },
    {
      "cell_type": "code",
      "execution_count": null,
      "metadata": {
        "id": "9m7UZZ6uHpnf",
        "tags": []
      },
      "outputs": [],
      "source": [
        "df"
      ]
    },
    {
      "cell_type": "code",
      "execution_count": null,
      "metadata": {
        "id": "M-0uFugtHpnf",
        "tags": []
      },
      "outputs": [],
      "source": [
        "df.info()"
      ]
    },
    {
      "cell_type": "code",
      "execution_count": null,
      "metadata": {
        "id": "U4LqEd8nHpnf",
        "tags": []
      },
      "outputs": [],
      "source": [
        "df[\"todaydatetime\"] = pd.Timestamp.now()"
      ]
    },
    {
      "cell_type": "code",
      "execution_count": null,
      "metadata": {
        "id": "H7a8TkJqHpnf",
        "tags": []
      },
      "outputs": [],
      "source": [
        "df"
      ]
    },
    {
      "cell_type": "code",
      "execution_count": null,
      "metadata": {
        "id": "AmWHe3JtHpnf",
        "tags": []
      },
      "outputs": [],
      "source": [
        "df['year_of_birth'] = df['date_of_birth'].map(lambda x: x.strftime('%Y'))"
      ]
    },
    {
      "cell_type": "code",
      "execution_count": null,
      "metadata": {
        "id": "8kQl1F7rHpnf",
        "tags": []
      },
      "outputs": [],
      "source": [
        "df"
      ]
    },
    {
      "cell_type": "code",
      "execution_count": null,
      "metadata": {
        "id": "TuCycMYmHpnf",
        "tags": []
      },
      "outputs": [],
      "source": [
        "df.info()"
      ]
    },
    {
      "cell_type": "code",
      "execution_count": null,
      "metadata": {
        "id": "fgp4DoEeHpng",
        "tags": []
      },
      "outputs": [],
      "source": [
        "df[\"hour\"] = df[\"todaydatetime\"].dt.hour"
      ]
    },
    {
      "cell_type": "code",
      "execution_count": null,
      "metadata": {
        "id": "KGgVtWbQHpng",
        "tags": []
      },
      "outputs": [],
      "source": [
        "df"
      ]
    },
    {
      "cell_type": "code",
      "execution_count": null,
      "metadata": {
        "id": "SHPVgiXHHpng",
        "tags": []
      },
      "outputs": [],
      "source": [
        "df[\"todayyear\"] = pd.Timestamp.now().year"
      ]
    },
    {
      "cell_type": "code",
      "execution_count": null,
      "metadata": {
        "id": "aZmjjwTSHpng",
        "tags": []
      },
      "outputs": [],
      "source": [
        "df['year_of_birth']=df['year_of_birth'].astype(str).astype(int)\n",
        "df['year_todaydatetime']=df['todayyear'].astype(str).astype(int)"
      ]
    },
    {
      "cell_type": "code",
      "execution_count": null,
      "metadata": {
        "id": "aP8OlhW7Hpng",
        "tags": []
      },
      "outputs": [],
      "source": [
        "df.info()"
      ]
    },
    {
      "cell_type": "code",
      "execution_count": null,
      "metadata": {
        "id": "OvzvqKHKHpng",
        "tags": []
      },
      "outputs": [],
      "source": [
        "df['age'] = (df[\"year_todaydatetime\"] - df['year_of_birth'])"
      ]
    },
    {
      "cell_type": "code",
      "execution_count": null,
      "metadata": {
        "id": "MCtrp_-MHpng",
        "tags": []
      },
      "outputs": [],
      "source": [
        "df"
      ]
    },
    {
      "cell_type": "code",
      "execution_count": null,
      "metadata": {
        "id": "Bob-qG-1Hpng"
      },
      "outputs": [],
      "source": []
    }
  ],
  "metadata": {
    "colab": {
      "provenance": []
    },
    "kernelspec": {
      "display_name": "Python 3",
      "language": "python",
      "name": "python3"
    },
    "language_info": {
      "codemirror_mode": {
        "name": "ipython",
        "version": 3
      },
      "file_extension": ".py",
      "mimetype": "text/x-python",
      "name": "python",
      "nbconvert_exporter": "python",
      "pygments_lexer": "ipython3",
      "version": "3.7.6"
    },
    "toc-autonumbering": false,
    "toc-showmarkdowntxt": false
  },
  "nbformat": 4,
  "nbformat_minor": 0
}