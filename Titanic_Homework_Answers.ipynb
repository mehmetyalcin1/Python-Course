{
  "metadata": {
    "kernelspec": {
      "language": "python",
      "display_name": "Python 3",
      "name": "python3"
    },
    "language_info": {
      "name": "python",
      "version": "3.10.10",
      "mimetype": "text/x-python",
      "codemirror_mode": {
        "name": "ipython",
        "version": 3
      },
      "pygments_lexer": "ipython3",
      "nbconvert_exporter": "python",
      "file_extension": ".py"
    },
    "kaggle": {
      "accelerator": "none",
      "dataSources": [
        {
          "sourceId": 3136,
          "databundleVersionId": 26502,
          "sourceType": "competition"
        }
      ],
      "dockerImageVersionId": 30513,
      "isInternetEnabled": true,
      "language": "python",
      "sourceType": "notebook",
      "isGpuEnabled": false
    },
    "colab": {
      "provenance": []
    }
  },
  "nbformat_minor": 0,
  "nbformat": 4,
  "cells": [
    {
      "cell_type": "code",
      "source": [
        "# This Python 3 environment comes with many helpful analytics libraries installed\n",
        "# It is defined by the kaggle/python Docker image: https://github.com/kaggle/docker-python\n",
        "# For example, here's several helpful packages to load\n",
        "\n",
        "import numpy as np # linear algebra\n",
        "import pandas as pd # data processing, CSV file I/O (e.g. pd.read_csv)\n",
        "\n",
        "# Input data files are available in the read-only \"../input/\" directory\n",
        "# For example, running this (by clicking run or pressing Shift+Enter) will list all files under the input directory\n",
        "\n",
        "import os\n",
        "for dirname, _, filenames in os.walk('/kaggle/input'):\n",
        "    for filename in filenames:\n",
        "        print(os.path.join(dirname, filename))\n",
        "\n",
        "# You can write up to 20GB to the current directory (/kaggle/working/) that gets preserved as output when you create a version using \"Save & Run All\"\n",
        "# You can also write temporary files to /kaggle/temp/, but they won't be saved outside of the current session"
      ],
      "metadata": {
        "_uuid": "8f2839f25d086af736a60e9eeb907d3b93b6e0e5",
        "_cell_guid": "b1076dfc-b9ad-4769-8c92-a6c4dae69d19",
        "execution": {
          "iopub.status.busy": "2025-01-02T10:54:45.011351Z",
          "iopub.execute_input": "2025-01-02T10:54:45.011846Z",
          "iopub.status.idle": "2025-01-02T10:54:45.055407Z",
          "shell.execute_reply.started": "2025-01-02T10:54:45.011779Z",
          "shell.execute_reply": "2025-01-02T10:54:45.053854Z"
        },
        "trusted": true,
        "id": "2rNjrKBUbGXb",
        "outputId": "e7ee3ddc-28dd-4ad3-b4db-57574cdcad5a"
      },
      "outputs": [
        {
          "name": "stdout",
          "text": "/kaggle/input/titanic/train.csv\n/kaggle/input/titanic/test.csv\n/kaggle/input/titanic/gender_submission.csv\n",
          "output_type": "stream"
        }
      ],
      "execution_count": null
    },
    {
      "cell_type": "markdown",
      "source": [
        "# Import Library"
      ],
      "metadata": {
        "id": "mWyAoTdZbGXd"
      }
    },
    {
      "cell_type": "code",
      "source": [
        "#libraries\n",
        "import seaborn as sns\n",
        "import matplotlib.pyplot as plt\n",
        "import pandas as pd\n",
        "import numpy as np\n",
        "import warnings\n",
        "warnings.filterwarnings(\"ignore\")"
      ],
      "metadata": {
        "execution": {
          "iopub.status.busy": "2025-01-02T11:12:44.281994Z",
          "iopub.execute_input": "2025-01-02T11:12:44.282343Z",
          "iopub.status.idle": "2025-01-02T11:12:45.070268Z",
          "shell.execute_reply.started": "2025-01-02T11:12:44.282317Z",
          "shell.execute_reply": "2025-01-02T11:12:45.068830Z"
        },
        "trusted": true,
        "id": "zoUh_-C4bGXe"
      },
      "outputs": [],
      "execution_count": null
    },
    {
      "cell_type": "markdown",
      "source": [
        "# Import Data"
      ],
      "metadata": {
        "id": "DtU5lBPObGXf"
      }
    },
    {
      "cell_type": "code",
      "source": [
        "df_train=pd.read_csv(\"/kaggle/input/titanic/train.csv\")"
      ],
      "metadata": {
        "execution": {
          "iopub.status.busy": "2025-01-02T10:55:26.209590Z",
          "iopub.execute_input": "2025-01-02T10:55:26.209989Z",
          "iopub.status.idle": "2025-01-02T10:55:26.222892Z",
          "shell.execute_reply.started": "2025-01-02T10:55:26.209959Z",
          "shell.execute_reply": "2025-01-02T10:55:26.221864Z"
        },
        "trusted": true,
        "id": "hG-3l6y9bGXf"
      },
      "outputs": [],
      "execution_count": null
    },
    {
      "cell_type": "code",
      "source": [
        "# veriye ön bakış\n",
        "df_train.head()"
      ],
      "metadata": {
        "execution": {
          "iopub.status.busy": "2025-01-02T10:55:26.348332Z",
          "iopub.execute_input": "2025-01-02T10:55:26.349400Z",
          "iopub.status.idle": "2025-01-02T10:55:26.390654Z",
          "shell.execute_reply.started": "2025-01-02T10:55:26.349360Z",
          "shell.execute_reply": "2025-01-02T10:55:26.389618Z"
        },
        "trusted": true,
        "id": "nOHaUHKKbGXg",
        "outputId": "9fca5700-a9c5-4ec9-a387-6b6c1eb13f5e"
      },
      "outputs": [
        {
          "execution_count": 5,
          "output_type": "execute_result",
          "data": {
            "text/plain": "   PassengerId  Survived  Pclass  \\\n0            1         0       3   \n1            2         1       1   \n2            3         1       3   \n3            4         1       1   \n4            5         0       3   \n\n                                                Name     Sex   Age  SibSp  \\\n0                            Braund, Mr. Owen Harris    male  22.0      1   \n1  Cumings, Mrs. John Bradley (Florence Briggs Th...  female  38.0      1   \n2                             Heikkinen, Miss. Laina  female  26.0      0   \n3       Futrelle, Mrs. Jacques Heath (Lily May Peel)  female  35.0      1   \n4                           Allen, Mr. William Henry    male  35.0      0   \n\n   Parch            Ticket     Fare Cabin Embarked  \n0      0         A/5 21171   7.2500   NaN        S  \n1      0          PC 17599  71.2833   C85        C  \n2      0  STON/O2. 3101282   7.9250   NaN        S  \n3      0            113803  53.1000  C123        S  \n4      0            373450   8.0500   NaN        S  ",
            "text/html": "<div>\n<style scoped>\n    .dataframe tbody tr th:only-of-type {\n        vertical-align: middle;\n    }\n\n    .dataframe tbody tr th {\n        vertical-align: top;\n    }\n\n    .dataframe thead th {\n        text-align: right;\n    }\n</style>\n<table border=\"1\" class=\"dataframe\">\n  <thead>\n    <tr style=\"text-align: right;\">\n      <th></th>\n      <th>PassengerId</th>\n      <th>Survived</th>\n      <th>Pclass</th>\n      <th>Name</th>\n      <th>Sex</th>\n      <th>Age</th>\n      <th>SibSp</th>\n      <th>Parch</th>\n      <th>Ticket</th>\n      <th>Fare</th>\n      <th>Cabin</th>\n      <th>Embarked</th>\n    </tr>\n  </thead>\n  <tbody>\n    <tr>\n      <th>0</th>\n      <td>1</td>\n      <td>0</td>\n      <td>3</td>\n      <td>Braund, Mr. Owen Harris</td>\n      <td>male</td>\n      <td>22.0</td>\n      <td>1</td>\n      <td>0</td>\n      <td>A/5 21171</td>\n      <td>7.2500</td>\n      <td>NaN</td>\n      <td>S</td>\n    </tr>\n    <tr>\n      <th>1</th>\n      <td>2</td>\n      <td>1</td>\n      <td>1</td>\n      <td>Cumings, Mrs. John Bradley (Florence Briggs Th...</td>\n      <td>female</td>\n      <td>38.0</td>\n      <td>1</td>\n      <td>0</td>\n      <td>PC 17599</td>\n      <td>71.2833</td>\n      <td>C85</td>\n      <td>C</td>\n    </tr>\n    <tr>\n      <th>2</th>\n      <td>3</td>\n      <td>1</td>\n      <td>3</td>\n      <td>Heikkinen, Miss. Laina</td>\n      <td>female</td>\n      <td>26.0</td>\n      <td>0</td>\n      <td>0</td>\n      <td>STON/O2. 3101282</td>\n      <td>7.9250</td>\n      <td>NaN</td>\n      <td>S</td>\n    </tr>\n    <tr>\n      <th>3</th>\n      <td>4</td>\n      <td>1</td>\n      <td>1</td>\n      <td>Futrelle, Mrs. Jacques Heath (Lily May Peel)</td>\n      <td>female</td>\n      <td>35.0</td>\n      <td>1</td>\n      <td>0</td>\n      <td>113803</td>\n      <td>53.1000</td>\n      <td>C123</td>\n      <td>S</td>\n    </tr>\n    <tr>\n      <th>4</th>\n      <td>5</td>\n      <td>0</td>\n      <td>3</td>\n      <td>Allen, Mr. William Henry</td>\n      <td>male</td>\n      <td>35.0</td>\n      <td>0</td>\n      <td>0</td>\n      <td>373450</td>\n      <td>8.0500</td>\n      <td>NaN</td>\n      <td>S</td>\n    </tr>\n  </tbody>\n</table>\n</div>"
          },
          "metadata": {}
        }
      ],
      "execution_count": null
    },
    {
      "cell_type": "code",
      "source": [
        "# Üzerine çalışmak için datanın kopyasını alarak çalışmak için bir df oluşturduk.\n",
        "df=df_train.copy()"
      ],
      "metadata": {
        "execution": {
          "iopub.status.busy": "2025-01-02T10:55:37.766758Z",
          "iopub.execute_input": "2025-01-02T10:55:37.767582Z",
          "iopub.status.idle": "2025-01-02T10:55:37.772538Z",
          "shell.execute_reply.started": "2025-01-02T10:55:37.767543Z",
          "shell.execute_reply": "2025-01-02T10:55:37.771417Z"
        },
        "trusted": true,
        "id": "qjTBs_6xbGXh"
      },
      "outputs": [],
      "execution_count": null
    },
    {
      "cell_type": "code",
      "source": [
        "# verinin satır ve sütun sayısı\n",
        "df.shape"
      ],
      "metadata": {
        "execution": {
          "iopub.status.busy": "2025-01-02T10:56:25.778653Z",
          "iopub.execute_input": "2025-01-02T10:56:25.779743Z",
          "iopub.status.idle": "2025-01-02T10:56:25.786618Z",
          "shell.execute_reply.started": "2025-01-02T10:56:25.779705Z",
          "shell.execute_reply": "2025-01-02T10:56:25.785496Z"
        },
        "trusted": true,
        "id": "Q4etGrz5bGXh",
        "outputId": "e8c60bba-63e1-4135-96e6-d34ed20c59ff"
      },
      "outputs": [
        {
          "execution_count": 7,
          "output_type": "execute_result",
          "data": {
            "text/plain": "(891, 12)"
          },
          "metadata": {}
        }
      ],
      "execution_count": null
    },
    {
      "cell_type": "code",
      "source": [
        "# Hayatta kalanların ve kalmaynların sayıları\n",
        "df[\"Survived\"].value_counts()"
      ],
      "metadata": {
        "execution": {
          "iopub.status.busy": "2025-01-02T10:56:40.521642Z",
          "iopub.execute_input": "2025-01-02T10:56:40.522626Z",
          "iopub.status.idle": "2025-01-02T10:56:40.530344Z",
          "shell.execute_reply.started": "2025-01-02T10:56:40.522588Z",
          "shell.execute_reply": "2025-01-02T10:56:40.529192Z"
        },
        "trusted": true,
        "id": "_BNCnmolbGXi",
        "outputId": "1968b3c6-e564-4928-952a-486d35937b97"
      },
      "outputs": [
        {
          "execution_count": 9,
          "output_type": "execute_result",
          "data": {
            "text/plain": "0    549\n1    342\nName: Survived, dtype: int64"
          },
          "metadata": {}
        }
      ],
      "execution_count": null
    },
    {
      "cell_type": "markdown",
      "source": [
        "# ÖDEVLER"
      ],
      "metadata": {
        "id": "xTdUhv8ibGXi"
      }
    },
    {
      "cell_type": "markdown",
      "source": [
        "## 1. kazada ölenlerin yaş ortalaması"
      ],
      "metadata": {
        "id": "jcfgUz4qbGXj"
      }
    },
    {
      "cell_type": "code",
      "source": [
        "df.loc[df[\"Survived\"]==0][\"Age\"].mean()"
      ],
      "metadata": {
        "execution": {
          "iopub.status.busy": "2025-01-02T10:59:05.907735Z",
          "iopub.execute_input": "2025-01-02T10:59:05.908147Z",
          "iopub.status.idle": "2025-01-02T10:59:05.921429Z",
          "shell.execute_reply.started": "2025-01-02T10:59:05.908117Z",
          "shell.execute_reply": "2025-01-02T10:59:05.920163Z"
        },
        "trusted": true,
        "id": "uPEFlHw8bGXj",
        "outputId": "174f86eb-57b6-4a1c-d8f4-b6ee641b782d"
      },
      "outputs": [
        {
          "execution_count": 10,
          "output_type": "execute_result",
          "data": {
            "text/plain": "30.62617924528302"
          },
          "metadata": {}
        }
      ],
      "execution_count": null
    },
    {
      "cell_type": "markdown",
      "source": [
        "## 2.Kazada ölenlerin bilet fiyatlarının ortalamasını ve medyanını bulunuz"
      ],
      "metadata": {
        "id": "RSMqAtWrbGXj"
      }
    },
    {
      "cell_type": "code",
      "source": [
        "df.loc[df[\"Survived\"]==0][\"Fare\"].mean()\n",
        "\n",
        "#eğer yuvarlamak isterseniz mean().round(2) yapabilirsiniz"
      ],
      "metadata": {
        "execution": {
          "iopub.status.busy": "2025-01-02T11:01:05.246659Z",
          "iopub.execute_input": "2025-01-02T11:01:05.247478Z",
          "iopub.status.idle": "2025-01-02T11:01:05.256729Z",
          "shell.execute_reply.started": "2025-01-02T11:01:05.247441Z",
          "shell.execute_reply": "2025-01-02T11:01:05.255568Z"
        },
        "trusted": true,
        "id": "h1lvQBC9bGXk",
        "outputId": "e3d6113f-ff10-4396-c940-1cf392687048"
      },
      "outputs": [
        {
          "execution_count": 13,
          "output_type": "execute_result",
          "data": {
            "text/plain": "22.117886885245902"
          },
          "metadata": {}
        }
      ],
      "execution_count": null
    },
    {
      "cell_type": "code",
      "source": [
        "df.loc[df[\"Survived\"]==0][\"Fare\"].median()"
      ],
      "metadata": {
        "trusted": true,
        "execution": {
          "iopub.status.busy": "2025-01-02T11:00:20.943828Z",
          "iopub.execute_input": "2025-01-02T11:00:20.944219Z",
          "iopub.status.idle": "2025-01-02T11:00:20.955400Z",
          "shell.execute_reply.started": "2025-01-02T11:00:20.944188Z",
          "shell.execute_reply": "2025-01-02T11:00:20.954219Z"
        },
        "id": "IOsPFDdcbGXk",
        "outputId": "697900ef-23f8-4228-923a-a0e8c4302df8"
      },
      "outputs": [
        {
          "execution_count": 12,
          "output_type": "execute_result",
          "data": {
            "text/plain": "10.5"
          },
          "metadata": {}
        }
      ],
      "execution_count": null
    },
    {
      "cell_type": "markdown",
      "source": [
        "## 3.kazada ölen erkeklerin yaş ortalamasını bulunuz"
      ],
      "metadata": {
        "id": "NA0HIdbtbGXk"
      }
    },
    {
      "cell_type": "code",
      "source": [
        "\n",
        "df[(df[\"Sex\"]==\"male\") & (df[\"Survived\"]==0)][\"Age\"].mean().round(2)\n"
      ],
      "metadata": {
        "execution": {
          "iopub.status.busy": "2025-01-02T11:01:31.263933Z",
          "iopub.execute_input": "2025-01-02T11:01:31.264276Z",
          "iopub.status.idle": "2025-01-02T11:01:31.274933Z",
          "shell.execute_reply.started": "2025-01-02T11:01:31.264252Z",
          "shell.execute_reply": "2025-01-02T11:01:31.273474Z"
        },
        "trusted": true,
        "id": "lmElM8OobGXk",
        "outputId": "b545af38-ffcc-4a0d-ac06-f6694291c743"
      },
      "outputs": [
        {
          "execution_count": 14,
          "output_type": "execute_result",
          "data": {
            "text/plain": "31.62"
          },
          "metadata": {}
        }
      ],
      "execution_count": null
    },
    {
      "cell_type": "markdown",
      "source": [
        "## 4. kazada ölen kadınların yaş ortalamasını bulunuz"
      ],
      "metadata": {
        "id": "GnELWBL0bGXk"
      }
    },
    {
      "cell_type": "code",
      "source": [
        "#kazada ölen kadinlarin yaş ortalamasını bulun\n",
        "df[(df[\"Sex\"]==\"female\") & (df[\"Survived\"]==0)][\"Age\"].mean().round(2)"
      ],
      "metadata": {
        "execution": {
          "iopub.status.busy": "2025-01-02T11:01:48.079485Z",
          "iopub.execute_input": "2025-01-02T11:01:48.079914Z",
          "iopub.status.idle": "2025-01-02T11:01:48.090698Z",
          "shell.execute_reply.started": "2025-01-02T11:01:48.079879Z",
          "shell.execute_reply": "2025-01-02T11:01:48.088708Z"
        },
        "trusted": true,
        "id": "G_vlXdSbbGXl",
        "outputId": "66caba61-4b53-4db5-b4c3-ed2e24e0f7e9"
      },
      "outputs": [
        {
          "execution_count": 15,
          "output_type": "execute_result",
          "data": {
            "text/plain": "25.05"
          },
          "metadata": {}
        }
      ],
      "execution_count": null
    },
    {
      "cell_type": "markdown",
      "source": [
        "## 5.kazadan kurtulanların yaş ortalamasını bulunuz\n"
      ],
      "metadata": {
        "execution": {
          "iopub.status.busy": "2025-01-02T11:02:06.639186Z",
          "iopub.execute_input": "2025-01-02T11:02:06.639567Z",
          "iopub.status.idle": "2025-01-02T11:02:06.644662Z",
          "shell.execute_reply.started": "2025-01-02T11:02:06.639538Z",
          "shell.execute_reply": "2025-01-02T11:02:06.643250Z"
        },
        "id": "kQgXsykPbGXl"
      }
    },
    {
      "cell_type": "code",
      "source": [
        "df.loc[df[\"Survived\"]==1][\"Age\"].mean()"
      ],
      "metadata": {
        "execution": {
          "iopub.status.busy": "2025-01-02T11:02:26.673878Z",
          "iopub.execute_input": "2025-01-02T11:02:26.674248Z",
          "iopub.status.idle": "2025-01-02T11:02:26.683117Z",
          "shell.execute_reply.started": "2025-01-02T11:02:26.674218Z",
          "shell.execute_reply": "2025-01-02T11:02:26.681852Z"
        },
        "trusted": true,
        "id": "rB8rcJ1YbGXl",
        "outputId": "8ecdc336-a82e-4a1c-9b33-0cbc94953c6d"
      },
      "outputs": [
        {
          "execution_count": 18,
          "output_type": "execute_result",
          "data": {
            "text/plain": "28.343689655172415"
          },
          "metadata": {}
        }
      ],
      "execution_count": null
    },
    {
      "cell_type": "markdown",
      "source": [
        "## 6.kazadan kurtulanların yaş ortalamasını bulunuz"
      ],
      "metadata": {
        "id": "4ZreymuYbGXl"
      }
    },
    {
      "cell_type": "code",
      "source": [
        "#kazadan kurtulanların bilet fiyatlarının ortalaması\n",
        "df[df[\"Survived\"]==1][\"Fare\"].mean()"
      ],
      "metadata": {
        "execution": {
          "iopub.status.busy": "2025-01-02T11:02:48.051572Z",
          "iopub.execute_input": "2025-01-02T11:02:48.052027Z",
          "iopub.status.idle": "2025-01-02T11:02:48.060755Z",
          "shell.execute_reply.started": "2025-01-02T11:02:48.051994Z",
          "shell.execute_reply": "2025-01-02T11:02:48.059739Z"
        },
        "trusted": true,
        "id": "dbQrk0avbGXl",
        "outputId": "7ecfe6c4-86af-435a-d8b3-d912ddcae8ae"
      },
      "outputs": [
        {
          "execution_count": 19,
          "output_type": "execute_result",
          "data": {
            "text/plain": "48.39540760233918"
          },
          "metadata": {}
        }
      ],
      "execution_count": null
    },
    {
      "cell_type": "markdown",
      "source": [
        "## 7.Kazadan kurtulan toplam kişi sayısını bulunuz\n"
      ],
      "metadata": {
        "execution": {
          "iopub.status.busy": "2025-01-02T11:03:05.105764Z",
          "iopub.execute_input": "2025-01-02T11:03:05.106191Z",
          "iopub.status.idle": "2025-01-02T11:03:05.111331Z",
          "shell.execute_reply.started": "2025-01-02T11:03:05.106161Z",
          "shell.execute_reply": "2025-01-02T11:03:05.110039Z"
        },
        "id": "YbXzG_V2bGXm"
      }
    },
    {
      "cell_type": "code",
      "source": [
        "df.loc[df[\"Survived\"]==1].count()[0]"
      ],
      "metadata": {
        "execution": {
          "iopub.status.busy": "2025-01-02T11:04:50.144837Z",
          "iopub.execute_input": "2025-01-02T11:04:50.145245Z",
          "iopub.status.idle": "2025-01-02T11:04:50.158884Z",
          "shell.execute_reply.started": "2025-01-02T11:04:50.145215Z",
          "shell.execute_reply": "2025-01-02T11:04:50.157666Z"
        },
        "trusted": true,
        "id": "UFBCyYFHbGXm",
        "outputId": "2482b68c-9623-4fbb-de44-7115fea4d412"
      },
      "outputs": [
        {
          "execution_count": 23,
          "output_type": "execute_result",
          "data": {
            "text/plain": "342"
          },
          "metadata": {}
        }
      ],
      "execution_count": null
    },
    {
      "cell_type": "code",
      "source": [
        "#Kazadan kurtulan toplam kişi sayısını bulunuz\n",
        "len(df.loc[df[\"Survived\"]==1])"
      ],
      "metadata": {
        "trusted": true,
        "execution": {
          "iopub.status.busy": "2025-01-02T11:03:54.348547Z",
          "iopub.execute_input": "2025-01-02T11:03:54.348978Z",
          "iopub.status.idle": "2025-01-02T11:03:54.356850Z",
          "shell.execute_reply.started": "2025-01-02T11:03:54.348945Z",
          "shell.execute_reply": "2025-01-02T11:03:54.355585Z"
        },
        "id": "6dwI97cHbGXm",
        "outputId": "53448193-b8d6-4f98-ea35-90ce9cc6d2e1"
      },
      "outputs": [
        {
          "execution_count": 21,
          "output_type": "execute_result",
          "data": {
            "text/plain": "342"
          },
          "metadata": {}
        }
      ],
      "execution_count": null
    },
    {
      "cell_type": "markdown",
      "source": [
        "## 8. 10 yaşından küçüklerin bilet fiyatlarının medyan değerini bulunuz."
      ],
      "metadata": {
        "id": "E3oyorPgbGXm"
      }
    },
    {
      "cell_type": "code",
      "source": [
        "df[df[\"Age\"]<10][\"Fare\"].median()"
      ],
      "metadata": {
        "execution": {
          "iopub.status.busy": "2025-01-02T11:05:14.521481Z",
          "iopub.execute_input": "2025-01-02T11:05:14.521881Z",
          "iopub.status.idle": "2025-01-02T11:05:14.530501Z",
          "shell.execute_reply.started": "2025-01-02T11:05:14.521846Z",
          "shell.execute_reply": "2025-01-02T11:05:14.529393Z"
        },
        "trusted": true,
        "id": "864b1bPrbGXn",
        "outputId": "cf9244fd-272f-4c14-9c97-d8a8e5790748"
      },
      "outputs": [
        {
          "execution_count": 24,
          "output_type": "execute_result",
          "data": {
            "text/plain": "27.0"
          },
          "metadata": {}
        }
      ],
      "execution_count": null
    },
    {
      "cell_type": "markdown",
      "source": [
        "## 9. 1.sınıf, 2.sınıf ve 3.sınıf bilet fiyatlarının ortalama ve medyanlarını karşılaştırınız.\n"
      ],
      "metadata": {
        "execution": {
          "iopub.status.busy": "2025-01-02T11:05:25.355612Z",
          "iopub.execute_input": "2025-01-02T11:05:25.356048Z",
          "iopub.status.idle": "2025-01-02T11:05:25.361196Z",
          "shell.execute_reply.started": "2025-01-02T11:05:25.356007Z",
          "shell.execute_reply": "2025-01-02T11:05:25.359876Z"
        },
        "id": "arPkw7sHbGXn"
      }
    },
    {
      "cell_type": "code",
      "source": [
        "# mean\n",
        "df.groupby(\"Pclass\")[\"Fare\"].mean()"
      ],
      "metadata": {
        "execution": {
          "iopub.status.busy": "2025-01-02T11:06:54.489816Z",
          "iopub.execute_input": "2025-01-02T11:06:54.490338Z",
          "iopub.status.idle": "2025-01-02T11:06:54.502240Z",
          "shell.execute_reply.started": "2025-01-02T11:06:54.490294Z",
          "shell.execute_reply": "2025-01-02T11:06:54.500913Z"
        },
        "trusted": true,
        "id": "lW6dZxgpbGXn",
        "outputId": "fd48097e-e77c-461b-c7d5-a61ee8073f18"
      },
      "outputs": [
        {
          "execution_count": 31,
          "output_type": "execute_result",
          "data": {
            "text/plain": "Pclass\n1    84.154687\n2    20.662183\n3    13.675550\nName: Fare, dtype: float64"
          },
          "metadata": {}
        }
      ],
      "execution_count": null
    },
    {
      "cell_type": "code",
      "source": [
        "# median\n",
        "df.groupby(\"Pclass\")[\"Fare\"].median()"
      ],
      "metadata": {
        "execution": {
          "iopub.status.busy": "2025-01-02T11:06:54.601283Z",
          "iopub.execute_input": "2025-01-02T11:06:54.601836Z",
          "iopub.status.idle": "2025-01-02T11:06:54.614652Z",
          "shell.execute_reply.started": "2025-01-02T11:06:54.601769Z",
          "shell.execute_reply": "2025-01-02T11:06:54.612923Z"
        },
        "trusted": true,
        "id": "wuESXOjMbGXo",
        "outputId": "058342f9-e48b-4ffb-bbd4-c6b5c7d70189"
      },
      "outputs": [
        {
          "execution_count": 32,
          "output_type": "execute_result",
          "data": {
            "text/plain": "Pclass\n1    60.2875\n2    14.2500\n3     8.0500\nName: Fare, dtype: float64"
          },
          "metadata": {}
        }
      ],
      "execution_count": null
    },
    {
      "cell_type": "code",
      "source": [
        "# değişken özelinde  sonuç aradığım zaman agg kullanmak daha kolaylık sağlayacaktır.\n",
        "df.groupby(\"Pclass\").agg({\"Fare\":[\"mean\",\"median\"]})"
      ],
      "metadata": {
        "execution": {
          "iopub.status.busy": "2025-01-02T11:07:21.625890Z",
          "iopub.execute_input": "2025-01-02T11:07:21.626296Z",
          "iopub.status.idle": "2025-01-02T11:07:21.642346Z",
          "shell.execute_reply.started": "2025-01-02T11:07:21.626267Z",
          "shell.execute_reply": "2025-01-02T11:07:21.641300Z"
        },
        "trusted": true,
        "id": "jeZStGnkbGXo",
        "outputId": "2ed5cfe9-3acc-45d7-ea00-159150a09b12"
      },
      "outputs": [
        {
          "execution_count": 34,
          "output_type": "execute_result",
          "data": {
            "text/plain": "             Fare         \n             mean   median\nPclass                    \n1       84.154687  60.2875\n2       20.662183  14.2500\n3       13.675550   8.0500",
            "text/html": "<div>\n<style scoped>\n    .dataframe tbody tr th:only-of-type {\n        vertical-align: middle;\n    }\n\n    .dataframe tbody tr th {\n        vertical-align: top;\n    }\n\n    .dataframe thead tr th {\n        text-align: left;\n    }\n\n    .dataframe thead tr:last-of-type th {\n        text-align: right;\n    }\n</style>\n<table border=\"1\" class=\"dataframe\">\n  <thead>\n    <tr>\n      <th></th>\n      <th colspan=\"2\" halign=\"left\">Fare</th>\n    </tr>\n    <tr>\n      <th></th>\n      <th>mean</th>\n      <th>median</th>\n    </tr>\n    <tr>\n      <th>Pclass</th>\n      <th></th>\n      <th></th>\n    </tr>\n  </thead>\n  <tbody>\n    <tr>\n      <th>1</th>\n      <td>84.154687</td>\n      <td>60.2875</td>\n    </tr>\n    <tr>\n      <th>2</th>\n      <td>20.662183</td>\n      <td>14.2500</td>\n    </tr>\n    <tr>\n      <th>3</th>\n      <td>13.675550</td>\n      <td>8.0500</td>\n    </tr>\n  </tbody>\n</table>\n</div>"
          },
          "metadata": {}
        }
      ],
      "execution_count": null
    },
    {
      "cell_type": "markdown",
      "source": [
        "## 10. Kazada ölen kadınların oranı ile erkeklerin oranını karşılaştırınız.\n",
        "\n",
        "(Örnek: erkekler için; ölen erkeklerin, erkek sayısına bölümü bu oranı vermektedir.\n"
      ],
      "metadata": {
        "execution": {
          "iopub.status.busy": "2025-01-02T11:08:05.106604Z",
          "iopub.execute_input": "2025-01-02T11:08:05.107001Z",
          "iopub.status.idle": "2025-01-02T11:08:05.114174Z",
          "shell.execute_reply.started": "2025-01-02T11:08:05.106971Z",
          "shell.execute_reply": "2025-01-02T11:08:05.112848Z"
        },
        "id": "Idkwn-nbbGXo"
      }
    },
    {
      "cell_type": "code",
      "source": [
        "# kazada ölen erkeklerin sayısını, tüm erkeklerşn sayısına bölersek orana ulaşırız.\n",
        "len(df.loc[(df[\"Survived\"]==0) & (df[\"Sex\"]==\"male\")]) / len(df.loc[df[\"Sex\"]==\"male\"])"
      ],
      "metadata": {
        "execution": {
          "iopub.status.busy": "2025-01-02T11:10:04.407913Z",
          "iopub.execute_input": "2025-01-02T11:10:04.408308Z",
          "iopub.status.idle": "2025-01-02T11:10:04.417994Z",
          "shell.execute_reply.started": "2025-01-02T11:10:04.408279Z",
          "shell.execute_reply": "2025-01-02T11:10:04.416806Z"
        },
        "trusted": true,
        "id": "bn2KKBbNbGXo",
        "outputId": "cca95383-b427-4dcc-9fa1-0d4736caa2b5"
      },
      "outputs": [
        {
          "execution_count": 40,
          "output_type": "execute_result",
          "data": {
            "text/plain": "0.8110918544194108"
          },
          "metadata": {}
        }
      ],
      "execution_count": null
    },
    {
      "cell_type": "code",
      "source": [
        "# kazada ölen kadınların sayısını, tüm kadınların sayısına bölersek orana ulaşırız.\n",
        "len(df.loc[(df[\"Survived\"]==0) & (df[\"Sex\"]==\"female\")]) / len(df.loc[df[\"Sex\"]==\"female\"])"
      ],
      "metadata": {
        "execution": {
          "iopub.status.busy": "2025-01-02T11:10:05.744373Z",
          "iopub.execute_input": "2025-01-02T11:10:05.744768Z",
          "iopub.status.idle": "2025-01-02T11:10:05.753765Z",
          "shell.execute_reply.started": "2025-01-02T11:10:05.744738Z",
          "shell.execute_reply": "2025-01-02T11:10:05.752692Z"
        },
        "trusted": true,
        "id": "PlaLjS1NbGXo",
        "outputId": "26fc13eb-8385-4fc0-bbf5-6becbd1991fc"
      },
      "outputs": [
        {
          "execution_count": 41,
          "output_type": "execute_result",
          "data": {
            "text/plain": "0.25796178343949044"
          },
          "metadata": {}
        }
      ],
      "execution_count": null
    },
    {
      "cell_type": "markdown",
      "source": [
        "### Sonuç olarak erkeklerin ölme oranı (0.81), kadınların ölme oranından (0.25) daha fazladır."
      ],
      "metadata": {
        "id": "D9R4UugbbGXp"
      }
    },
    {
      "cell_type": "markdown",
      "source": [
        "## Veri üzerine görselleştirmeler"
      ],
      "metadata": {
        "id": "mobZ9LX9bGXp"
      }
    },
    {
      "cell_type": "markdown",
      "source": [
        "### Yaş dağılımı"
      ],
      "metadata": {
        "id": "PwYduNK0bGXp"
      }
    },
    {
      "cell_type": "code",
      "source": [
        "#figsize ile grafikler genişletilebilir\n",
        "plt.figure(figsize=(8,5))\n",
        "sns.distplot(df[\"Age\"],color=\"blue\")"
      ],
      "metadata": {
        "trusted": true,
        "execution": {
          "iopub.status.busy": "2025-01-02T11:12:49.404693Z",
          "iopub.execute_input": "2025-01-02T11:12:49.405119Z",
          "iopub.status.idle": "2025-01-02T11:12:49.769258Z",
          "shell.execute_reply.started": "2025-01-02T11:12:49.405088Z",
          "shell.execute_reply": "2025-01-02T11:12:49.768137Z"
        },
        "id": "sB1RSVQJbGXp",
        "outputId": "170f8ee6-8632-40f3-d487-589b09aec630"
      },
      "outputs": [
        {
          "execution_count": 44,
          "output_type": "execute_result",
          "data": {
            "text/plain": "<Axes: xlabel='Age', ylabel='Density'>"
          },
          "metadata": {}
        },
        {
          "output_type": "display_data",
          "data": {
            "text/plain": "<Figure size 800x500 with 1 Axes>",
            "image/png": "[encoded data removed]"
          },
          "metadata": {}
        }
      ],
      "execution_count": null
    },
    {
      "cell_type": "markdown",
      "source": [
        "### Bilet Fiyatlarının Dağılımı"
      ],
      "metadata": {
        "execution": {
          "iopub.status.busy": "2025-01-02T11:16:36.177855Z",
          "iopub.execute_input": "2025-01-02T11:16:36.178243Z",
          "iopub.status.idle": "2025-01-02T11:16:36.183409Z",
          "shell.execute_reply.started": "2025-01-02T11:16:36.178214Z",
          "shell.execute_reply": "2025-01-02T11:16:36.182162Z"
        },
        "id": "Hu1fzmdObGXu"
      }
    },
    {
      "cell_type": "code",
      "source": [
        "#figsize ile grafikler genişletilebilir\n",
        "plt.figure(figsize=(8,5))\n",
        "sns.distplot(df[\"Fare\"],color=\"blue\")"
      ],
      "metadata": {
        "trusted": true,
        "execution": {
          "iopub.status.busy": "2025-01-02T11:12:49.771414Z",
          "iopub.execute_input": "2025-01-02T11:12:49.771876Z",
          "iopub.status.idle": "2025-01-02T11:12:50.175078Z",
          "shell.execute_reply.started": "2025-01-02T11:12:49.771837Z",
          "shell.execute_reply": "2025-01-02T11:12:50.174010Z"
        },
        "id": "22kU82T1bGXu",
        "outputId": "5c38ca43-005a-406b-83ec-f93c2463385a"
      },
      "outputs": [
        {
          "execution_count": 45,
          "output_type": "execute_result",
          "data": {
            "text/plain": "<Axes: xlabel='Fare', ylabel='Density'>"
          },
          "metadata": {}
        },
        {
          "output_type": "display_data",
          "data": {
            "text/plain": "<Figure size 800x500 with 1 Axes>",
            "image/png": "[encoded data removed]"
          },
          "metadata": {}
        }
      ],
      "execution_count": null
    },
    {
      "cell_type": "markdown",
      "source": [
        "### Kazada ölenlerin ve ölmeyenlerin yaş ortalaması (catplot)"
      ],
      "metadata": {
        "id": "qrY5_T8QbGXu"
      }
    },
    {
      "cell_type": "code",
      "source": [
        "# Hayatını kaybedenlerin yaş ortalaması daha fazladır.\n",
        "sns.catplot(x=\"Survived\",y=\"Age\",data=df, kind=\"bar\")\n",
        "plt.show()"
      ],
      "metadata": {
        "trusted": true,
        "execution": {
          "iopub.status.busy": "2025-01-02T11:15:22.754411Z",
          "iopub.execute_input": "2025-01-02T11:15:22.754838Z",
          "iopub.status.idle": "2025-01-02T11:15:23.082763Z",
          "shell.execute_reply.started": "2025-01-02T11:15:22.754776Z",
          "shell.execute_reply": "2025-01-02T11:15:23.081499Z"
        },
        "id": "TEyA5YZPbGXv",
        "outputId": "c6311e92-a59c-405a-8f6a-9df06037d843"
      },
      "outputs": [
        {
          "output_type": "display_data",
          "data": {
            "text/plain": "<Figure size 500x500 with 1 Axes>",
            "image/png": "[encoded data removed]"
          },
          "metadata": {}
        }
      ],
      "execution_count": null
    },
    {
      "cell_type": "markdown",
      "source": [
        "### Kazada ölenlerin ve ölmeyenlerin biley fiyatı ortalaması (catplot)"
      ],
      "metadata": {
        "id": "IyRNWygMbGXv"
      }
    },
    {
      "cell_type": "code",
      "source": [
        "# hayatta kalanların ödediği bilet fiyatlarının ortlaması daha fazladır.\n",
        "sns.catplot(x=\"Survived\",y=\"Fare\",data=df, kind=\"bar\")\n",
        "plt.show()"
      ],
      "metadata": {
        "trusted": true,
        "execution": {
          "iopub.status.busy": "2025-01-02T11:15:57.159725Z",
          "iopub.execute_input": "2025-01-02T11:15:57.160109Z",
          "iopub.status.idle": "2025-01-02T11:15:57.519479Z",
          "shell.execute_reply.started": "2025-01-02T11:15:57.160082Z",
          "shell.execute_reply": "2025-01-02T11:15:57.518134Z"
        },
        "id": "44LdwN9ybGXv",
        "outputId": "f3880a0a-2238-4a76-c565-4eb077872167"
      },
      "outputs": [
        {
          "output_type": "display_data",
          "data": {
            "text/plain": "<Figure size 500x500 with 1 Axes>",
            "image/png": "[encoded data removed]"
          },
          "metadata": {}
        }
      ],
      "execution_count": null
    },
    {
      "cell_type": "code",
      "source": [],
      "metadata": {
        "trusted": true,
        "id": "fEdpEs_ybGXv"
      },
      "outputs": [],
      "execution_count": null
    }
  ]
}